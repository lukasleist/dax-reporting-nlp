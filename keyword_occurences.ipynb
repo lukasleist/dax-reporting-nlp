{
 "cells": [
  {
   "cell_type": "markdown",
   "id": "52931b26",
   "metadata": {},
   "source": [
    "# DAX Reporting NLP"
   ]
  },
  {
   "cell_type": "code",
   "execution_count": 1,
   "id": "80a92963",
   "metadata": {},
   "outputs": [],
   "source": [
    "from IPython.display import HTML, display\n",
    "import os\n",
    "import time\n",
    "import requests\n",
    "from requests_html import HTMLSession\n",
    "import fitz # this ist pymupdf\n",
    "from nltk import FreqDist\n",
    "from nltk.tokenize import word_tokenize, MWETokenizer"
   ]
  },
  {
   "cell_type": "markdown",
   "id": "52449dec",
   "metadata": {},
   "source": [
    "## Downloading Reports\n",
    "Reports are gathered from an verview page maintained at `boersengefluester.de`."
   ]
  },
  {
   "cell_type": "code",
   "execution_count": 2,
   "id": "545ffb06",
   "metadata": {},
   "outputs": [],
   "source": [
    "reporting_overview_url = 'https://boersengefluester.de/download-der-dax-geschaftsberichte-von-2007-bis-2018/'\n",
    "download_folder = './downloads'\n",
    "session = HTMLSession()\n",
    "r = session.get(reporting_overview_url)"
   ]
  },
  {
   "cell_type": "code",
   "execution_count": 3,
   "id": "05a75cee",
   "metadata": {},
   "outputs": [
    {
     "name": "stdout",
     "output_type": "stream",
     "text": [
      "Links to 391 reports found\n"
     ]
    },
    {
     "data": {
      "text/plain": [
       "[('Beiersdorf',\n",
       "  2015,\n",
       "  'https://boersengefluester.de/wp-content/uploads/assets/annuals/2015/520000.pdf'),\n",
       " ('Beiersdorf',\n",
       "  2016,\n",
       "  'https://boersengefluester.de/wp-content/uploads/assets/annuals/2016/520000.pdf'),\n",
       " ('Beiersdorf',\n",
       "  2017,\n",
       "  'https://boersengefluester.de/wp-content/uploads/assets/annuals/2017/520000.pdf'),\n",
       " ('Beiersdorf',\n",
       "  2018,\n",
       "  'https://boersengefluester.de/wp-content/uploads/assets/annuals/2018/520000.pdf'),\n",
       " ('Beiersdorf',\n",
       "  2019,\n",
       "  'https://boersengefluester.de/wp-content/uploads/assets/annuals/2019/520000.pdf'),\n",
       " ('Beiersdorf',\n",
       "  2020,\n",
       "  'https://boersengefluester.de/wp-content/uploads/assets/annuals/2020/520000.pdf')]"
      ]
     },
     "execution_count": 3,
     "metadata": {},
     "output_type": "execute_result"
    }
   ],
   "source": [
    "report_links = r.html.xpath('//table[@class=\"ath_table\"] // a[img][starts-with(@title, \"Geschäftsbericht\")]')\n",
    "print('Links to {} reports found'.format(len(report_links)))\n",
    "\n",
    "# list of tuples like (company, year, report_url)\n",
    "reports_information = [(\"_\".join(r.attrs['title'].split()[1:-3]), r.attrs['title'].split()[-3], r.absolute_links.pop()) for r in report_links]\n",
    "\n",
    "#manually add beiersdorf as not any more in overview (kicked from dax as of 2021)\n",
    "reports_information += [\n",
    "    (\"Beiersdorf\", year, 'https://boersengefluester.de/wp-content/uploads/assets/annuals/{}/520000.pdf'.format(year)) for year in range(2015, 2021)\n",
    "]\n",
    "\n",
    "reports_information[-6:]"
   ]
  },
  {
   "cell_type": "code",
   "execution_count": 4,
   "id": "1c56e01a",
   "metadata": {},
   "outputs": [
    {
     "name": "stdout",
     "output_type": "stream",
     "text": [
      "Download directory already exists, delete to re-download reports\n"
     ]
    }
   ],
   "source": [
    "try:\n",
    "    os.makedirs(download_folder)\n",
    "    print('Created Download directory, proceed downloading reports')\n",
    "    \n",
    "    counter = 0\n",
    "    for company, year, url in reports_information:\n",
    "        print('Downloading: ', url)\n",
    "\n",
    "        response = requests.get(url)\n",
    "        with open('{}/{}-{}.pdf'.format(download_folder, company, year), 'wb') as fp:\n",
    "            fp.write(response.content)\n",
    "            print(\"Saved: \", '{}-{}.pdf'.format(company, year))\n",
    "            counter += 1\n",
    "\n",
    "        print(\"Waiting for 3 seconds\")\n",
    "        time.sleep(3) # wait to not overrun server...\n",
    "\n",
    "    print('Succedfully downloaded ', counter, ' reports.')\n",
    "except:\n",
    "    print('Download directory already exists, delete to re-download reports')"
   ]
  },
  {
   "cell_type": "markdown",
   "id": "6ce605ef",
   "metadata": {},
   "source": [
    "## Analyze Reports\n",
    "counting the occurence of several words and its synonyms"
   ]
  },
  {
   "cell_type": "code",
   "execution_count": 5,
   "id": "b6c825c3",
   "metadata": {},
   "outputs": [],
   "source": [
    "digital_keywords = [\n",
    "    ('digitalisierung'),\n",
    "    ('digitalization'),\n",
    "    ('digitalisation'),\n",
    "    ('digital', 'transformation'),\n",
    "    ('digitale', 'transformation'),\n",
    "    ('digital', 'innovation'),\n",
    "    ('digitale', 'innovation'),\n",
    "    ('digital', 'business', 'strategy')\n",
    "]\n",
    "cdo_keywords = [\n",
    "    ('cdo'),\n",
    "    ('chief', 'digital', 'officier'),\n",
    "    ('chief', 'digital', 'officer')\n",
    "]\n",
    "\n",
    "keyword_mwe_tokenizer = MWETokenizer(digital_keywords + cdo_keywords)"
   ]
  },
  {
   "cell_type": "code",
   "execution_count": 7,
   "id": "6d7dff34",
   "metadata": {},
   "outputs": [
    {
     "name": "stderr",
     "output_type": "stream",
     "text": [
      "mupdf: invalid page object\n",
      "mupdf: invalid page object\n",
      "mupdf: invalid page object\n",
      "mupdf: invalid page object\n",
      "mupdf: invalid page object\n",
      "mupdf: invalid page object\n",
      "mupdf: invalid page object\n",
      "mupdf: invalid page object\n",
      "mupdf: invalid page object\n",
      "mupdf: invalid page object\n",
      "mupdf: invalid page object\n",
      "mupdf: invalid page object\n",
      "mupdf: invalid page object\n",
      "mupdf: invalid page object\n",
      "mupdf: invalid page object\n",
      "mupdf: invalid page object\n",
      "mupdf: invalid page object\n",
      "mupdf: invalid page object\n",
      "mupdf: invalid page object\n",
      "mupdf: invalid page object\n",
      "mupdf: invalid page object\n",
      "mupdf: invalid page object\n",
      "mupdf: invalid page object\n"
     ]
    }
   ],
   "source": [
    "occurences = []\n",
    "for company, year, _ in reports_information:\n",
    "    with fitz.open('{}/{}-{}.pdf'.format(download_folder, company, year)) as doc:\n",
    "        text = \"\"\n",
    "        for page in doc:\n",
    "            text += page.getText().lower()\n",
    "        \n",
    "        tokens = [w for w in word_tokenize(text) if w.isalpha()]\n",
    "        tokens = keyword_mwe_tokenizer.tokenize(tokens)\n",
    "        freqDist = FreqDist(tokens)\n",
    "        \n",
    "        digital_occurences = sum(freqDist['_'.join(k)] for k in digital_keywords)\n",
    "        cdo_occurences = sum(freqDist['_'.join(k)] for k in cdo_keywords)\n",
    "        occurences.append(\n",
    "            (company, year, digital_occurences, cdo_occurences)\n",
    "        )"
   ]
  },
  {
   "cell_type": "code",
   "execution_count": 8,
   "id": "d15c5d0f",
   "metadata": {},
   "outputs": [
    {
     "data": {
      "text/html": [
       "\n",
       "<table>\n",
       "    <thead><th>Company</th><th>Year</th><th>Occurences Digital</th><th>Occurences CDO</th></thead>\n",
       "    <tbody>\n",
       "        <tr><td>Adidas</td><td>2007</td><td>0</td><td>0</td></tr><tr><td>Adidas</td><td>2008</td><td>0</td><td>0</td></tr><tr><td>Adidas</td><td>2009</td><td>0</td><td>0</td></tr><tr><td>Adidas</td><td>2010</td><td>0</td><td>0</td></tr><tr><td>Adidas</td><td>2011</td><td>0</td><td>0</td></tr><tr><td>Adidas</td><td>2012</td><td>0</td><td>0</td></tr><tr><td>Adidas</td><td>2013</td><td>0</td><td>0</td></tr><tr><td>Adidas</td><td>2014</td><td>0</td><td>0</td></tr><tr><td>Adidas</td><td>2015</td><td>0</td><td>0</td></tr><tr><td>Adidas</td><td>2016</td><td>2</td><td>0</td></tr><tr><td>Adidas</td><td>2017</td><td>3</td><td>0</td></tr><tr><td>Adidas</td><td>2018</td><td>4</td><td>0</td></tr><tr><td>Adidas</td><td>2019</td><td>2</td><td>0</td></tr><tr><td>Adidas</td><td>2020</td><td>4</td><td>0</td></tr><tr><td>Allianz</td><td>2007</td><td>0</td><td>0</td></tr><tr><td>Allianz</td><td>2008</td><td>0</td><td>0</td></tr><tr><td>Allianz</td><td>2009</td><td>0</td><td>0</td></tr><tr><td>Allianz</td><td>2010</td><td>0</td><td>0</td></tr><tr><td>Allianz</td><td>2011</td><td>0</td><td>0</td></tr><tr><td>Allianz</td><td>2012</td><td>0</td><td>0</td></tr><tr><td>Allianz</td><td>2013</td><td>0</td><td>0</td></tr><tr><td>Allianz</td><td>2014</td><td>0</td><td>0</td></tr><tr><td>Allianz</td><td>2015</td><td>0</td><td>0</td></tr><tr><td>Allianz</td><td>2016</td><td>0</td><td>0</td></tr><tr><td>Allianz</td><td>2017</td><td>0</td><td>0</td></tr><tr><td>Allianz</td><td>2018</td><td>0</td><td>0</td></tr><tr><td>Allianz</td><td>2019</td><td>2</td><td>0</td></tr><tr><td>Allianz</td><td>2020</td><td>2</td><td>0</td></tr><tr><td>BASF</td><td>2007</td><td>0</td><td>0</td></tr><tr><td>BASF</td><td>2008</td><td>0</td><td>0</td></tr><tr><td>BASF</td><td>2009</td><td>0</td><td>0</td></tr><tr><td>BASF</td><td>2010</td><td>0</td><td>0</td></tr><tr><td>BASF</td><td>2011</td><td>0</td><td>0</td></tr><tr><td>BASF</td><td>2012</td><td>0</td><td>0</td></tr><tr><td>BASF</td><td>2013</td><td>0</td><td>0</td></tr><tr><td>BASF</td><td>2014</td><td>0</td><td>0</td></tr><tr><td>BASF</td><td>2015</td><td>0</td><td>0</td></tr><tr><td>BASF</td><td>2016</td><td>4</td><td>0</td></tr><tr><td>BASF</td><td>2017</td><td>0</td><td>0</td></tr><tr><td>BASF</td><td>2018</td><td>1</td><td>0</td></tr><tr><td>BASF</td><td>2019</td><td>0</td><td>0</td></tr><tr><td>BASF</td><td>2020</td><td>2</td><td>0</td></tr><tr><td>Bayer</td><td>2007</td><td>0</td><td>0</td></tr><tr><td>Bayer</td><td>2008</td><td>0</td><td>0</td></tr><tr><td>Bayer</td><td>2009</td><td>0</td><td>0</td></tr><tr><td>Bayer</td><td>2010</td><td>0</td><td>0</td></tr><tr><td>Bayer</td><td>2011</td><td>0</td><td>0</td></tr><tr><td>Bayer</td><td>2012</td><td>0</td><td>0</td></tr><tr><td>Bayer</td><td>2013</td><td>0</td><td>0</td></tr><tr><td>Bayer</td><td>2014</td><td>0</td><td>0</td></tr><tr><td>Bayer</td><td>2015</td><td>0</td><td>0</td></tr><tr><td>Bayer</td><td>2016</td><td>0</td><td>0</td></tr><tr><td>Bayer</td><td>2017</td><td>0</td><td>0</td></tr><tr><td>Bayer</td><td>2018</td><td>4</td><td>0</td></tr><tr><td>Bayer</td><td>2019</td><td>2</td><td>0</td></tr><tr><td>Bayer</td><td>2020</td><td>8</td><td>0</td></tr><tr><td>BMW_ST</td><td>2007</td><td>0</td><td>0</td></tr><tr><td>BMW_ST</td><td>2008</td><td>0</td><td>0</td></tr><tr><td>BMW_ST</td><td>2009</td><td>0</td><td>0</td></tr><tr><td>BMW_ST</td><td>2010</td><td>0</td><td>0</td></tr><tr><td>BMW_ST</td><td>2011</td><td>0</td><td>0</td></tr><tr><td>BMW_ST</td><td>2012</td><td>0</td><td>0</td></tr><tr><td>BMW_ST</td><td>2013</td><td>0</td><td>0</td></tr><tr><td>BMW_ST</td><td>2014</td><td>0</td><td>0</td></tr><tr><td>BMW_ST</td><td>2015</td><td>0</td><td>0</td></tr><tr><td>BMW_ST</td><td>2016</td><td>0</td><td>0</td></tr><tr><td>BMW_ST</td><td>2017</td><td>0</td><td>0</td></tr><tr><td>BMW_ST</td><td>2018</td><td>0</td><td>0</td></tr><tr><td>BMW_ST</td><td>2019</td><td>0</td><td>0</td></tr><tr><td>BMW_ST</td><td>2020</td><td>1</td><td>0</td></tr><tr><td>Continental</td><td>2007</td><td>0</td><td>0</td></tr><tr><td>Continental</td><td>2008</td><td>0</td><td>0</td></tr><tr><td>Continental</td><td>2009</td><td>0</td><td>0</td></tr><tr><td>Continental</td><td>2010</td><td>0</td><td>0</td></tr><tr><td>Continental</td><td>2011</td><td>0</td><td>0</td></tr><tr><td>Continental</td><td>2012</td><td>0</td><td>0</td></tr><tr><td>Continental</td><td>2013</td><td>0</td><td>0</td></tr><tr><td>Continental</td><td>2014</td><td>0</td><td>0</td></tr><tr><td>Continental</td><td>2015</td><td>0</td><td>0</td></tr><tr><td>Continental</td><td>2016</td><td>2</td><td>0</td></tr><tr><td>Continental</td><td>2017</td><td>2</td><td>0</td></tr><tr><td>Continental</td><td>2018</td><td>0</td><td>0</td></tr><tr><td>Continental</td><td>2019</td><td>0</td><td>0</td></tr><tr><td>Continental</td><td>2020</td><td>0</td><td>0</td></tr><tr><td>Covestro</td><td>2015</td><td>0</td><td>0</td></tr><tr><td>Covestro</td><td>2016</td><td>0</td><td>0</td></tr><tr><td>Covestro</td><td>2017</td><td>0</td><td>0</td></tr><tr><td>Covestro</td><td>2018</td><td>2</td><td>0</td></tr><tr><td>Covestro</td><td>2019</td><td>2</td><td>0</td></tr><tr><td>Covestro</td><td>2020</td><td>0</td><td>0</td></tr><tr><td>Daimler</td><td>2007</td><td>0</td><td>0</td></tr><tr><td>Daimler</td><td>2008</td><td>0</td><td>0</td></tr><tr><td>Daimler</td><td>2009</td><td>0</td><td>0</td></tr><tr><td>Daimler</td><td>2010</td><td>0</td><td>0</td></tr><tr><td>Daimler</td><td>2011</td><td>0</td><td>0</td></tr><tr><td>Daimler</td><td>2012</td><td>0</td><td>0</td></tr><tr><td>Daimler</td><td>2013</td><td>0</td><td>0</td></tr><tr><td>Daimler</td><td>2014</td><td>0</td><td>0</td></tr><tr><td>Daimler</td><td>2015</td><td>1</td><td>0</td></tr><tr><td>Daimler</td><td>2016</td><td>2</td><td>0</td></tr><tr><td>Daimler</td><td>2017</td><td>1</td><td>0</td></tr><tr><td>Daimler</td><td>2018</td><td>0</td><td>0</td></tr><tr><td>Daimler</td><td>2019</td><td>1</td><td>0</td></tr><tr><td>Daimler</td><td>2020</td><td>1</td><td>0</td></tr><tr><td>Delivery_Hero</td><td>2014</td><td>0</td><td>0</td></tr><tr><td>Delivery_Hero</td><td>2015</td><td>0</td><td>0</td></tr><tr><td>Delivery_Hero</td><td>2016</td><td>0</td><td>0</td></tr><tr><td>Delivery_Hero</td><td>2017</td><td>0</td><td>0</td></tr><tr><td>Delivery_Hero</td><td>2018</td><td>0</td><td>0</td></tr><tr><td>Delivery_Hero</td><td>2019</td><td>0</td><td>0</td></tr><tr><td>Deutsche_Bank</td><td>2007</td><td>0</td><td>0</td></tr><tr><td>Deutsche_Bank</td><td>2008</td><td>0</td><td>0</td></tr><tr><td>Deutsche_Bank</td><td>2009</td><td>0</td><td>0</td></tr><tr><td>Deutsche_Bank</td><td>2010</td><td>0</td><td>0</td></tr><tr><td>Deutsche_Bank</td><td>2011</td><td>0</td><td>0</td></tr><tr><td>Deutsche_Bank</td><td>2012</td><td>0</td><td>0</td></tr><tr><td>Deutsche_Bank</td><td>2013</td><td>0</td><td>0</td></tr><tr><td>Deutsche_Bank</td><td>2014</td><td>0</td><td>0</td></tr><tr><td>Deutsche_Bank</td><td>2015</td><td>1</td><td>0</td></tr><tr><td>Deutsche_Bank</td><td>2016</td><td>2</td><td>0</td></tr><tr><td>Deutsche_Bank</td><td>2017</td><td>3</td><td>0</td></tr><tr><td>Deutsche_Bank</td><td>2018</td><td>0</td><td>0</td></tr><tr><td>Deutsche_Bank</td><td>2019</td><td>0</td><td>0</td></tr><tr><td>Deutsche_Bank</td><td>2020</td><td>3</td><td>0</td></tr><tr><td>Deutsche_Börse</td><td>2007</td><td>0</td><td>0</td></tr><tr><td>Deutsche_Börse</td><td>2008</td><td>0</td><td>0</td></tr><tr><td>Deutsche_Börse</td><td>2009</td><td>0</td><td>0</td></tr><tr><td>Deutsche_Börse</td><td>2010</td><td>0</td><td>0</td></tr><tr><td>Deutsche_Börse</td><td>2011</td><td>0</td><td>0</td></tr><tr><td>Deutsche_Börse</td><td>2012</td><td>0</td><td>0</td></tr><tr><td>Deutsche_Börse</td><td>2013</td><td>0</td><td>0</td></tr><tr><td>Deutsche_Börse</td><td>2014</td><td>0</td><td>0</td></tr><tr><td>Deutsche_Börse</td><td>2015</td><td>0</td><td>0</td></tr><tr><td>Deutsche_Börse</td><td>2016</td><td>0</td><td>0</td></tr><tr><td>Deutsche_Börse</td><td>2017</td><td>0</td><td>0</td></tr><tr><td>Deutsche_Börse</td><td>2018</td><td>0</td><td>0</td></tr><tr><td>Deutsche_Börse</td><td>2019</td><td>0</td><td>0</td></tr><tr><td>Deutsche_Börse</td><td>2020</td><td>0</td><td>0</td></tr><tr><td>Deutsche_Post</td><td>2007</td><td>0</td><td>0</td></tr><tr><td>Deutsche_Post</td><td>2008</td><td>0</td><td>0</td></tr><tr><td>Deutsche_Post</td><td>2009</td><td>0</td><td>0</td></tr><tr><td>Deutsche_Post</td><td>2010</td><td>0</td><td>0</td></tr><tr><td>Deutsche_Post</td><td>2011</td><td>0</td><td>0</td></tr><tr><td>Deutsche_Post</td><td>2012</td><td>0</td><td>0</td></tr><tr><td>Deutsche_Post</td><td>2013</td><td>0</td><td>0</td></tr><tr><td>Deutsche_Post</td><td>2014</td><td>0</td><td>0</td></tr><tr><td>Deutsche_Post</td><td>2015</td><td>0</td><td>0</td></tr><tr><td>Deutsche_Post</td><td>2016</td><td>1</td><td>0</td></tr><tr><td>Deutsche_Post</td><td>2017</td><td>1</td><td>0</td></tr><tr><td>Deutsche_Post</td><td>2018</td><td>3</td><td>0</td></tr><tr><td>Deutsche_Post</td><td>2019</td><td>3</td><td>0</td></tr><tr><td>Deutsche_Post</td><td>2020</td><td>2</td><td>0</td></tr><tr><td>Deutsche_Telekom</td><td>2007</td><td>0</td><td>0</td></tr><tr><td>Deutsche_Telekom</td><td>2008</td><td>0</td><td>0</td></tr><tr><td>Deutsche_Telekom</td><td>2009</td><td>0</td><td>0</td></tr><tr><td>Deutsche_Telekom</td><td>2010</td><td>0</td><td>0</td></tr><tr><td>Deutsche_Telekom</td><td>2011</td><td>0</td><td>0</td></tr><tr><td>Deutsche_Telekom</td><td>2012</td><td>0</td><td>0</td></tr><tr><td>Deutsche_Telekom</td><td>2013</td><td>0</td><td>0</td></tr><tr><td>Deutsche_Telekom</td><td>2014</td><td>0</td><td>0</td></tr><tr><td>Deutsche_Telekom</td><td>2015</td><td>3</td><td>0</td></tr><tr><td>Deutsche_Telekom</td><td>2016</td><td>11</td><td>0</td></tr><tr><td>Deutsche_Telekom</td><td>2017</td><td>5</td><td>0</td></tr><tr><td>Deutsche_Telekom</td><td>2018</td><td>2</td><td>0</td></tr><tr><td>Deutsche_Telekom</td><td>2019</td><td>5</td><td>0</td></tr><tr><td>Deutsche_Telekom</td><td>2020</td><td>4</td><td>0</td></tr><tr><td>Deutsche_Wohnen</td><td>2007</td><td>0</td><td>0</td></tr><tr><td>Deutsche_Wohnen</td><td>2008</td><td>0</td><td>0</td></tr><tr><td>Deutsche_Wohnen</td><td>2009</td><td>0</td><td>0</td></tr><tr><td>Deutsche_Wohnen</td><td>2010</td><td>0</td><td>0</td></tr><tr><td>Deutsche_Wohnen</td><td>2011</td><td>0</td><td>0</td></tr><tr><td>Deutsche_Wohnen</td><td>2012</td><td>0</td><td>0</td></tr><tr><td>Deutsche_Wohnen</td><td>2013</td><td>0</td><td>0</td></tr><tr><td>Deutsche_Wohnen</td><td>2014</td><td>0</td><td>0</td></tr><tr><td>Deutsche_Wohnen</td><td>2015</td><td>0</td><td>0</td></tr><tr><td>Deutsche_Wohnen</td><td>2016</td><td>0</td><td>0</td></tr><tr><td>Deutsche_Wohnen</td><td>2017</td><td>0</td><td>0</td></tr><tr><td>Deutsche_Wohnen</td><td>2018</td><td>1</td><td>0</td></tr><tr><td>Deutsche_Wohnen</td><td>2019</td><td>0</td><td>0</td></tr><tr><td>Deutsche_Wohnen</td><td>2020</td><td>0</td><td>0</td></tr><tr><td>E.ON</td><td>2007</td><td>0</td><td>0</td></tr><tr><td>E.ON</td><td>2008</td><td>0</td><td>0</td></tr><tr><td>E.ON</td><td>2009</td><td>0</td><td>0</td></tr><tr><td>E.ON</td><td>2010</td><td>0</td><td>0</td></tr><tr><td>E.ON</td><td>2011</td><td>0</td><td>0</td></tr><tr><td>E.ON</td><td>2012</td><td>0</td><td>0</td></tr><tr><td>E.ON</td><td>2013</td><td>0</td><td>0</td></tr><tr><td>E.ON</td><td>2014</td><td>1</td><td>0</td></tr><tr><td>E.ON</td><td>2015</td><td>2</td><td>0</td></tr><tr><td>E.ON</td><td>2016</td><td>2</td><td>0</td></tr><tr><td>E.ON</td><td>2017</td><td>0</td><td>0</td></tr><tr><td>E.ON</td><td>2018</td><td>1</td><td>0</td></tr><tr><td>E.ON</td><td>2019</td><td>2</td><td>0</td></tr><tr><td>E.ON</td><td>2020</td><td>2</td><td>0</td></tr><tr><td>Fresenius</td><td>2007</td><td>0</td><td>0</td></tr><tr><td>Fresenius</td><td>2008</td><td>0</td><td>0</td></tr><tr><td>Fresenius</td><td>2009</td><td>0</td><td>0</td></tr><tr><td>Fresenius</td><td>2010</td><td>0</td><td>0</td></tr><tr><td>Fresenius</td><td>2011</td><td>0</td><td>0</td></tr><tr><td>Fresenius</td><td>2012</td><td>0</td><td>0</td></tr><tr><td>Fresenius</td><td>2013</td><td>0</td><td>0</td></tr><tr><td>Fresenius</td><td>2014</td><td>0</td><td>0</td></tr><tr><td>Fresenius</td><td>2015</td><td>0</td><td>0</td></tr><tr><td>Fresenius</td><td>2016</td><td>0</td><td>0</td></tr><tr><td>Fresenius</td><td>2017</td><td>0</td><td>0</td></tr><tr><td>Fresenius</td><td>2018</td><td>0</td><td>0</td></tr><tr><td>Fresenius</td><td>2019</td><td>0</td><td>0</td></tr><tr><td>Fresenius</td><td>2020</td><td>83</td><td>0</td></tr><tr><td>Fresenius_Medical_Care</td><td>2007</td><td>0</td><td>0</td></tr><tr><td>Fresenius_Medical_Care</td><td>2008</td><td>0</td><td>0</td></tr><tr><td>Fresenius_Medical_Care</td><td>2009</td><td>0</td><td>0</td></tr><tr><td>Fresenius_Medical_Care</td><td>2010</td><td>0</td><td>0</td></tr><tr><td>Fresenius_Medical_Care</td><td>2011</td><td>0</td><td>0</td></tr><tr><td>Fresenius_Medical_Care</td><td>2012</td><td>0</td><td>0</td></tr><tr><td>Fresenius_Medical_Care</td><td>2013</td><td>0</td><td>0</td></tr><tr><td>Fresenius_Medical_Care</td><td>2014</td><td>0</td><td>0</td></tr><tr><td>Fresenius_Medical_Care</td><td>2015</td><td>0</td><td>0</td></tr><tr><td>Fresenius_Medical_Care</td><td>2016</td><td>0</td><td>0</td></tr><tr><td>Fresenius_Medical_Care</td><td>2017</td><td>0</td><td>0</td></tr><tr><td>Fresenius_Medical_Care</td><td>2018</td><td>0</td><td>0</td></tr><tr><td>Fresenius_Medical_Care</td><td>2019</td><td>0</td><td>0</td></tr><tr><td>Fresenius_Medical_Care</td><td>2020</td><td>0</td><td>0</td></tr><tr><td>Heidelberg_Cement</td><td>2007</td><td>0</td><td>0</td></tr><tr><td>Heidelberg_Cement</td><td>2008</td><td>0</td><td>0</td></tr><tr><td>Heidelberg_Cement</td><td>2009</td><td>0</td><td>0</td></tr><tr><td>Heidelberg_Cement</td><td>2010</td><td>0</td><td>0</td></tr><tr><td>Heidelberg_Cement</td><td>2011</td><td>0</td><td>0</td></tr><tr><td>Heidelberg_Cement</td><td>2012</td><td>0</td><td>0</td></tr><tr><td>Heidelberg_Cement</td><td>2013</td><td>0</td><td>0</td></tr><tr><td>Heidelberg_Cement</td><td>2014</td><td>0</td><td>0</td></tr><tr><td>Heidelberg_Cement</td><td>2015</td><td>0</td><td>0</td></tr><tr><td>Heidelberg_Cement</td><td>2016</td><td>3</td><td>0</td></tr><tr><td>Heidelberg_Cement</td><td>2017</td><td>4</td><td>2</td></tr><tr><td>Heidelberg_Cement</td><td>2018</td><td>6</td><td>3</td></tr><tr><td>Heidelberg_Cement</td><td>2019</td><td>5</td><td>2</td></tr><tr><td>Heidelberg_Cement</td><td>2020</td><td>3</td><td>0</td></tr><tr><td>Henkel_VZ</td><td>2007</td><td>0</td><td>0</td></tr><tr><td>Henkel_VZ</td><td>2008</td><td>0</td><td>0</td></tr><tr><td>Henkel_VZ</td><td>2009</td><td>0</td><td>0</td></tr><tr><td>Henkel_VZ</td><td>2010</td><td>0</td><td>0</td></tr><tr><td>Henkel_VZ</td><td>2011</td><td>0</td><td>0</td></tr><tr><td>Henkel_VZ</td><td>2012</td><td>0</td><td>0</td></tr><tr><td>Henkel_VZ</td><td>2013</td><td>0</td><td>0</td></tr><tr><td>Henkel_VZ</td><td>2014</td><td>0</td><td>0</td></tr><tr><td>Henkel_VZ</td><td>2015</td><td>0</td><td>0</td></tr><tr><td>Henkel_VZ</td><td>2016</td><td>2</td><td>0</td></tr><tr><td>Henkel_VZ</td><td>2017</td><td>2</td><td>1</td></tr><tr><td>Henkel_VZ</td><td>2018</td><td>5</td><td>0</td></tr><tr><td>Henkel_VZ</td><td>2019</td><td>3</td><td>0</td></tr><tr><td>Henkel_VZ</td><td>2020</td><td>1</td><td>0</td></tr><tr><td>Infineon</td><td>2007</td><td>0</td><td>0</td></tr><tr><td>Infineon</td><td>2008</td><td>0</td><td>0</td></tr><tr><td>Infineon</td><td>2009</td><td>0</td><td>0</td></tr><tr><td>Infineon</td><td>2010</td><td>0</td><td>0</td></tr><tr><td>Infineon</td><td>2011</td><td>0</td><td>0</td></tr><tr><td>Infineon</td><td>2012</td><td>0</td><td>0</td></tr><tr><td>Infineon</td><td>2013</td><td>0</td><td>0</td></tr><tr><td>Infineon</td><td>2014</td><td>0</td><td>0</td></tr><tr><td>Infineon</td><td>2015</td><td>0</td><td>0</td></tr><tr><td>Infineon</td><td>2016</td><td>0</td><td>0</td></tr><tr><td>Infineon</td><td>2017</td><td>1</td><td>0</td></tr><tr><td>Infineon</td><td>2018</td><td>3</td><td>0</td></tr><tr><td>Infineon</td><td>2019</td><td>6</td><td>0</td></tr><tr><td>Infineon</td><td>2020</td><td>9</td><td>0</td></tr><tr><td>Linde_plc</td><td>2007</td><td>0</td><td>0</td></tr><tr><td>Linde_plc</td><td>2008</td><td>0</td><td>0</td></tr><tr><td>Linde_plc</td><td>2009</td><td>0</td><td>0</td></tr><tr><td>Linde_plc</td><td>2010</td><td>0</td><td>0</td></tr><tr><td>Linde_plc</td><td>2011</td><td>0</td><td>0</td></tr><tr><td>Linde_plc</td><td>2012</td><td>0</td><td>0</td></tr><tr><td>Linde_plc</td><td>2013</td><td>0</td><td>0</td></tr><tr><td>Linde_plc</td><td>2014</td><td>0</td><td>0</td></tr><tr><td>Linde_plc</td><td>2015</td><td>0</td><td>0</td></tr><tr><td>Linde_plc</td><td>2016</td><td>0</td><td>0</td></tr><tr><td>Linde_plc</td><td>2017</td><td>0</td><td>0</td></tr><tr><td>Linde_plc</td><td>2018</td><td>0</td><td>0</td></tr><tr><td>Linde_plc</td><td>2019</td><td>0</td><td>0</td></tr><tr><td>Merck</td><td>2007</td><td>0</td><td>0</td></tr><tr><td>Merck</td><td>2008</td><td>0</td><td>0</td></tr><tr><td>Merck</td><td>2009</td><td>0</td><td>0</td></tr><tr><td>Merck</td><td>2010</td><td>0</td><td>0</td></tr><tr><td>Merck</td><td>2011</td><td>0</td><td>0</td></tr><tr><td>Merck</td><td>2012</td><td>0</td><td>0</td></tr><tr><td>Merck</td><td>2013</td><td>0</td><td>0</td></tr><tr><td>Merck</td><td>2014</td><td>0</td><td>0</td></tr><tr><td>Merck</td><td>2015</td><td>0</td><td>1</td></tr><tr><td>Merck</td><td>2016</td><td>0</td><td>0</td></tr><tr><td>Merck</td><td>2017</td><td>0</td><td>0</td></tr><tr><td>Merck</td><td>2018</td><td>1</td><td>0</td></tr><tr><td>Merck</td><td>2019</td><td>2</td><td>0</td></tr><tr><td>Merck</td><td>2020</td><td>2</td><td>0</td></tr><tr><td>MTU_Aero_Engines</td><td>2007</td><td>0</td><td>0</td></tr><tr><td>MTU_Aero_Engines</td><td>2008</td><td>0</td><td>0</td></tr><tr><td>MTU_Aero_Engines</td><td>2009</td><td>0</td><td>0</td></tr><tr><td>MTU_Aero_Engines</td><td>2010</td><td>0</td><td>0</td></tr><tr><td>MTU_Aero_Engines</td><td>2011</td><td>0</td><td>0</td></tr><tr><td>MTU_Aero_Engines</td><td>2012</td><td>0</td><td>0</td></tr><tr><td>MTU_Aero_Engines</td><td>2013</td><td>0</td><td>0</td></tr><tr><td>MTU_Aero_Engines</td><td>2014</td><td>0</td><td>0</td></tr><tr><td>MTU_Aero_Engines</td><td>2015</td><td>0</td><td>0</td></tr><tr><td>MTU_Aero_Engines</td><td>2016</td><td>0</td><td>0</td></tr><tr><td>MTU_Aero_Engines</td><td>2017</td><td>0</td><td>0</td></tr><tr><td>MTU_Aero_Engines</td><td>2018</td><td>0</td><td>0</td></tr><tr><td>MTU_Aero_Engines</td><td>2019</td><td>1</td><td>0</td></tr><tr><td>MTU_Aero_Engines</td><td>2020</td><td>1</td><td>0</td></tr><tr><td>Münchener_Rück</td><td>2007</td><td>0</td><td>0</td></tr><tr><td>Münchener_Rück</td><td>2008</td><td>0</td><td>0</td></tr><tr><td>Münchener_Rück</td><td>2009</td><td>0</td><td>0</td></tr><tr><td>Münchener_Rück</td><td>2010</td><td>0</td><td>0</td></tr><tr><td>Münchener_Rück</td><td>2011</td><td>0</td><td>0</td></tr><tr><td>Münchener_Rück</td><td>2012</td><td>0</td><td>0</td></tr><tr><td>Münchener_Rück</td><td>2013</td><td>0</td><td>0</td></tr><tr><td>Münchener_Rück</td><td>2014</td><td>0</td><td>0</td></tr><tr><td>Münchener_Rück</td><td>2015</td><td>0</td><td>0</td></tr><tr><td>Münchener_Rück</td><td>2016</td><td>1</td><td>0</td></tr><tr><td>Münchener_Rück</td><td>2017</td><td>3</td><td>0</td></tr><tr><td>Münchener_Rück</td><td>2018</td><td>3</td><td>0</td></tr><tr><td>Münchener_Rück</td><td>2019</td><td>6</td><td>0</td></tr><tr><td>Münchener_Rück</td><td>2020</td><td>3</td><td>0</td></tr><tr><td>RWE</td><td>2007</td><td>0</td><td>0</td></tr><tr><td>RWE</td><td>2008</td><td>0</td><td>0</td></tr><tr><td>RWE</td><td>2009</td><td>0</td><td>0</td></tr><tr><td>RWE</td><td>2010</td><td>0</td><td>0</td></tr><tr><td>RWE</td><td>2011</td><td>0</td><td>0</td></tr><tr><td>RWE</td><td>2012</td><td>0</td><td>0</td></tr><tr><td>RWE</td><td>2013</td><td>0</td><td>0</td></tr><tr><td>RWE</td><td>2014</td><td>0</td><td>0</td></tr><tr><td>RWE</td><td>2015</td><td>0</td><td>0</td></tr><tr><td>RWE</td><td>2016</td><td>0</td><td>0</td></tr><tr><td>RWE</td><td>2017</td><td>0</td><td>0</td></tr><tr><td>RWE</td><td>2018</td><td>0</td><td>0</td></tr><tr><td>RWE</td><td>2019</td><td>0</td><td>0</td></tr><tr><td>RWE</td><td>2020</td><td>0</td><td>0</td></tr><tr><td>SAP</td><td>2007</td><td>0</td><td>0</td></tr><tr><td>SAP</td><td>2008</td><td>0</td><td>0</td></tr><tr><td>SAP</td><td>2009</td><td>0</td><td>0</td></tr><tr><td>SAP</td><td>2010</td><td>0</td><td>0</td></tr><tr><td>SAP</td><td>2011</td><td>0</td><td>0</td></tr><tr><td>SAP</td><td>2012</td><td>0</td><td>0</td></tr><tr><td>SAP</td><td>2013</td><td>0</td><td>0</td></tr><tr><td>SAP</td><td>2014</td><td>0</td><td>0</td></tr><tr><td>SAP</td><td>2015</td><td>1</td><td>0</td></tr><tr><td>SAP</td><td>2016</td><td>3</td><td>0</td></tr><tr><td>SAP</td><td>2017</td><td>19</td><td>0</td></tr><tr><td>SAP</td><td>2018</td><td>12</td><td>0</td></tr><tr><td>SAP</td><td>2019</td><td>3</td><td>0</td></tr><tr><td>SAP</td><td>2020</td><td>6</td><td>0</td></tr><tr><td>Siemens</td><td>2007</td><td>0</td><td>0</td></tr><tr><td>Siemens</td><td>2008</td><td>0</td><td>0</td></tr><tr><td>Siemens</td><td>2009</td><td>0</td><td>0</td></tr><tr><td>Siemens</td><td>2010</td><td>0</td><td>0</td></tr><tr><td>Siemens</td><td>2011</td><td>0</td><td>0</td></tr><tr><td>Siemens</td><td>2012</td><td>0</td><td>0</td></tr><tr><td>Siemens</td><td>2013</td><td>0</td><td>0</td></tr><tr><td>Siemens</td><td>2014</td><td>0</td><td>0</td></tr><tr><td>Siemens</td><td>2015</td><td>0</td><td>0</td></tr><tr><td>Siemens</td><td>2016</td><td>0</td><td>0</td></tr><tr><td>Siemens</td><td>2017</td><td>1</td><td>0</td></tr><tr><td>Siemens</td><td>2018</td><td>2</td><td>0</td></tr><tr><td>Siemens</td><td>2019</td><td>0</td><td>0</td></tr><tr><td>Siemens</td><td>2020</td><td>0</td><td>0</td></tr><tr><td>Siemens_Energy</td><td>2019</td><td>2</td><td>0</td></tr><tr><td>Siemens_Energy</td><td>2020</td><td>0</td><td>0</td></tr><tr><td>Volkswagen_VZ</td><td>2007</td><td>0</td><td>0</td></tr><tr><td>Volkswagen_VZ</td><td>2008</td><td>0</td><td>0</td></tr><tr><td>Volkswagen_VZ</td><td>2009</td><td>0</td><td>0</td></tr><tr><td>Volkswagen_VZ</td><td>2010</td><td>0</td><td>0</td></tr><tr><td>Volkswagen_VZ</td><td>2011</td><td>0</td><td>0</td></tr><tr><td>Volkswagen_VZ</td><td>2012</td><td>0</td><td>0</td></tr><tr><td>Volkswagen_VZ</td><td>2013</td><td>0</td><td>0</td></tr><tr><td>Volkswagen_VZ</td><td>2014</td><td>0</td><td>0</td></tr><tr><td>Volkswagen_VZ</td><td>2015</td><td>0</td><td>0</td></tr><tr><td>Volkswagen_VZ</td><td>2016</td><td>1</td><td>1</td></tr><tr><td>Volkswagen_VZ</td><td>2017</td><td>2</td><td>0</td></tr><tr><td>Volkswagen_VZ</td><td>2018</td><td>2</td><td>0</td></tr><tr><td>Volkswagen_VZ</td><td>2019</td><td>5</td><td>0</td></tr><tr><td>Volkswagen_VZ</td><td>2020</td><td>4</td><td>0</td></tr><tr><td>Vonovia</td><td>2007</td><td>0</td><td>0</td></tr><tr><td>Vonovia</td><td>2008</td><td>0</td><td>0</td></tr><tr><td>Vonovia</td><td>2009</td><td>0</td><td>0</td></tr><tr><td>Vonovia</td><td>2010</td><td>0</td><td>0</td></tr><tr><td>Vonovia</td><td>2011</td><td>0</td><td>0</td></tr><tr><td>Vonovia</td><td>2012</td><td>0</td><td>0</td></tr><tr><td>Vonovia</td><td>2013</td><td>0</td><td>0</td></tr><tr><td>Vonovia</td><td>2014</td><td>0</td><td>0</td></tr><tr><td>Vonovia</td><td>2015</td><td>0</td><td>0</td></tr><tr><td>Vonovia</td><td>2016</td><td>0</td><td>0</td></tr><tr><td>Vonovia</td><td>2017</td><td>0</td><td>0</td></tr><tr><td>Vonovia</td><td>2018</td><td>0</td><td>0</td></tr><tr><td>Vonovia</td><td>2019</td><td>0</td><td>0</td></tr><tr><td>Vonovia</td><td>2020</td><td>1</td><td>0</td></tr><tr><td>Beiersdorf</td><td>2015</td><td>0</td><td>0</td></tr><tr><td>Beiersdorf</td><td>2016</td><td>0</td><td>0</td></tr><tr><td>Beiersdorf</td><td>2017</td><td>0</td><td>0</td></tr><tr><td>Beiersdorf</td><td>2018</td><td>0</td><td>0</td></tr><tr><td>Beiersdorf</td><td>2019</td><td>4</td><td>0</td></tr><tr><td>Beiersdorf</td><td>2020</td><td>10</td><td>0</td></tr>\n",
       "    </tbody>\n",
       "</table>    \n"
      ],
      "text/plain": [
       "<IPython.core.display.HTML object>"
      ]
     },
     "execution_count": 8,
     "metadata": {},
     "output_type": "execute_result"
    }
   ],
   "source": [
    "HTML('''\n",
    "<table>\n",
    "    <thead><th>Company</th><th>Year</th><th>Occurences Digital</th><th>Occurences CDO</th></thead>\n",
    "    <tbody>\n",
    "        {}\n",
    "    </tbody>\n",
    "</table>    \n",
    "'''.format(\n",
    "    \"\".join(\n",
    "        '<tr><td>{}</td><td>{}</td><td>{}</td><td>{}</td></tr>'.format(*o) for o in occurences\n",
    "        )\n",
    "    )\n",
    ")"
   ]
  },
  {
   "cell_type": "code",
   "execution_count": null,
   "id": "f5816fb2",
   "metadata": {},
   "outputs": [],
   "source": []
  }
 ],
 "metadata": {
  "kernelspec": {
   "display_name": "Python 3",
   "language": "python",
   "name": "python3"
  },
  "language_info": {
   "codemirror_mode": {
    "name": "ipython",
    "version": 3
   },
   "file_extension": ".py",
   "mimetype": "text/x-python",
   "name": "python",
   "nbconvert_exporter": "python",
   "pygments_lexer": "ipython3",
   "version": "3.7.9"
  }
 },
 "nbformat": 4,
 "nbformat_minor": 5
}
