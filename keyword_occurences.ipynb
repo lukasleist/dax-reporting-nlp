{
 "cells": [
  {
   "cell_type": "markdown",
   "id": "52931b26",
   "metadata": {},
   "source": [
    "# DAX Reporting NLP"
   ]
  },
  {
   "cell_type": "code",
   "execution_count": 1,
   "id": "80a92963",
   "metadata": {},
   "outputs": [],
   "source": [
    "from IPython.display import HTML, display\n",
    "import os\n",
    "import time\n",
    "import requests\n",
    "from requests_html import HTMLSession\n",
    "import fitz # this ist pymupdf\n",
    "from nltk import FreqDist\n",
    "from nltk.tokenize import word_tokenize, MWETokenizer"
   ]
  },
  {
   "cell_type": "markdown",
   "id": "52449dec",
   "metadata": {},
   "source": [
    "## Downloading Reports\n",
    "Reports are gathered from an verview page maintained at `boersengefluester.de`."
   ]
  },
  {
   "cell_type": "code",
   "execution_count": 2,
   "id": "545ffb06",
   "metadata": {},
   "outputs": [],
   "source": [
    "reporting_overview_url = 'https://boersengefluester.de/download-der-dax-geschaftsberichte-von-2007-bis-2018/'\n",
    "download_folder = './downloads'\n",
    "session = HTMLSession()\n",
    "r = session.get(reporting_overview_url)"
   ]
  },
  {
   "cell_type": "code",
   "execution_count": 3,
   "id": "05a75cee",
   "metadata": {},
   "outputs": [
    {
     "name": "stdout",
     "output_type": "stream",
     "text": [
      "Links to 391 reports found\n"
     ]
    },
    {
     "data": {
      "text/plain": [
       "[('Beiersdorf',\n",
       "  2015,\n",
       "  'https://boersengefluester.de/wp-content/uploads/assets/annuals/2015/520000.pdf'),\n",
       " ('Beiersdorf',\n",
       "  2016,\n",
       "  'https://boersengefluester.de/wp-content/uploads/assets/annuals/2016/520000.pdf'),\n",
       " ('Beiersdorf',\n",
       "  2017,\n",
       "  'https://boersengefluester.de/wp-content/uploads/assets/annuals/2017/520000.pdf'),\n",
       " ('Beiersdorf',\n",
       "  2018,\n",
       "  'https://boersengefluester.de/wp-content/uploads/assets/annuals/2018/520000.pdf'),\n",
       " ('Beiersdorf',\n",
       "  2019,\n",
       "  'https://boersengefluester.de/wp-content/uploads/assets/annuals/2019/520000.pdf'),\n",
       " ('Beiersdorf',\n",
       "  2020,\n",
       "  'https://boersengefluester.de/wp-content/uploads/assets/annuals/2020/520000.pdf')]"
      ]
     },
     "execution_count": 3,
     "metadata": {},
     "output_type": "execute_result"
    }
   ],
   "source": [
    "report_links = r.html.xpath('//table[@class=\"ath_table\"] // a[img][starts-with(@title, \"Geschäftsbericht\")]')\n",
    "print('Links to {} reports found'.format(len(report_links)))\n",
    "\n",
    "# list of tuples like (company, year, report_url)\n",
    "reports_information = [(\"_\".join(r.attrs['title'].split()[1:-3]), r.attrs['title'].split()[-3], r.absolute_links.pop()) for r in report_links]\n",
    "\n",
    "#manually add beiersdorf as not any more in overview (kicked from dax as of 2021)\n",
    "reports_information += [\n",
    "    (\"Beiersdorf\", year, 'https://boersengefluester.de/wp-content/uploads/assets/annuals/{}/520000.pdf'.format(year)) for year in range(2015, 2021)\n",
    "]\n",
    "\n",
    "reports_information[-6:]"
   ]
  },
  {
   "cell_type": "code",
   "execution_count": 4,
   "id": "1c56e01a",
   "metadata": {},
   "outputs": [
    {
     "name": "stdout",
     "output_type": "stream",
     "text": [
      "Download directory already exists, delete to re-download reports\n"
     ]
    }
   ],
   "source": [
    "try:\n",
    "    os.makedirs(download_folder)\n",
    "    print('Created Download directory, proceed downloading reports')\n",
    "    \n",
    "    counter = 0\n",
    "    for company, year, url in reports_information:\n",
    "        print('Downloading: ', url)\n",
    "\n",
    "        response = requests.get(url)\n",
    "        with open('{}/{}-{}.pdf'.format(download_folder, company, year), 'wb') as fp:\n",
    "            fp.write(response.content)\n",
    "            print(\"Saved: \", '{}-{}.pdf'.format(company, year))\n",
    "            counter += 1\n",
    "\n",
    "        print(\"Waiting for 3 seconds\")\n",
    "        time.sleep(3) # wait to not overrun server...\n",
    "\n",
    "    print('Succedfully downloaded ', counter, ' reports.')\n",
    "except:\n",
    "    print('Download directory already exists, delete to re-download reports')"
   ]
  },
  {
   "cell_type": "markdown",
   "id": "6ce605ef",
   "metadata": {},
   "source": [
    "## Analyze Reports\n",
    "counting the occurence of several words and its synonyms"
   ]
  },
  {
   "cell_type": "code",
   "execution_count": 5,
   "id": "b6c825c3",
   "metadata": {},
   "outputs": [],
   "source": [
    "digital_keywords = [\n",
    "    ('digitalisierung'),\n",
    "    ('digitalization'),\n",
    "    ('digitalisation'),\n",
    "    ('digital', 'transformation'),\n",
    "    ('digitale', 'transformation'),\n",
    "    ('digital', 'innovation'),\n",
    "    ('digitale', 'innovation'),\n",
    "    ('digital', 'business', 'strategy')\n",
    "]\n",
    "cdo_keywords = [\n",
    "    ('cdo'),\n",
    "    ('chief', 'digital', 'officier'),\n",
    "    ('chief', 'digital', 'officer')\n",
    "]\n",
    "\n",
    "keyword_mwe_tokenizer = MWETokenizer(digital_keywords + cdo_keywords)"
   ]
  },
  {
   "cell_type": "code",
   "execution_count": 6,
   "id": "6d7dff34",
   "metadata": {},
   "outputs": [
    {
     "name": "stderr",
     "output_type": "stream",
     "text": [
      "mupdf: invalid page object\n",
      "mupdf: invalid page object\n",
      "mupdf: invalid page object\n",
      "mupdf: invalid page object\n",
      "mupdf: invalid page object\n",
      "mupdf: invalid page object\n",
      "mupdf: invalid page object\n",
      "mupdf: invalid page object\n",
      "mupdf: invalid page object\n",
      "mupdf: invalid page object\n",
      "mupdf: invalid page object\n",
      "mupdf: invalid page object\n",
      "mupdf: invalid page object\n",
      "mupdf: invalid page object\n",
      "mupdf: invalid page object\n",
      "mupdf: invalid page object\n",
      "mupdf: invalid page object\n",
      "mupdf: invalid page object\n",
      "mupdf: invalid page object\n",
      "mupdf: invalid page object\n",
      "mupdf: invalid page object\n",
      "mupdf: invalid page object\n",
      "mupdf: invalid page object\n"
     ]
    }
   ],
   "source": [
    "occurences = []\n",
    "for company, year, _ in reports_information:\n",
    "    with fitz.open('{}/{}-{}.pdf'.format(download_folder, company, year)) as doc:\n",
    "        text = \"\"\n",
    "        for page in doc:\n",
    "            text += page.getText().lower()\n",
    "        \n",
    "        tokens = [w for w in word_tokenize(text) if w.isalpha()]\n",
    "        tokens = keyword_mwe_tokenizer.tokenize(tokens)\n",
    "        freqDist = FreqDist(tokens)\n",
    "        \n",
    "        digital_occurences = sum(freqDist['_'.join(k)] for k in digital_keywords)\n",
    "        cdo_occurences = sum(freqDist['_'.join(k)] for k in cdo_keywords)\n",
    "        words_total = len(tokens)\n",
    "        occurences.append(\n",
    "            (company, year, digital_occurences, cdo_occurences, words_total)\n",
    "        )"
   ]
  },
  {
   "cell_type": "code",
   "execution_count": 7,
   "id": "d15c5d0f",
   "metadata": {},
   "outputs": [
    {
     "data": {
      "text/html": [
       "\n",
       "<table>\n",
       "    <thead><th>Company</th><th>Year</th><th>Occurences Digital</th><th>Occurences CDO</th><th>Words Total</th></thead>\n",
       "    <tbody>\n",
       "        <tr><td>Adidas</td><td>2007</td><td>0</td><td>0</td><td>82347</td></tr><tr><td>Adidas</td><td>2008</td><td>0</td><td>0</td><td>84835</td></tr><tr><td>Adidas</td><td>2009</td><td>0</td><td>0</td><td>96014</td></tr><tr><td>Adidas</td><td>2010</td><td>0</td><td>0</td><td>96802</td></tr><tr><td>Adidas</td><td>2011</td><td>0</td><td>0</td><td>97407</td></tr><tr><td>Adidas</td><td>2012</td><td>0</td><td>0</td><td>111451</td></tr><tr><td>Adidas</td><td>2013</td><td>0</td><td>0</td><td>105178</td></tr><tr><td>Adidas</td><td>2014</td><td>0</td><td>0</td><td>89164</td></tr><tr><td>Adidas</td><td>2015</td><td>0</td><td>0</td><td>92855</td></tr><tr><td>Adidas</td><td>2016</td><td>2</td><td>0</td><td>90685</td></tr><tr><td>Adidas</td><td>2017</td><td>3</td><td>0</td><td>110090</td></tr><tr><td>Adidas</td><td>2018</td><td>4</td><td>0</td><td>110963</td></tr><tr><td>Adidas</td><td>2019</td><td>2</td><td>0</td><td>104723</td></tr><tr><td>Adidas</td><td>2020</td><td>4</td><td>0</td><td>102451</td></tr><tr><td>Allianz</td><td>2007</td><td>0</td><td>0</td><td>90751</td></tr><tr><td>Allianz</td><td>2008</td><td>0</td><td>0</td><td>97261</td></tr><tr><td>Allianz</td><td>2009</td><td>0</td><td>0</td><td>118409</td></tr><tr><td>Allianz</td><td>2010</td><td>0</td><td>0</td><td>113965</td></tr><tr><td>Allianz</td><td>2011</td><td>0</td><td>0</td><td>170087</td></tr><tr><td>Allianz</td><td>2012</td><td>0</td><td>0</td><td>135849</td></tr><tr><td>Allianz</td><td>2013</td><td>0</td><td>0</td><td>105852</td></tr><tr><td>Allianz</td><td>2014</td><td>0</td><td>0</td><td>118389</td></tr><tr><td>Allianz</td><td>2015</td><td>0</td><td>0</td><td>109965</td></tr><tr><td>Allianz</td><td>2016</td><td>0</td><td>0</td><td>75654</td></tr><tr><td>Allianz</td><td>2017</td><td>0</td><td>0</td><td>78708</td></tr><tr><td>Allianz</td><td>2018</td><td>0</td><td>0</td><td>86979</td></tr><tr><td>Allianz</td><td>2019</td><td>2</td><td>0</td><td>86801</td></tr><tr><td>Allianz</td><td>2020</td><td>2</td><td>0</td><td>95593</td></tr><tr><td>BASF</td><td>2007</td><td>0</td><td>0</td><td>73832</td></tr><tr><td>BASF</td><td>2008</td><td>0</td><td>0</td><td>80320</td></tr><tr><td>BASF</td><td>2009</td><td>0</td><td>0</td><td>85426</td></tr><tr><td>BASF</td><td>2010</td><td>0</td><td>0</td><td>84095</td></tr><tr><td>BASF</td><td>2011</td><td>0</td><td>0</td><td>85550</td></tr><tr><td>BASF</td><td>2012</td><td>0</td><td>0</td><td>87539</td></tr><tr><td>BASF</td><td>2013</td><td>0</td><td>0</td><td>90892</td></tr><tr><td>BASF</td><td>2014</td><td>0</td><td>0</td><td>96610</td></tr><tr><td>BASF</td><td>2015</td><td>0</td><td>0</td><td>97874</td></tr><tr><td>BASF</td><td>2016</td><td>4</td><td>0</td><td>97872</td></tr><tr><td>BASF</td><td>2017</td><td>0</td><td>0</td><td>103212</td></tr><tr><td>BASF</td><td>2018</td><td>1</td><td>0</td><td>118179</td></tr><tr><td>BASF</td><td>2019</td><td>0</td><td>0</td><td>120493</td></tr><tr><td>BASF</td><td>2020</td><td>2</td><td>0</td><td>135480</td></tr><tr><td>Bayer</td><td>2007</td><td>0</td><td>0</td><td>63467</td></tr><tr><td>Bayer</td><td>2008</td><td>0</td><td>0</td><td>77209</td></tr><tr><td>Bayer</td><td>2009</td><td>0</td><td>0</td><td>84112</td></tr><tr><td>Bayer</td><td>2010</td><td>0</td><td>0</td><td>84562</td></tr><tr><td>Bayer</td><td>2011</td><td>0</td><td>0</td><td>86160</td></tr><tr><td>Bayer</td><td>2012</td><td>0</td><td>0</td><td>93540</td></tr><tr><td>Bayer</td><td>2013</td><td>0</td><td>0</td><td>115162</td></tr><tr><td>Bayer</td><td>2014</td><td>0</td><td>0</td><td>108359</td></tr><tr><td>Bayer</td><td>2015</td><td>0</td><td>0</td><td>110707</td></tr><tr><td>Bayer</td><td>2016</td><td>0</td><td>0</td><td>105257</td></tr><tr><td>Bayer</td><td>2017</td><td>0</td><td>0</td><td>109958</td></tr><tr><td>Bayer</td><td>2018</td><td>4</td><td>0</td><td>97131</td></tr><tr><td>Bayer</td><td>2019</td><td>2</td><td>0</td><td>81813</td></tr><tr><td>Bayer</td><td>2020</td><td>8</td><td>0</td><td>92563</td></tr><tr><td>BMW_ST</td><td>2007</td><td>0</td><td>0</td><td>60230</td></tr><tr><td>BMW_ST</td><td>2008</td><td>0</td><td>0</td><td>63537</td></tr><tr><td>BMW_ST</td><td>2009</td><td>0</td><td>0</td><td>71429</td></tr><tr><td>BMW_ST</td><td>2010</td><td>0</td><td>0</td><td>69273</td></tr><tr><td>BMW_ST</td><td>2011</td><td>0</td><td>0</td><td>73187</td></tr><tr><td>BMW_ST</td><td>2012</td><td>0</td><td>0</td><td>72838</td></tr><tr><td>BMW_ST</td><td>2013</td><td>0</td><td>0</td><td>76604</td></tr><tr><td>BMW_ST</td><td>2014</td><td>0</td><td>0</td><td>77134</td></tr><tr><td>BMW_ST</td><td>2015</td><td>0</td><td>0</td><td>75911</td></tr><tr><td>BMW_ST</td><td>2016</td><td>0</td><td>0</td><td>70704</td></tr><tr><td>BMW_ST</td><td>2017</td><td>0</td><td>0</td><td>78961</td></tr><tr><td>BMW_ST</td><td>2018</td><td>0</td><td>0</td><td>82108</td></tr><tr><td>BMW_ST</td><td>2019</td><td>0</td><td>0</td><td>79964</td></tr><tr><td>BMW_ST</td><td>2020</td><td>1</td><td>0</td><td>110851</td></tr><tr><td>Continental</td><td>2007</td><td>0</td><td>0</td><td>66128</td></tr><tr><td>Continental</td><td>2008</td><td>0</td><td>0</td><td>71019</td></tr><tr><td>Continental</td><td>2009</td><td>0</td><td>0</td><td>90225</td></tr><tr><td>Continental</td><td>2010</td><td>0</td><td>0</td><td>88433</td></tr><tr><td>Continental</td><td>2011</td><td>0</td><td>0</td><td>89199</td></tr><tr><td>Continental</td><td>2012</td><td>0</td><td>0</td><td>84981</td></tr><tr><td>Continental</td><td>2013</td><td>0</td><td>0</td><td>90318</td></tr><tr><td>Continental</td><td>2014</td><td>0</td><td>0</td><td>90223</td></tr><tr><td>Continental</td><td>2015</td><td>0</td><td>0</td><td>87304</td></tr><tr><td>Continental</td><td>2016</td><td>2</td><td>0</td><td>86906</td></tr><tr><td>Continental</td><td>2017</td><td>2</td><td>0</td><td>81184</td></tr><tr><td>Continental</td><td>2018</td><td>0</td><td>0</td><td>86872</td></tr><tr><td>Continental</td><td>2019</td><td>0</td><td>0</td><td>84629</td></tr><tr><td>Continental</td><td>2020</td><td>0</td><td>0</td><td>90186</td></tr><tr><td>Covestro</td><td>2015</td><td>0</td><td>0</td><td>65203</td></tr><tr><td>Covestro</td><td>2016</td><td>0</td><td>0</td><td>65003</td></tr><tr><td>Covestro</td><td>2017</td><td>0</td><td>0</td><td>81575</td></tr><tr><td>Covestro</td><td>2018</td><td>2</td><td>0</td><td>81032</td></tr><tr><td>Covestro</td><td>2019</td><td>2</td><td>0</td><td>77272</td></tr><tr><td>Covestro</td><td>2020</td><td>0</td><td>0</td><td>96796</td></tr><tr><td>Daimler</td><td>2007</td><td>0</td><td>0</td><td>73409</td></tr><tr><td>Daimler</td><td>2008</td><td>0</td><td>0</td><td>75573</td></tr><tr><td>Daimler</td><td>2009</td><td>0</td><td>0</td><td>89304</td></tr><tr><td>Daimler</td><td>2010</td><td>0</td><td>0</td><td>88620</td></tr><tr><td>Daimler</td><td>2011</td><td>0</td><td>0</td><td>96535</td></tr><tr><td>Daimler</td><td>2012</td><td>0</td><td>0</td><td>105972</td></tr><tr><td>Daimler</td><td>2013</td><td>0</td><td>0</td><td>107547</td></tr><tr><td>Daimler</td><td>2014</td><td>0</td><td>0</td><td>113338</td></tr><tr><td>Daimler</td><td>2015</td><td>1</td><td>0</td><td>120470</td></tr><tr><td>Daimler</td><td>2016</td><td>2</td><td>0</td><td>118175</td></tr><tr><td>Daimler</td><td>2017</td><td>1</td><td>0</td><td>131401</td></tr><tr><td>Daimler</td><td>2018</td><td>0</td><td>0</td><td>143550</td></tr><tr><td>Daimler</td><td>2019</td><td>1</td><td>0</td><td>141446</td></tr><tr><td>Daimler</td><td>2020</td><td>1</td><td>0</td><td>117601</td></tr><tr><td>Delivery_Hero</td><td>2014</td><td>0</td><td>0</td><td>27910</td></tr><tr><td>Delivery_Hero</td><td>2015</td><td>0</td><td>0</td><td>27926</td></tr><tr><td>Delivery_Hero</td><td>2016</td><td>0</td><td>0</td><td>41288</td></tr><tr><td>Delivery_Hero</td><td>2017</td><td>0</td><td>0</td><td>70985</td></tr><tr><td>Delivery_Hero</td><td>2018</td><td>0</td><td>0</td><td>65044</td></tr><tr><td>Delivery_Hero</td><td>2019</td><td>0</td><td>0</td><td>64749</td></tr><tr><td>Deutsche_Bank</td><td>2007</td><td>0</td><td>0</td><td>110668</td></tr><tr><td>Deutsche_Bank</td><td>2008</td><td>0</td><td>0</td><td>123382</td></tr><tr><td>Deutsche_Bank</td><td>2009</td><td>0</td><td>0</td><td>128621</td></tr><tr><td>Deutsche_Bank</td><td>2010</td><td>0</td><td>0</td><td>157113</td></tr><tr><td>Deutsche_Bank</td><td>2011</td><td>0</td><td>0</td><td>170373</td></tr><tr><td>Deutsche_Bank</td><td>2012</td><td>0</td><td>0</td><td>203661</td></tr><tr><td>Deutsche_Bank</td><td>2013</td><td>0</td><td>0</td><td>215857</td></tr><tr><td>Deutsche_Bank</td><td>2014</td><td>0</td><td>0</td><td>230542</td></tr><tr><td>Deutsche_Bank</td><td>2015</td><td>1</td><td>0</td><td>179624</td></tr><tr><td>Deutsche_Bank</td><td>2016</td><td>2</td><td>0</td><td>190695</td></tr><tr><td>Deutsche_Bank</td><td>2017</td><td>3</td><td>0</td><td>184671</td></tr><tr><td>Deutsche_Bank</td><td>2018</td><td>0</td><td>0</td><td>198046</td></tr><tr><td>Deutsche_Bank</td><td>2019</td><td>0</td><td>0</td><td>208038</td></tr><tr><td>Deutsche_Bank</td><td>2020</td><td>3</td><td>0</td><td>221841</td></tr><tr><td>Deutsche_Börse</td><td>2007</td><td>0</td><td>0</td><td>75631</td></tr><tr><td>Deutsche_Börse</td><td>2008</td><td>0</td><td>0</td><td>81898</td></tr><tr><td>Deutsche_Börse</td><td>2009</td><td>0</td><td>0</td><td>83676</td></tr><tr><td>Deutsche_Börse</td><td>2010</td><td>0</td><td>0</td><td>100036</td></tr><tr><td>Deutsche_Börse</td><td>2011</td><td>0</td><td>0</td><td>93718</td></tr><tr><td>Deutsche_Börse</td><td>2012</td><td>0</td><td>0</td><td>110661</td></tr><tr><td>Deutsche_Börse</td><td>2013</td><td>0</td><td>0</td><td>97364</td></tr><tr><td>Deutsche_Börse</td><td>2014</td><td>0</td><td>0</td><td>101699</td></tr><tr><td>Deutsche_Börse</td><td>2015</td><td>0</td><td>0</td><td>97020</td></tr><tr><td>Deutsche_Börse</td><td>2016</td><td>0</td><td>0</td><td>91361</td></tr><tr><td>Deutsche_Börse</td><td>2017</td><td>0</td><td>0</td><td>147756</td></tr><tr><td>Deutsche_Börse</td><td>2018</td><td>0</td><td>0</td><td>117256</td></tr><tr><td>Deutsche_Börse</td><td>2019</td><td>0</td><td>0</td><td>87033</td></tr><tr><td>Deutsche_Börse</td><td>2020</td><td>0</td><td>0</td><td>87991</td></tr><tr><td>Deutsche_Post</td><td>2007</td><td>0</td><td>0</td><td>68407</td></tr><tr><td>Deutsche_Post</td><td>2008</td><td>0</td><td>0</td><td>71874</td></tr><tr><td>Deutsche_Post</td><td>2009</td><td>0</td><td>0</td><td>80535</td></tr><tr><td>Deutsche_Post</td><td>2010</td><td>0</td><td>0</td><td>79465</td></tr><tr><td>Deutsche_Post</td><td>2011</td><td>0</td><td>0</td><td>85415</td></tr><tr><td>Deutsche_Post</td><td>2012</td><td>0</td><td>0</td><td>72708</td></tr><tr><td>Deutsche_Post</td><td>2013</td><td>0</td><td>0</td><td>75226</td></tr><tr><td>Deutsche_Post</td><td>2014</td><td>0</td><td>0</td><td>74450</td></tr><tr><td>Deutsche_Post</td><td>2015</td><td>0</td><td>0</td><td>69393</td></tr><tr><td>Deutsche_Post</td><td>2016</td><td>1</td><td>0</td><td>65560</td></tr><tr><td>Deutsche_Post</td><td>2017</td><td>1</td><td>0</td><td>64436</td></tr><tr><td>Deutsche_Post</td><td>2018</td><td>3</td><td>0</td><td>65882</td></tr><tr><td>Deutsche_Post</td><td>2019</td><td>3</td><td>0</td><td>62633</td></tr><tr><td>Deutsche_Post</td><td>2020</td><td>2</td><td>0</td><td>69519</td></tr><tr><td>Deutsche_Telekom</td><td>2007</td><td>0</td><td>0</td><td>79637</td></tr><tr><td>Deutsche_Telekom</td><td>2008</td><td>0</td><td>0</td><td>80148</td></tr><tr><td>Deutsche_Telekom</td><td>2009</td><td>0</td><td>0</td><td>85250</td></tr><tr><td>Deutsche_Telekom</td><td>2010</td><td>0</td><td>0</td><td>88108</td></tr><tr><td>Deutsche_Telekom</td><td>2011</td><td>0</td><td>0</td><td>101248</td></tr><tr><td>Deutsche_Telekom</td><td>2012</td><td>0</td><td>0</td><td>102091</td></tr><tr><td>Deutsche_Telekom</td><td>2013</td><td>0</td><td>0</td><td>125869</td></tr><tr><td>Deutsche_Telekom</td><td>2014</td><td>0</td><td>0</td><td>131735</td></tr><tr><td>Deutsche_Telekom</td><td>2015</td><td>3</td><td>0</td><td>128664</td></tr><tr><td>Deutsche_Telekom</td><td>2016</td><td>11</td><td>0</td><td>120731</td></tr><tr><td>Deutsche_Telekom</td><td>2017</td><td>5</td><td>0</td><td>133071</td></tr><tr><td>Deutsche_Telekom</td><td>2018</td><td>2</td><td>0</td><td>139448</td></tr><tr><td>Deutsche_Telekom</td><td>2019</td><td>5</td><td>0</td><td>130983</td></tr><tr><td>Deutsche_Telekom</td><td>2020</td><td>4</td><td>0</td><td>141827</td></tr><tr><td>Deutsche_Wohnen</td><td>2007</td><td>0</td><td>0</td><td>42049</td></tr><tr><td>Deutsche_Wohnen</td><td>2008</td><td>0</td><td>0</td><td>36983</td></tr><tr><td>Deutsche_Wohnen</td><td>2009</td><td>0</td><td>0</td><td>28551</td></tr><tr><td>Deutsche_Wohnen</td><td>2010</td><td>0</td><td>0</td><td>31812</td></tr><tr><td>Deutsche_Wohnen</td><td>2011</td><td>0</td><td>0</td><td>30939</td></tr><tr><td>Deutsche_Wohnen</td><td>2012</td><td>0</td><td>0</td><td>31313</td></tr><tr><td>Deutsche_Wohnen</td><td>2013</td><td>0</td><td>0</td><td>37868</td></tr><tr><td>Deutsche_Wohnen</td><td>2014</td><td>0</td><td>0</td><td>43169</td></tr><tr><td>Deutsche_Wohnen</td><td>2015</td><td>0</td><td>0</td><td>47777</td></tr><tr><td>Deutsche_Wohnen</td><td>2016</td><td>0</td><td>0</td><td>50252</td></tr><tr><td>Deutsche_Wohnen</td><td>2017</td><td>0</td><td>0</td><td>59080</td></tr><tr><td>Deutsche_Wohnen</td><td>2018</td><td>1</td><td>0</td><td>63316</td></tr><tr><td>Deutsche_Wohnen</td><td>2019</td><td>0</td><td>0</td><td>68672</td></tr><tr><td>Deutsche_Wohnen</td><td>2020</td><td>0</td><td>0</td><td>70190</td></tr><tr><td>E.ON</td><td>2007</td><td>0</td><td>0</td><td>76191</td></tr><tr><td>E.ON</td><td>2008</td><td>0</td><td>0</td><td>61532</td></tr><tr><td>E.ON</td><td>2009</td><td>0</td><td>0</td><td>63918</td></tr><tr><td>E.ON</td><td>2010</td><td>0</td><td>0</td><td>72840</td></tr><tr><td>E.ON</td><td>2011</td><td>0</td><td>0</td><td>78306</td></tr><tr><td>E.ON</td><td>2012</td><td>0</td><td>0</td><td>81458</td></tr><tr><td>E.ON</td><td>2013</td><td>0</td><td>0</td><td>85268</td></tr><tr><td>E.ON</td><td>2014</td><td>1</td><td>0</td><td>83601</td></tr><tr><td>E.ON</td><td>2015</td><td>2</td><td>0</td><td>84071</td></tr><tr><td>E.ON</td><td>2016</td><td>2</td><td>0</td><td>80805</td></tr><tr><td>E.ON</td><td>2017</td><td>0</td><td>0</td><td>77915</td></tr><tr><td>E.ON</td><td>2018</td><td>1</td><td>0</td><td>87885</td></tr><tr><td>E.ON</td><td>2019</td><td>2</td><td>0</td><td>94391</td></tr><tr><td>E.ON</td><td>2020</td><td>2</td><td>0</td><td>100618</td></tr><tr><td>Fresenius</td><td>2007</td><td>0</td><td>0</td><td>68766</td></tr><tr><td>Fresenius</td><td>2008</td><td>0</td><td>0</td><td>77444</td></tr><tr><td>Fresenius</td><td>2009</td><td>0</td><td>0</td><td>80491</td></tr><tr><td>Fresenius</td><td>2010</td><td>0</td><td>0</td><td>87779</td></tr><tr><td>Fresenius</td><td>2011</td><td>0</td><td>0</td><td>89246</td></tr><tr><td>Fresenius</td><td>2012</td><td>0</td><td>0</td><td>94529</td></tr><tr><td>Fresenius</td><td>2013</td><td>0</td><td>0</td><td>77405</td></tr><tr><td>Fresenius</td><td>2014</td><td>0</td><td>0</td><td>77061</td></tr><tr><td>Fresenius</td><td>2015</td><td>0</td><td>0</td><td>74132</td></tr><tr><td>Fresenius</td><td>2016</td><td>0</td><td>0</td><td>78878</td></tr><tr><td>Fresenius</td><td>2017</td><td>0</td><td>0</td><td>97771</td></tr><tr><td>Fresenius</td><td>2018</td><td>0</td><td>0</td><td>108511</td></tr><tr><td>Fresenius</td><td>2019</td><td>0</td><td>0</td><td>118629</td></tr><tr><td>Fresenius</td><td>2020</td><td>83</td><td>0</td><td>144301</td></tr><tr><td>Fresenius_Medical_Care</td><td>2007</td><td>0</td><td>0</td><td>84829</td></tr><tr><td>Fresenius_Medical_Care</td><td>2008</td><td>0</td><td>0</td><td>85654</td></tr><tr><td>Fresenius_Medical_Care</td><td>2009</td><td>0</td><td>0</td><td>106066</td></tr><tr><td>Fresenius_Medical_Care</td><td>2010</td><td>0</td><td>0</td><td>115928</td></tr><tr><td>Fresenius_Medical_Care</td><td>2011</td><td>0</td><td>0</td><td>102352</td></tr><tr><td>Fresenius_Medical_Care</td><td>2012</td><td>0</td><td>0</td><td>104512</td></tr><tr><td>Fresenius_Medical_Care</td><td>2013</td><td>0</td><td>0</td><td>104105</td></tr><tr><td>Fresenius_Medical_Care</td><td>2014</td><td>0</td><td>0</td><td>103437</td></tr><tr><td>Fresenius_Medical_Care</td><td>2015</td><td>0</td><td>0</td><td>85183</td></tr><tr><td>Fresenius_Medical_Care</td><td>2016</td><td>0</td><td>0</td><td>90401</td></tr><tr><td>Fresenius_Medical_Care</td><td>2017</td><td>0</td><td>0</td><td>110817</td></tr><tr><td>Fresenius_Medical_Care</td><td>2018</td><td>0</td><td>0</td><td>120720</td></tr><tr><td>Fresenius_Medical_Care</td><td>2019</td><td>0</td><td>0</td><td>130904</td></tr><tr><td>Fresenius_Medical_Care</td><td>2020</td><td>0</td><td>0</td><td>128692</td></tr><tr><td>Heidelberg_Cement</td><td>2007</td><td>0</td><td>0</td><td>38983</td></tr><tr><td>Heidelberg_Cement</td><td>2008</td><td>0</td><td>0</td><td>42304</td></tr><tr><td>Heidelberg_Cement</td><td>2009</td><td>0</td><td>0</td><td>47280</td></tr><tr><td>Heidelberg_Cement</td><td>2010</td><td>0</td><td>0</td><td>73046</td></tr><tr><td>Heidelberg_Cement</td><td>2011</td><td>0</td><td>0</td><td>79828</td></tr><tr><td>Heidelberg_Cement</td><td>2012</td><td>0</td><td>0</td><td>81817</td></tr><tr><td>Heidelberg_Cement</td><td>2013</td><td>0</td><td>0</td><td>88238</td></tr><tr><td>Heidelberg_Cement</td><td>2014</td><td>0</td><td>0</td><td>98003</td></tr><tr><td>Heidelberg_Cement</td><td>2015</td><td>0</td><td>0</td><td>90596</td></tr><tr><td>Heidelberg_Cement</td><td>2016</td><td>3</td><td>0</td><td>96237</td></tr><tr><td>Heidelberg_Cement</td><td>2017</td><td>4</td><td>2</td><td>93754</td></tr><tr><td>Heidelberg_Cement</td><td>2018</td><td>6</td><td>3</td><td>96515</td></tr><tr><td>Heidelberg_Cement</td><td>2019</td><td>5</td><td>2</td><td>85698</td></tr><tr><td>Heidelberg_Cement</td><td>2020</td><td>3</td><td>0</td><td>90995</td></tr><tr><td>Henkel_VZ</td><td>2007</td><td>0</td><td>0</td><td>40214</td></tr><tr><td>Henkel_VZ</td><td>2008</td><td>0</td><td>0</td><td>46280</td></tr><tr><td>Henkel_VZ</td><td>2009</td><td>0</td><td>0</td><td>49638</td></tr><tr><td>Henkel_VZ</td><td>2010</td><td>0</td><td>0</td><td>56144</td></tr><tr><td>Henkel_VZ</td><td>2011</td><td>0</td><td>0</td><td>62446</td></tr><tr><td>Henkel_VZ</td><td>2012</td><td>0</td><td>0</td><td>65410</td></tr><tr><td>Henkel_VZ</td><td>2013</td><td>0</td><td>0</td><td>66148</td></tr><tr><td>Henkel_VZ</td><td>2014</td><td>0</td><td>0</td><td>70471</td></tr><tr><td>Henkel_VZ</td><td>2015</td><td>0</td><td>0</td><td>72673</td></tr><tr><td>Henkel_VZ</td><td>2016</td><td>2</td><td>0</td><td>69520</td></tr><tr><td>Henkel_VZ</td><td>2017</td><td>2</td><td>1</td><td>67933</td></tr><tr><td>Henkel_VZ</td><td>2018</td><td>5</td><td>0</td><td>79100</td></tr><tr><td>Henkel_VZ</td><td>2019</td><td>3</td><td>0</td><td>83265</td></tr><tr><td>Henkel_VZ</td><td>2020</td><td>1</td><td>0</td><td>91333</td></tr><tr><td>Infineon</td><td>2007</td><td>0</td><td>0</td><td>71582</td></tr><tr><td>Infineon</td><td>2008</td><td>0</td><td>0</td><td>67199</td></tr><tr><td>Infineon</td><td>2009</td><td>0</td><td>0</td><td>81177</td></tr><tr><td>Infineon</td><td>2010</td><td>0</td><td>0</td><td>93568</td></tr><tr><td>Infineon</td><td>2011</td><td>0</td><td>0</td><td>89131</td></tr><tr><td>Infineon</td><td>2012</td><td>0</td><td>0</td><td>104530</td></tr><tr><td>Infineon</td><td>2013</td><td>0</td><td>0</td><td>99699</td></tr><tr><td>Infineon</td><td>2014</td><td>0</td><td>0</td><td>98538</td></tr><tr><td>Infineon</td><td>2015</td><td>0</td><td>0</td><td>103752</td></tr><tr><td>Infineon</td><td>2016</td><td>0</td><td>0</td><td>70266</td></tr><tr><td>Infineon</td><td>2017</td><td>1</td><td>0</td><td>72993</td></tr><tr><td>Infineon</td><td>2018</td><td>3</td><td>0</td><td>69677</td></tr><tr><td>Infineon</td><td>2019</td><td>6</td><td>0</td><td>81040</td></tr><tr><td>Infineon</td><td>2020</td><td>9</td><td>0</td><td>90758</td></tr><tr><td>Linde_plc</td><td>2007</td><td>0</td><td>0</td><td>62026</td></tr><tr><td>Linde_plc</td><td>2008</td><td>0</td><td>0</td><td>69424</td></tr><tr><td>Linde_plc</td><td>2009</td><td>0</td><td>0</td><td>73668</td></tr><tr><td>Linde_plc</td><td>2010</td><td>0</td><td>0</td><td>16897</td></tr><tr><td>Linde_plc</td><td>2011</td><td>0</td><td>0</td><td>15338</td></tr><tr><td>Linde_plc</td><td>2012</td><td>0</td><td>0</td><td>50397</td></tr><tr><td>Linde_plc</td><td>2013</td><td>0</td><td>0</td><td>91199</td></tr><tr><td>Linde_plc</td><td>2014</td><td>0</td><td>0</td><td>109754</td></tr><tr><td>Linde_plc</td><td>2015</td><td>0</td><td>0</td><td>100422</td></tr><tr><td>Linde_plc</td><td>2016</td><td>0</td><td>0</td><td>87578</td></tr><tr><td>Linde_plc</td><td>2017</td><td>0</td><td>0</td><td>90921</td></tr><tr><td>Linde_plc</td><td>2018</td><td>0</td><td>0</td><td>66005</td></tr><tr><td>Linde_plc</td><td>2019</td><td>0</td><td>0</td><td>4401</td></tr><tr><td>Merck</td><td>2007</td><td>0</td><td>0</td><td>37948</td></tr><tr><td>Merck</td><td>2008</td><td>0</td><td>0</td><td>56051</td></tr><tr><td>Merck</td><td>2009</td><td>0</td><td>0</td><td>45474</td></tr><tr><td>Merck</td><td>2010</td><td>0</td><td>0</td><td>61668</td></tr><tr><td>Merck</td><td>2011</td><td>0</td><td>0</td><td>58842</td></tr><tr><td>Merck</td><td>2012</td><td>0</td><td>0</td><td>62958</td></tr><tr><td>Merck</td><td>2013</td><td>0</td><td>0</td><td>81003</td></tr><tr><td>Merck</td><td>2014</td><td>0</td><td>0</td><td>90271</td></tr><tr><td>Merck</td><td>2015</td><td>0</td><td>1</td><td>90615</td></tr><tr><td>Merck</td><td>2016</td><td>0</td><td>0</td><td>94440</td></tr><tr><td>Merck</td><td>2017</td><td>0</td><td>0</td><td>105574</td></tr><tr><td>Merck</td><td>2018</td><td>1</td><td>0</td><td>109972</td></tr><tr><td>Merck</td><td>2019</td><td>2</td><td>0</td><td>102042</td></tr><tr><td>Merck</td><td>2020</td><td>2</td><td>0</td><td>109173</td></tr><tr><td>MTU_Aero_Engines</td><td>2007</td><td>0</td><td>0</td><td>54912</td></tr><tr><td>MTU_Aero_Engines</td><td>2008</td><td>0</td><td>0</td><td>73278</td></tr><tr><td>MTU_Aero_Engines</td><td>2009</td><td>0</td><td>0</td><td>79991</td></tr><tr><td>MTU_Aero_Engines</td><td>2010</td><td>0</td><td>0</td><td>67146</td></tr><tr><td>MTU_Aero_Engines</td><td>2011</td><td>0</td><td>0</td><td>62532</td></tr><tr><td>MTU_Aero_Engines</td><td>2012</td><td>0</td><td>0</td><td>58586</td></tr><tr><td>MTU_Aero_Engines</td><td>2013</td><td>0</td><td>0</td><td>57664</td></tr><tr><td>MTU_Aero_Engines</td><td>2014</td><td>0</td><td>0</td><td>59161</td></tr><tr><td>MTU_Aero_Engines</td><td>2015</td><td>0</td><td>0</td><td>61906</td></tr><tr><td>MTU_Aero_Engines</td><td>2016</td><td>0</td><td>0</td><td>57793</td></tr><tr><td>MTU_Aero_Engines</td><td>2017</td><td>0</td><td>0</td><td>68534</td></tr><tr><td>MTU_Aero_Engines</td><td>2018</td><td>0</td><td>0</td><td>71814</td></tr><tr><td>MTU_Aero_Engines</td><td>2019</td><td>1</td><td>0</td><td>69067</td></tr><tr><td>MTU_Aero_Engines</td><td>2020</td><td>1</td><td>0</td><td>74934</td></tr><tr><td>Münchener_Rück</td><td>2007</td><td>0</td><td>0</td><td>82626</td></tr><tr><td>Münchener_Rück</td><td>2008</td><td>0</td><td>0</td><td>88105</td></tr><tr><td>Münchener_Rück</td><td>2009</td><td>0</td><td>0</td><td>96217</td></tr><tr><td>Münchener_Rück</td><td>2010</td><td>0</td><td>0</td><td>90354</td></tr><tr><td>Münchener_Rück</td><td>2011</td><td>0</td><td>0</td><td>83964</td></tr><tr><td>Münchener_Rück</td><td>2012</td><td>0</td><td>0</td><td>86312</td></tr><tr><td>Münchener_Rück</td><td>2013</td><td>0</td><td>0</td><td>86897</td></tr><tr><td>Münchener_Rück</td><td>2014</td><td>0</td><td>0</td><td>92267</td></tr><tr><td>Münchener_Rück</td><td>2015</td><td>0</td><td>0</td><td>87624</td></tr><tr><td>Münchener_Rück</td><td>2016</td><td>1</td><td>0</td><td>62955</td></tr><tr><td>Münchener_Rück</td><td>2017</td><td>3</td><td>0</td><td>67916</td></tr><tr><td>Münchener_Rück</td><td>2018</td><td>3</td><td>0</td><td>67024</td></tr><tr><td>Münchener_Rück</td><td>2019</td><td>6</td><td>0</td><td>69589</td></tr><tr><td>Münchener_Rück</td><td>2020</td><td>3</td><td>0</td><td>80374</td></tr><tr><td>RWE</td><td>2007</td><td>0</td><td>0</td><td>55660</td></tr><tr><td>RWE</td><td>2008</td><td>0</td><td>0</td><td>66318</td></tr><tr><td>RWE</td><td>2009</td><td>0</td><td>0</td><td>64913</td></tr><tr><td>RWE</td><td>2010</td><td>0</td><td>0</td><td>70453</td></tr><tr><td>RWE</td><td>2011</td><td>0</td><td>0</td><td>75860</td></tr><tr><td>RWE</td><td>2012</td><td>0</td><td>0</td><td>73974</td></tr><tr><td>RWE</td><td>2013</td><td>0</td><td>0</td><td>78936</td></tr><tr><td>RWE</td><td>2014</td><td>0</td><td>0</td><td>74731</td></tr><tr><td>RWE</td><td>2015</td><td>0</td><td>0</td><td>65879</td></tr><tr><td>RWE</td><td>2016</td><td>0</td><td>0</td><td>72742</td></tr><tr><td>RWE</td><td>2017</td><td>0</td><td>0</td><td>73203</td></tr><tr><td>RWE</td><td>2018</td><td>0</td><td>0</td><td>73985</td></tr><tr><td>RWE</td><td>2019</td><td>0</td><td>0</td><td>72406</td></tr><tr><td>RWE</td><td>2020</td><td>0</td><td>0</td><td>77015</td></tr><tr><td>SAP</td><td>2007</td><td>0</td><td>0</td><td>86406</td></tr><tr><td>SAP</td><td>2008</td><td>0</td><td>0</td><td>89741</td></tr><tr><td>SAP</td><td>2009</td><td>0</td><td>0</td><td>93042</td></tr><tr><td>SAP</td><td>2010</td><td>0</td><td>0</td><td>99141</td></tr><tr><td>SAP</td><td>2011</td><td>0</td><td>0</td><td>110259</td></tr><tr><td>SAP</td><td>2012</td><td>0</td><td>0</td><td>106463</td></tr><tr><td>SAP</td><td>2013</td><td>0</td><td>0</td><td>110625</td></tr><tr><td>SAP</td><td>2014</td><td>0</td><td>0</td><td>103521</td></tr><tr><td>SAP</td><td>2015</td><td>1</td><td>0</td><td>102435</td></tr><tr><td>SAP</td><td>2016</td><td>3</td><td>0</td><td>122434</td></tr><tr><td>SAP</td><td>2017</td><td>19</td><td>0</td><td>123187</td></tr><tr><td>SAP</td><td>2018</td><td>12</td><td>0</td><td>138701</td></tr><tr><td>SAP</td><td>2019</td><td>3</td><td>0</td><td>133822</td></tr><tr><td>SAP</td><td>2020</td><td>6</td><td>0</td><td>138067</td></tr><tr><td>Siemens</td><td>2007</td><td>0</td><td>0</td><td>103704</td></tr><tr><td>Siemens</td><td>2008</td><td>0</td><td>0</td><td>103862</td></tr><tr><td>Siemens</td><td>2009</td><td>0</td><td>0</td><td>127218</td></tr><tr><td>Siemens</td><td>2010</td><td>0</td><td>0</td><td>142775</td></tr><tr><td>Siemens</td><td>2011</td><td>0</td><td>0</td><td>156096</td></tr><tr><td>Siemens</td><td>2012</td><td>0</td><td>0</td><td>149510</td></tr><tr><td>Siemens</td><td>2013</td><td>0</td><td>0</td><td>165579</td></tr><tr><td>Siemens</td><td>2014</td><td>0</td><td>0</td><td>126247</td></tr><tr><td>Siemens</td><td>2015</td><td>0</td><td>0</td><td>63777</td></tr><tr><td>Siemens</td><td>2016</td><td>0</td><td>0</td><td>63695</td></tr><tr><td>Siemens</td><td>2017</td><td>1</td><td>0</td><td>74375</td></tr><tr><td>Siemens</td><td>2018</td><td>2</td><td>0</td><td>77913</td></tr><tr><td>Siemens</td><td>2019</td><td>0</td><td>0</td><td>78239</td></tr><tr><td>Siemens</td><td>2020</td><td>0</td><td>0</td><td>79711</td></tr><tr><td>Siemens_Energy</td><td>2019</td><td>2</td><td>0</td><td>342216</td></tr><tr><td>Siemens_Energy</td><td>2020</td><td>0</td><td>0</td><td>71740</td></tr><tr><td>Volkswagen_VZ</td><td>2007</td><td>0</td><td>0</td><td>73568</td></tr><tr><td>Volkswagen_VZ</td><td>2008</td><td>0</td><td>0</td><td>80923</td></tr><tr><td>Volkswagen_VZ</td><td>2009</td><td>0</td><td>0</td><td>88248</td></tr><tr><td>Volkswagen_VZ</td><td>2010</td><td>0</td><td>0</td><td>88838</td></tr><tr><td>Volkswagen_VZ</td><td>2011</td><td>0</td><td>0</td><td>120730</td></tr><tr><td>Volkswagen_VZ</td><td>2012</td><td>0</td><td>0</td><td>107208</td></tr><tr><td>Volkswagen_VZ</td><td>2013</td><td>0</td><td>0</td><td>119511</td></tr><tr><td>Volkswagen_VZ</td><td>2014</td><td>0</td><td>0</td><td>134254</td></tr><tr><td>Volkswagen_VZ</td><td>2015</td><td>0</td><td>0</td><td>147534</td></tr><tr><td>Volkswagen_VZ</td><td>2016</td><td>1</td><td>1</td><td>138594</td></tr><tr><td>Volkswagen_VZ</td><td>2017</td><td>2</td><td>0</td><td>114670</td></tr><tr><td>Volkswagen_VZ</td><td>2018</td><td>2</td><td>0</td><td>128075</td></tr><tr><td>Volkswagen_VZ</td><td>2019</td><td>5</td><td>0</td><td>117952</td></tr><tr><td>Volkswagen_VZ</td><td>2020</td><td>4</td><td>0</td><td>127558</td></tr><tr><td>Vonovia</td><td>2007</td><td>0</td><td>0</td><td>33550</td></tr><tr><td>Vonovia</td><td>2008</td><td>0</td><td>0</td><td>33973</td></tr><tr><td>Vonovia</td><td>2009</td><td>0</td><td>0</td><td>35161</td></tr><tr><td>Vonovia</td><td>2010</td><td>0</td><td>0</td><td>30990</td></tr><tr><td>Vonovia</td><td>2011</td><td>0</td><td>0</td><td>39030</td></tr><tr><td>Vonovia</td><td>2012</td><td>0</td><td>0</td><td>36088</td></tr><tr><td>Vonovia</td><td>2013</td><td>0</td><td>0</td><td>51849</td></tr><tr><td>Vonovia</td><td>2014</td><td>0</td><td>0</td><td>60607</td></tr><tr><td>Vonovia</td><td>2015</td><td>0</td><td>0</td><td>71775</td></tr><tr><td>Vonovia</td><td>2016</td><td>0</td><td>0</td><td>73291</td></tr><tr><td>Vonovia</td><td>2017</td><td>0</td><td>0</td><td>82783</td></tr><tr><td>Vonovia</td><td>2018</td><td>0</td><td>0</td><td>88054</td></tr><tr><td>Vonovia</td><td>2019</td><td>0</td><td>0</td><td>88420</td></tr><tr><td>Vonovia</td><td>2020</td><td>1</td><td>0</td><td>93641</td></tr><tr><td>Beiersdorf</td><td>2015</td><td>0</td><td>0</td><td>37033</td></tr><tr><td>Beiersdorf</td><td>2016</td><td>0</td><td>0</td><td>39639</td></tr><tr><td>Beiersdorf</td><td>2017</td><td>0</td><td>0</td><td>45293</td></tr><tr><td>Beiersdorf</td><td>2018</td><td>0</td><td>0</td><td>48253</td></tr><tr><td>Beiersdorf</td><td>2019</td><td>4</td><td>0</td><td>51228</td></tr><tr><td>Beiersdorf</td><td>2020</td><td>10</td><td>0</td><td>79363</td></tr>\n",
       "    </tbody>\n",
       "</table>    \n"
      ],
      "text/plain": [
       "<IPython.core.display.HTML object>"
      ]
     },
     "execution_count": 7,
     "metadata": {},
     "output_type": "execute_result"
    }
   ],
   "source": [
    "HTML('''\n",
    "<table>\n",
    "    <thead><th>Company</th><th>Year</th><th>Occurences Digital</th><th>Occurences CDO</th><th>Words Total</th></thead>\n",
    "    <tbody>\n",
    "        {}\n",
    "    </tbody>\n",
    "</table>    \n",
    "'''.format(\n",
    "    \"\".join(\n",
    "        '<tr><td>{}</td><td>{}</td><td>{}</td><td>{}</td><td>{}</td></tr>'.format(*o) for o in occurences\n",
    "        )\n",
    "    )\n",
    ")"
   ]
  },
  {
   "cell_type": "code",
   "execution_count": null,
   "id": "f5816fb2",
   "metadata": {},
   "outputs": [],
   "source": []
  }
 ],
 "metadata": {
  "kernelspec": {
   "display_name": "Python 3",
   "language": "python",
   "name": "python3"
  },
  "language_info": {
   "codemirror_mode": {
    "name": "ipython",
    "version": 3
   },
   "file_extension": ".py",
   "mimetype": "text/x-python",
   "name": "python",
   "nbconvert_exporter": "python",
   "pygments_lexer": "ipython3",
   "version": "3.7.9"
  }
 },
 "nbformat": 4,
 "nbformat_minor": 5
}
