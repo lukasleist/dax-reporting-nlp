{
 "cells": [
  {
   "cell_type": "markdown",
   "id": "52931b26",
   "metadata": {},
   "source": [
    "# Reporting NLP"
   ]
  },
  {
   "cell_type": "code",
   "execution_count": 1,
   "id": "80a92963",
   "metadata": {},
   "outputs": [],
   "source": [
    "from IPython.display import HTML, display\n",
    "import os\n",
    "import time\n",
    "import requests\n",
    "from requests_html import HTMLSession\n",
    "import pandas as pd\n",
    "import fitz # this ist pymupdf\n",
    "from nltk import FreqDist\n",
    "from nltk.tokenize import word_tokenize, MWETokenizer"
   ]
  },
  {
   "cell_type": "markdown",
   "id": "52449dec",
   "metadata": {},
   "source": [
    "## Downloading Annual-Reports\n",
    "Annual Reports of DAX-Companies are gathered from an Overview page maintained at `boersengefluester.de`."
   ]
  },
  {
   "cell_type": "code",
   "execution_count": 2,
   "id": "05a75cee",
   "metadata": {
    "scrolled": true
   },
   "outputs": [
    {
     "name": "stdout",
     "output_type": "stream",
     "text": [
      "Links to 393 dax annual reports found\n"
     ]
    },
    {
     "data": {
      "text/plain": [
       "[('Beiersdorf',\n",
       "  2018,\n",
       "  'https://boersengefluester.de/wp-content/uploads/assets/annuals/2018/520000.pdf',\n",
       "  './downloads/Beiersdorf-2018.pdf'),\n",
       " ('Beiersdorf',\n",
       "  2019,\n",
       "  'https://boersengefluester.de/wp-content/uploads/assets/annuals/2019/520000.pdf',\n",
       "  './downloads/Beiersdorf-2019.pdf'),\n",
       " ('Beiersdorf',\n",
       "  2020,\n",
       "  'https://boersengefluester.de/wp-content/uploads/assets/annuals/2020/520000.pdf',\n",
       "  './downloads/Beiersdorf-2020.pdf')]"
      ]
     },
     "execution_count": 2,
     "metadata": {},
     "output_type": "execute_result"
    }
   ],
   "source": [
    "dax_annuals_overview_url = 'https://boersengefluester.de/download-der-dax-geschaftsberichte-von-2007-bis-2018/'\n",
    "download_folder = './downloads'\n",
    "session = HTMLSession()\n",
    "r = session.get(dax_annuals_overview_url)\n",
    "dax_annuals_links = r.html.xpath('//table[@class=\"ath_table\"] // a[img][starts-with(@title, \"Geschäftsbericht\")]')\n",
    "print('Links to {} dax annual reports found'.format(len(dax_annuals_links)))\n",
    "\n",
    "# list of tuples like (company, year, report_url)\n",
    "dax_annuals_information = [\n",
    "    (\"_\".join(r.attrs['title'].split()[1:-3]),\n",
    "     r.attrs['title'].split()[-3],\n",
    "     r.absolute_links.pop(),\n",
    "    ) for r in dax_annuals_links\n",
    "]\n",
    "\n",
    "#manually add beiersdorf as not any more in overview (kicked from dax as of 2021)\n",
    "dax_annuals_information += [\n",
    "    (\"Beiersdorf\",\n",
    "     year,\n",
    "     'https://boersengefluester.de/wp-content/uploads/assets/annuals/{}/520000.pdf'.format(year)\n",
    "    ) for year in range(2015, 2021)\n",
    "]\n",
    "\n",
    "dax_annuals_information = [\n",
    "    (company,\n",
    "     year,\n",
    "     url,\n",
    "     '{}/{}-{}.pdf'.format(download_folder, company, year)) for company, year, url in dax_annuals_information\n",
    "]\n",
    "\n",
    "dax_annuals_information[-3:]"
   ]
  },
  {
   "cell_type": "code",
   "execution_count": null,
   "id": "ed691e38",
   "metadata": {},
   "outputs": [],
   "source": []
  },
  {
   "cell_type": "markdown",
   "id": "24872a3a",
   "metadata": {},
   "source": [
    "Links to annual Reports for MDAX-Companies are read from manually supplied csv"
   ]
  },
  {
   "cell_type": "code",
   "execution_count": 3,
   "id": "91f93822",
   "metadata": {},
   "outputs": [
    {
     "data": {
      "text/plain": [
       "[('Zalando SE',\n",
       "  2018,\n",
       "  'https://boersengefluester.de/wp-content/uploads/assets/annuals/2018/ZAL111.pdf',\n",
       "  './downloads/Zalando SE-2018.pdf'),\n",
       " ('Zalando SE',\n",
       "  2019,\n",
       "  'https://boersengefluester.de/wp-content/uploads/assets/annuals/2019/ZAL111.pdf',\n",
       "  './downloads/Zalando SE-2019.pdf'),\n",
       " ('Zalando SE',\n",
       "  2020,\n",
       "  'https://boersengefluester.de/wp-content/uploads/assets/annuals/2020/ZAL111.pdf',\n",
       "  './downloads/Zalando SE-2020.pdf')]"
      ]
     },
     "execution_count": 3,
     "metadata": {},
     "output_type": "execute_result"
    }
   ],
   "source": [
    "mdax_df = pd.read_csv('./mdax_annuals.csv', ';')\n",
    "\n",
    "mdax_annuals_information = []\n",
    "\n",
    "for index, row in mdax_df.iterrows():\n",
    "    company = row['Unternehmen']\n",
    "    for year in range(2012, 2021):\n",
    "        url = row[str(year)]\n",
    "        if url and not str(url) == 'nan':\n",
    "            mdax_annuals_information.append(\n",
    "                (company, year, url, '{}/{}-{}.pdf'.format(download_folder, company, year))\n",
    "            )\n",
    "\n",
    "mdax_annuals_information[-3:]"
   ]
  },
  {
   "cell_type": "code",
   "execution_count": 4,
   "id": "1c56e01a",
   "metadata": {},
   "outputs": [
    {
     "name": "stdout",
     "output_type": "stream",
     "text": [
      "Download directory already exists, proceed to download missing annuals\n",
      "Succesfully downloaded  0  reports.\n"
     ]
    }
   ],
   "source": [
    "try:\n",
    "    os.makedirs(download_folder)\n",
    "    print('Created Download directory, proceed downloading reports')\n",
    "except:\n",
    "    print('Download directory already exists, proceed to download missing annuals')\n",
    "    \n",
    "i = dax_annuals_information + mdax_annuals_information\n",
    "    \n",
    "counter = 0\n",
    "for company, year, url, download_path in i:\n",
    "    if(not os.path.exists(download_path)):\n",
    "        print('Downloading: ', url)\n",
    "\n",
    "        try:\n",
    "            response = requests.get(url)\n",
    "        except requests.exceptions.SSLError:\n",
    "            response = requests.get(url, verify=False)\n",
    "            \n",
    "        with open(download_path, 'wb') as fp:\n",
    "            fp.write(response.content)\n",
    "            print(\"Saved: \", '{}-{}.pdf'.format(company, year))\n",
    "            counter += 1\n",
    "\n",
    "        print(\"Waiting for 3 seconds\")\n",
    "        time.sleep(1) # wait to not overrun server...\n",
    "\n",
    "print('Succesfully downloaded ', counter, ' reports.')\n"
   ]
  },
  {
   "cell_type": "markdown",
   "id": "18224a57",
   "metadata": {},
   "source": [
    "## Reading Sustainability Reporting Dax and MDax\n",
    "Sustainability Reports are supplied in a manually created folder"
   ]
  },
  {
   "cell_type": "code",
   "execution_count": 5,
   "id": "8ce378e1",
   "metadata": {},
   "outputs": [
    {
     "data": {
      "text/plain": [
       "[('AarealBank',\n",
       "  '2017',\n",
       "  None,\n",
       "  './sustainability-reports/MDax_Nachhaltigkeitsberichte/AarealBank_2017.pdf'),\n",
       " ('AarealBank',\n",
       "  '2018',\n",
       "  None,\n",
       "  './sustainability-reports/MDax_Nachhaltigkeitsberichte/AarealBank_2018.pdf'),\n",
       " ('AarealBank',\n",
       "  '2019',\n",
       "  None,\n",
       "  './sustainability-reports/MDax_Nachhaltigkeitsberichte/AarealBank_2019.pdf')]"
      ]
     },
     "execution_count": 5,
     "metadata": {},
     "output_type": "execute_result"
    }
   ],
   "source": [
    "dax_sustainability_information = []\n",
    "mdax_sustainability_information = []\n",
    "\n",
    "try:\n",
    "    dax_files = os.listdir('./sustainability-reports/Dax_Nachhaltigkeitsberichte')\n",
    "\n",
    "    dax_sustainability_information = [\n",
    "        (f.split('_')[0],\n",
    "         \",\".join(f.split('_')[1:])[:-4],\n",
    "         None,\n",
    "         './sustainability-reports/Dax_Nachhaltigkeitsberichte/' + f\n",
    "        ) for f in dax_files if f.endswith('.pdf')\n",
    "    ]\n",
    "except FileNotFoundError:\n",
    "    print('Could not find Dax sustainability reports')\n",
    "\n",
    "    \n",
    "try:\n",
    "    mdax_files = os.listdir('./sustainability-reports/MDax_Nachhaltigkeitsberichte')\n",
    "\n",
    "    mdax_sustainability_information = [\n",
    "        (f.split('_')[0],\n",
    "         \",\".join(f.split('_')[1:])[:-4],\n",
    "         None,\n",
    "         './sustainability-reports/MDax_Nachhaltigkeitsberichte/' + f\n",
    "        ) for f in mdax_files if f.endswith('.pdf')\n",
    "    ]\n",
    "except FileNotFoundError:\n",
    "    print('Could not find Dax sustainability reports')\n",
    "\n",
    "mdax_sustainability_information[:3]"
   ]
  },
  {
   "cell_type": "markdown",
   "id": "6ce605ef",
   "metadata": {},
   "source": [
    "## Analyze Reports\n",
    "Counting the occurence of several words and its synonyms\n",
    "\n",
    "### Keywords related to digitalization and CDOs"
   ]
  },
  {
   "cell_type": "code",
   "execution_count": 6,
   "id": "695e2fa6",
   "metadata": {},
   "outputs": [],
   "source": [
    "digital_keywords = [\n",
    "    ('digitalisierung'),\n",
    "    ('digitalization'),\n",
    "    ('digitalisation'),\n",
    "    ('digital', 'transformation'),\n",
    "    ('digitale', 'transformation'),\n",
    "    ('digital', 'innovation'),\n",
    "    ('digitale', 'innovation'),\n",
    "    ('digital', 'business', 'strategy')\n",
    "]\n",
    "cdo_keywords = [\n",
    "    ('cdo'),\n",
    "    ('chief', 'digital', 'officier'),\n",
    "    ('chief', 'digital', 'officer')\n",
    "]\n"
   ]
  },
  {
   "cell_type": "markdown",
   "id": "f9128f2f",
   "metadata": {},
   "source": [
    "### Keywords related to Artificial Intelligence"
   ]
  },
  {
   "cell_type": "code",
   "execution_count": 7,
   "id": "b6c825c3",
   "metadata": {},
   "outputs": [],
   "source": [
    "ai_keywords_en = [\n",
    "    ('artificial', 'intelligence'),\n",
    "    ('ai'), ('machine', 'learning'),\n",
    "    ('intelligent'),\n",
    "    ('deep', 'learning'),\n",
    "    ('neural', 'networks')\n",
    "]\n",
    "\n",
    "ai_keywords_de = [\n",
    "    ('künstliche', 'intelligenz'),\n",
    "    ('ki'),\n",
    "    ('maschinelles', 'lernen'),\n",
    "    ('intelligent'),\n",
    "    ('deep', 'learning'),\n",
    "    ('neuronale', 'netze')\n",
    "]\n",
    "\n",
    "ai_keywords = ai_keywords_en + ai_keywords_de"
   ]
  },
  {
   "cell_type": "markdown",
   "id": "a45e24e8",
   "metadata": {},
   "source": [
    "### Function to Count ocurences of given keywords"
   ]
  },
  {
   "cell_type": "code",
   "execution_count": 8,
   "id": "6d7dff34",
   "metadata": {},
   "outputs": [],
   "source": [
    "keyword_mwe_tokenizer = MWETokenizer(digital_keywords + cdo_keywords + ai_keywords)\n",
    "\n",
    "def count_occurences(reports_information, *keyword_lists):\n",
    "    occurences = []\n",
    "    for company, year, _, path in reports_information:\n",
    "        try:\n",
    "            with fitz.open(path) as doc:\n",
    "                text = \"\"\n",
    "                for page in doc:\n",
    "                    text += page.getText().lower()\n",
    "\n",
    "                tokens = [];\n",
    "                for w in word_tokenize(text):\n",
    "                    for t in w.split('-'):\n",
    "                        if t.isalpha():\n",
    "                            tokens.append(t)\n",
    "\n",
    "                tokens = keyword_mwe_tokenizer.tokenize(tokens) # re-tokenize to with given multi word token.\n",
    "                freqDist = FreqDist(tokens)\n",
    "\n",
    "                keyword_occurences = [\n",
    "                    sum(freqDist['_'.join(k)] for k in k_list) for k_list in keyword_lists\n",
    "                ]\n",
    "\n",
    "                words_total = len(tokens)\n",
    "                occurences.append(\n",
    "                    (company, year, *keyword_occurences, words_total)\n",
    "                )\n",
    "        except:\n",
    "            print('failed to open ', path)\n",
    "    return occurences"
   ]
  },
  {
   "cell_type": "code",
   "execution_count": 9,
   "id": "f743460a",
   "metadata": {},
   "outputs": [],
   "source": [
    "def render_table(occurences, *col_names):\n",
    "    head = '<thead>' + ( '<th>{}</th>'*len(col_names) ).format(*col_names) + '</thead>'\n",
    "    row = '<tr>' + '<td>{}</td>'*len(col_names) + '</tr>'\n",
    "    return HTML('''\n",
    "            <table>\n",
    "                <thead>\n",
    "                    {}\n",
    "                </thead>\n",
    "                <tbody>\n",
    "                    {}\n",
    "                </tbody>\n",
    "            </table>    \n",
    "            '''.format(\n",
    "                head,\n",
    "                \"\".join(row.format(*o) for o in occurences)\n",
    "                )\n",
    "            )"
   ]
  },
  {
   "cell_type": "markdown",
   "id": "eb575c29",
   "metadata": {},
   "source": [
    "### Occurences of keywords related to digitalization, CDOs AI in DAX Annual Reporting"
   ]
  },
  {
   "cell_type": "code",
   "execution_count": 10,
   "id": "d15c5d0f",
   "metadata": {
    "scrolled": true
   },
   "outputs": [
    {
     "name": "stderr",
     "output_type": "stream",
     "text": [
      "mupdf: invalid page object\n",
      "mupdf: invalid page object\n",
      "mupdf: invalid page object\n",
      "mupdf: invalid page object\n",
      "mupdf: invalid page object\n",
      "mupdf: invalid page object\n",
      "mupdf: invalid page object\n",
      "mupdf: invalid page object\n",
      "mupdf: invalid page object\n",
      "mupdf: invalid page object\n",
      "mupdf: invalid page object\n",
      "mupdf: invalid page object\n",
      "mupdf: invalid page object\n",
      "mupdf: invalid page object\n",
      "mupdf: invalid page object\n",
      "mupdf: invalid page object\n",
      "mupdf: invalid page object\n",
      "mupdf: invalid page object\n",
      "mupdf: invalid page object\n",
      "mupdf: invalid page object\n",
      "mupdf: invalid page object\n",
      "mupdf: invalid page object\n",
      "mupdf: invalid page object\n"
     ]
    },
    {
     "data": {
      "text/html": [
       "\n",
       "            <table>\n",
       "                <thead>\n",
       "                    <thead><th>Company</th><th>Year</th><th>Occurences Digital</th><th>Occurences CDO</th><th>Occurences AI (en)</th><th>Occurences AI (de)</th><th>Occurences AI (combined)</th><th>Words Total</th></thead>\n",
       "                </thead>\n",
       "                <tbody>\n",
       "                    <tr><td>Adidas</td><td>2007</td><td>0</td><td>0</td><td>0</td><td>0</td><td>0</td><td>86281</td></tr><tr><td>Adidas</td><td>2008</td><td>0</td><td>0</td><td>0</td><td>0</td><td>0</td><td>89077</td></tr><tr><td>Adidas</td><td>2009</td><td>0</td><td>0</td><td>0</td><td>0</td><td>0</td><td>102075</td></tr><tr><td>Adidas</td><td>2010</td><td>0</td><td>0</td><td>0</td><td>0</td><td>0</td><td>102766</td></tr><tr><td>Adidas</td><td>2011</td><td>0</td><td>0</td><td>1</td><td>0</td><td>1</td><td>102265</td></tr><tr><td>Adidas</td><td>2012</td><td>0</td><td>0</td><td>2</td><td>0</td><td>2</td><td>117044</td></tr><tr><td>Adidas</td><td>2013</td><td>0</td><td>0</td><td>1</td><td>0</td><td>1</td><td>110617</td></tr><tr><td>Adidas</td><td>2014</td><td>0</td><td>0</td><td>0</td><td>0</td><td>0</td><td>93325</td></tr><tr><td>Adidas</td><td>2015</td><td>0</td><td>0</td><td>0</td><td>0</td><td>0</td><td>96688</td></tr><tr><td>Adidas</td><td>2016</td><td>2</td><td>0</td><td>0</td><td>0</td><td>0</td><td>94996</td></tr><tr><td>Adidas</td><td>2017</td><td>3</td><td>0</td><td>0</td><td>2</td><td>2</td><td>116549</td></tr><tr><td>Adidas</td><td>2018</td><td>4</td><td>0</td><td>0</td><td>1</td><td>1</td><td>118445</td></tr><tr><td>Adidas</td><td>2019</td><td>2</td><td>0</td><td>0</td><td>0</td><td>0</td><td>111680</td></tr><tr><td>Adidas</td><td>2020</td><td>4</td><td>0</td><td>0</td><td>0</td><td>0</td><td>106409</td></tr><tr><td>Allianz</td><td>2007</td><td>0</td><td>0</td><td>0</td><td>4</td><td>4</td><td>96867</td></tr><tr><td>Allianz</td><td>2008</td><td>0</td><td>0</td><td>0</td><td>1</td><td>1</td><td>103224</td></tr><tr><td>Allianz</td><td>2009</td><td>0</td><td>0</td><td>0</td><td>0</td><td>0</td><td>123364</td></tr><tr><td>Allianz</td><td>2010</td><td>0</td><td>0</td><td>0</td><td>0</td><td>0</td><td>118802</td></tr><tr><td>Allianz</td><td>2011</td><td>0</td><td>0</td><td>5</td><td>1</td><td>6</td><td>174075</td></tr><tr><td>Allianz</td><td>2012</td><td>0</td><td>0</td><td>0</td><td>0</td><td>0</td><td>142930</td></tr><tr><td>Allianz</td><td>2013</td><td>0</td><td>0</td><td>0</td><td>0</td><td>0</td><td>111085</td></tr><tr><td>Allianz</td><td>2014</td><td>0</td><td>0</td><td>0</td><td>0</td><td>0</td><td>124953</td></tr><tr><td>Allianz</td><td>2015</td><td>0</td><td>0</td><td>0</td><td>0</td><td>0</td><td>115558</td></tr><tr><td>Allianz</td><td>2016</td><td>0</td><td>0</td><td>0</td><td>0</td><td>0</td><td>78509</td></tr><tr><td>Allianz</td><td>2017</td><td>0</td><td>0</td><td>0</td><td>0</td><td>0</td><td>83523</td></tr><tr><td>Allianz</td><td>2018</td><td>0</td><td>0</td><td>0</td><td>1</td><td>1</td><td>92081</td></tr><tr><td>Allianz</td><td>2019</td><td>2</td><td>0</td><td>0</td><td>0</td><td>0</td><td>92832</td></tr><tr><td>Allianz</td><td>2020</td><td>2</td><td>0</td><td>0</td><td>0</td><td>0</td><td>102504</td></tr><tr><td>BASF</td><td>2007</td><td>0</td><td>0</td><td>0</td><td>0</td><td>0</td><td>78193</td></tr><tr><td>BASF</td><td>2008</td><td>0</td><td>0</td><td>0</td><td>0</td><td>0</td><td>80985</td></tr><tr><td>BASF</td><td>2009</td><td>0</td><td>0</td><td>0</td><td>0</td><td>0</td><td>91302</td></tr><tr><td>BASF</td><td>2010</td><td>0</td><td>0</td><td>0</td><td>0</td><td>0</td><td>90153</td></tr><tr><td>BASF</td><td>2011</td><td>0</td><td>0</td><td>0</td><td>0</td><td>0</td><td>91553</td></tr><tr><td>BASF</td><td>2012</td><td>0</td><td>0</td><td>0</td><td>0</td><td>0</td><td>93281</td></tr><tr><td>BASF</td><td>2013</td><td>0</td><td>0</td><td>0</td><td>0</td><td>0</td><td>96667</td></tr><tr><td>BASF</td><td>2014</td><td>0</td><td>0</td><td>6</td><td>6</td><td>12</td><td>97608</td></tr><tr><td>BASF</td><td>2015</td><td>0</td><td>0</td><td>3</td><td>3</td><td>6</td><td>98705</td></tr><tr><td>BASF</td><td>2016</td><td>4</td><td>0</td><td>0</td><td>0</td><td>0</td><td>98844</td></tr><tr><td>BASF</td><td>2017</td><td>0</td><td>0</td><td>0</td><td>0</td><td>0</td><td>104535</td></tr><tr><td>BASF</td><td>2018</td><td>1</td><td>0</td><td>0</td><td>1</td><td>1</td><td>126505</td></tr><tr><td>BASF</td><td>2019</td><td>0</td><td>0</td><td>0</td><td>0</td><td>0</td><td>129305</td></tr><tr><td>BASF</td><td>2020</td><td>2</td><td>0</td><td>0</td><td>2</td><td>2</td><td>145269</td></tr><tr><td>Bayer</td><td>2007</td><td>0</td><td>0</td><td>0</td><td>0</td><td>0</td><td>68250</td></tr><tr><td>Bayer</td><td>2008</td><td>0</td><td>0</td><td>0</td><td>0</td><td>0</td><td>83581</td></tr><tr><td>Bayer</td><td>2009</td><td>0</td><td>0</td><td>0</td><td>0</td><td>0</td><td>91103</td></tr><tr><td>Bayer</td><td>2010</td><td>0</td><td>0</td><td>0</td><td>0</td><td>0</td><td>91644</td></tr><tr><td>Bayer</td><td>2011</td><td>0</td><td>0</td><td>0</td><td>0</td><td>0</td><td>92643</td></tr><tr><td>Bayer</td><td>2012</td><td>0</td><td>0</td><td>0</td><td>0</td><td>0</td><td>100098</td></tr><tr><td>Bayer</td><td>2013</td><td>0</td><td>0</td><td>0</td><td>0</td><td>0</td><td>123607</td></tr><tr><td>Bayer</td><td>2014</td><td>0</td><td>0</td><td>0</td><td>0</td><td>0</td><td>116839</td></tr><tr><td>Bayer</td><td>2015</td><td>0</td><td>0</td><td>0</td><td>0</td><td>0</td><td>119157</td></tr><tr><td>Bayer</td><td>2016</td><td>0</td><td>0</td><td>0</td><td>0</td><td>0</td><td>113502</td></tr><tr><td>Bayer</td><td>2017</td><td>0</td><td>0</td><td>0</td><td>1</td><td>1</td><td>118300</td></tr><tr><td>Bayer</td><td>2018</td><td>4</td><td>0</td><td>1</td><td>2</td><td>3</td><td>104338</td></tr><tr><td>Bayer</td><td>2019</td><td>2</td><td>0</td><td>1</td><td>3</td><td>4</td><td>87462</td></tr><tr><td>Bayer</td><td>2020</td><td>8</td><td>0</td><td>0</td><td>4</td><td>4</td><td>98739</td></tr><tr><td>BMW_ST</td><td>2007</td><td>0</td><td>0</td><td>0</td><td>2</td><td>2</td><td>64107</td></tr><tr><td>BMW_ST</td><td>2008</td><td>0</td><td>0</td><td>0</td><td>0</td><td>0</td><td>67162</td></tr><tr><td>BMW_ST</td><td>2009</td><td>0</td><td>0</td><td>0</td><td>0</td><td>0</td><td>75571</td></tr><tr><td>BMW_ST</td><td>2010</td><td>0</td><td>0</td><td>0</td><td>0</td><td>0</td><td>73725</td></tr><tr><td>BMW_ST</td><td>2011</td><td>0</td><td>0</td><td>0</td><td>0</td><td>0</td><td>77886</td></tr><tr><td>BMW_ST</td><td>2012</td><td>0</td><td>0</td><td>0</td><td>0</td><td>0</td><td>77634</td></tr><tr><td>BMW_ST</td><td>2013</td><td>0</td><td>0</td><td>0</td><td>0</td><td>0</td><td>79853</td></tr><tr><td>BMW_ST</td><td>2014</td><td>0</td><td>0</td><td>0</td><td>0</td><td>0</td><td>80462</td></tr><tr><td>BMW_ST</td><td>2015</td><td>0</td><td>0</td><td>0</td><td>0</td><td>0</td><td>81391</td></tr><tr><td>BMW_ST</td><td>2016</td><td>0</td><td>0</td><td>0</td><td>2</td><td>2</td><td>74652</td></tr><tr><td>BMW_ST</td><td>2017</td><td>0</td><td>0</td><td>0</td><td>2</td><td>2</td><td>83244</td></tr><tr><td>BMW_ST</td><td>2018</td><td>0</td><td>0</td><td>2</td><td>5</td><td>7</td><td>84833</td></tr><tr><td>BMW_ST</td><td>2019</td><td>0</td><td>0</td><td>1</td><td>4</td><td>5</td><td>82593</td></tr><tr><td>BMW_ST</td><td>2020</td><td>1</td><td>0</td><td>0</td><td>6</td><td>6</td><td>112595</td></tr><tr><td>Continental</td><td>2007</td><td>0</td><td>0</td><td>0</td><td>0</td><td>0</td><td>71491</td></tr><tr><td>Continental</td><td>2008</td><td>0</td><td>0</td><td>0</td><td>0</td><td>0</td><td>76634</td></tr><tr><td>Continental</td><td>2009</td><td>0</td><td>0</td><td>0</td><td>0</td><td>0</td><td>97404</td></tr><tr><td>Continental</td><td>2010</td><td>0</td><td>0</td><td>0</td><td>0</td><td>0</td><td>95648</td></tr><tr><td>Continental</td><td>2011</td><td>0</td><td>0</td><td>0</td><td>0</td><td>0</td><td>95989</td></tr><tr><td>Continental</td><td>2012</td><td>0</td><td>0</td><td>0</td><td>0</td><td>0</td><td>91520</td></tr><tr><td>Continental</td><td>2013</td><td>0</td><td>0</td><td>0</td><td>0</td><td>0</td><td>96687</td></tr><tr><td>Continental</td><td>2014</td><td>0</td><td>0</td><td>0</td><td>0</td><td>0</td><td>96399</td></tr><tr><td>Continental</td><td>2015</td><td>0</td><td>0</td><td>0</td><td>0</td><td>0</td><td>93169</td></tr><tr><td>Continental</td><td>2016</td><td>2</td><td>0</td><td>2</td><td>2</td><td>4</td><td>92714</td></tr><tr><td>Continental</td><td>2017</td><td>2</td><td>0</td><td>0</td><td>2</td><td>2</td><td>87336</td></tr><tr><td>Continental</td><td>2018</td><td>0</td><td>0</td><td>0</td><td>1</td><td>1</td><td>93389</td></tr><tr><td>Continental</td><td>2019</td><td>0</td><td>0</td><td>0</td><td>3</td><td>3</td><td>90681</td></tr><tr><td>Continental</td><td>2020</td><td>0</td><td>0</td><td>0</td><td>1</td><td>1</td><td>97064</td></tr><tr><td>Covestro</td><td>2015</td><td>0</td><td>0</td><td>0</td><td>0</td><td>0</td><td>70183</td></tr><tr><td>Covestro</td><td>2016</td><td>0</td><td>0</td><td>0</td><td>0</td><td>0</td><td>68859</td></tr><tr><td>Covestro</td><td>2017</td><td>0</td><td>0</td><td>0</td><td>0</td><td>0</td><td>86309</td></tr><tr><td>Covestro</td><td>2018</td><td>2</td><td>0</td><td>0</td><td>2</td><td>2</td><td>85637</td></tr><tr><td>Covestro</td><td>2019</td><td>2</td><td>0</td><td>0</td><td>2</td><td>2</td><td>80494</td></tr><tr><td>Covestro</td><td>2020</td><td>0</td><td>0</td><td>0</td><td>1</td><td>1</td><td>101064</td></tr><tr><td>Daimler</td><td>2007</td><td>0</td><td>0</td><td>0</td><td>0</td><td>0</td><td>78549</td></tr><tr><td>Daimler</td><td>2008</td><td>0</td><td>0</td><td>0</td><td>0</td><td>0</td><td>81055</td></tr><tr><td>Daimler</td><td>2009</td><td>0</td><td>0</td><td>0</td><td>0</td><td>0</td><td>96378</td></tr><tr><td>Daimler</td><td>2010</td><td>0</td><td>0</td><td>0</td><td>0</td><td>0</td><td>94545</td></tr><tr><td>Daimler</td><td>2011</td><td>0</td><td>0</td><td>0</td><td>0</td><td>0</td><td>100522</td></tr><tr><td>Daimler</td><td>2012</td><td>0</td><td>0</td><td>0</td><td>0</td><td>0</td><td>110664</td></tr><tr><td>Daimler</td><td>2013</td><td>0</td><td>0</td><td>0</td><td>0</td><td>0</td><td>115109</td></tr><tr><td>Daimler</td><td>2014</td><td>0</td><td>0</td><td>0</td><td>0</td><td>0</td><td>118225</td></tr><tr><td>Daimler</td><td>2015</td><td>1</td><td>0</td><td>1</td><td>0</td><td>1</td><td>125122</td></tr><tr><td>Daimler</td><td>2016</td><td>2</td><td>0</td><td>0</td><td>0</td><td>0</td><td>124150</td></tr><tr><td>Daimler</td><td>2017</td><td>1</td><td>0</td><td>0</td><td>0</td><td>0</td><td>141121</td></tr><tr><td>Daimler</td><td>2018</td><td>0</td><td>0</td><td>0</td><td>5</td><td>5</td><td>153849</td></tr><tr><td>Daimler</td><td>2019</td><td>1</td><td>0</td><td>0</td><td>5</td><td>5</td><td>152214</td></tr><tr><td>Daimler</td><td>2020</td><td>1</td><td>0</td><td>0</td><td>1</td><td>1</td><td>126910</td></tr><tr><td>Delivery_Hero</td><td>2014</td><td>0</td><td>0</td><td>0</td><td>0</td><td>0</td><td>28435</td></tr><tr><td>Delivery_Hero</td><td>2015</td><td>0</td><td>0</td><td>0</td><td>0</td><td>0</td><td>28459</td></tr><tr><td>Delivery_Hero</td><td>2016</td><td>0</td><td>0</td><td>0</td><td>0</td><td>0</td><td>42193</td></tr><tr><td>Delivery_Hero</td><td>2017</td><td>0</td><td>0</td><td>1</td><td>0</td><td>1</td><td>72482</td></tr><tr><td>Delivery_Hero</td><td>2018</td><td>0</td><td>0</td><td>1</td><td>0</td><td>1</td><td>67351</td></tr><tr><td>Delivery_Hero</td><td>2019</td><td>0</td><td>0</td><td>3</td><td>0</td><td>3</td><td>67284</td></tr><tr><td>Delivery_Hero</td><td>2020</td><td>0</td><td>0</td><td>0</td><td>0</td><td>0</td><td>81968</td></tr><tr><td>Deutsche_Bank</td><td>2007</td><td>0</td><td>0</td><td>0</td><td>0</td><td>0</td><td>116387</td></tr><tr><td>Deutsche_Bank</td><td>2008</td><td>0</td><td>0</td><td>0</td><td>0</td><td>0</td><td>129725</td></tr><tr><td>Deutsche_Bank</td><td>2009</td><td>0</td><td>0</td><td>0</td><td>0</td><td>0</td><td>134363</td></tr><tr><td>Deutsche_Bank</td><td>2010</td><td>0</td><td>0</td><td>0</td><td>0</td><td>0</td><td>164874</td></tr><tr><td>Deutsche_Bank</td><td>2011</td><td>0</td><td>0</td><td>0</td><td>0</td><td>0</td><td>178816</td></tr><tr><td>Deutsche_Bank</td><td>2012</td><td>0</td><td>0</td><td>0</td><td>0</td><td>0</td><td>214592</td></tr><tr><td>Deutsche_Bank</td><td>2013</td><td>0</td><td>0</td><td>0</td><td>0</td><td>0</td><td>228425</td></tr><tr><td>Deutsche_Bank</td><td>2014</td><td>0</td><td>0</td><td>0</td><td>0</td><td>0</td><td>243215</td></tr><tr><td>Deutsche_Bank</td><td>2015</td><td>1</td><td>0</td><td>0</td><td>0</td><td>0</td><td>189161</td></tr><tr><td>Deutsche_Bank</td><td>2016</td><td>2</td><td>0</td><td>0</td><td>0</td><td>0</td><td>200559</td></tr><tr><td>Deutsche_Bank</td><td>2017</td><td>3</td><td>0</td><td>0</td><td>1</td><td>1</td><td>193880</td></tr><tr><td>Deutsche_Bank</td><td>2018</td><td>0</td><td>0</td><td>0</td><td>1</td><td>1</td><td>208465</td></tr><tr><td>Deutsche_Bank</td><td>2019</td><td>0</td><td>0</td><td>0</td><td>1</td><td>1</td><td>218933</td></tr><tr><td>Deutsche_Bank</td><td>2020</td><td>3</td><td>0</td><td>1</td><td>1</td><td>2</td><td>233883</td></tr><tr><td>Deutsche_Börse</td><td>2007</td><td>0</td><td>0</td><td>0</td><td>0</td><td>0</td><td>79460</td></tr><tr><td>Deutsche_Börse</td><td>2008</td><td>0</td><td>0</td><td>0</td><td>0</td><td>0</td><td>86720</td></tr><tr><td>Deutsche_Börse</td><td>2009</td><td>0</td><td>0</td><td>0</td><td>0</td><td>0</td><td>88261</td></tr><tr><td>Deutsche_Börse</td><td>2010</td><td>0</td><td>0</td><td>0</td><td>0</td><td>0</td><td>104363</td></tr><tr><td>Deutsche_Börse</td><td>2011</td><td>0</td><td>0</td><td>0</td><td>0</td><td>0</td><td>98996</td></tr><tr><td>Deutsche_Börse</td><td>2012</td><td>0</td><td>0</td><td>0</td><td>0</td><td>0</td><td>116503</td></tr><tr><td>Deutsche_Börse</td><td>2013</td><td>0</td><td>0</td><td>0</td><td>0</td><td>0</td><td>101359</td></tr><tr><td>Deutsche_Börse</td><td>2014</td><td>0</td><td>0</td><td>0</td><td>0</td><td>0</td><td>106170</td></tr><tr><td>Deutsche_Börse</td><td>2015</td><td>0</td><td>0</td><td>0</td><td>0</td><td>0</td><td>100673</td></tr><tr><td>Deutsche_Börse</td><td>2016</td><td>0</td><td>0</td><td>0</td><td>0</td><td>0</td><td>95209</td></tr><tr><td>Deutsche_Börse</td><td>2017</td><td>0</td><td>0</td><td>1</td><td>6</td><td>7</td><td>154404</td></tr><tr><td>Deutsche_Börse</td><td>2018</td><td>0</td><td>0</td><td>0</td><td>3</td><td>3</td><td>121692</td></tr><tr><td>Deutsche_Börse</td><td>2019</td><td>0</td><td>0</td><td>0</td><td>0</td><td>0</td><td>90263</td></tr><tr><td>Deutsche_Börse</td><td>2020</td><td>0</td><td>0</td><td>0</td><td>1</td><td>1</td><td>91121</td></tr><tr><td>Deutsche_Post</td><td>2007</td><td>0</td><td>0</td><td>0</td><td>0</td><td>0</td><td>72140</td></tr><tr><td>Deutsche_Post</td><td>2008</td><td>0</td><td>0</td><td>0</td><td>0</td><td>0</td><td>75249</td></tr><tr><td>Deutsche_Post</td><td>2009</td><td>0</td><td>0</td><td>0</td><td>0</td><td>0</td><td>84795</td></tr><tr><td>Deutsche_Post</td><td>2010</td><td>0</td><td>0</td><td>0</td><td>0</td><td>0</td><td>83280</td></tr><tr><td>Deutsche_Post</td><td>2011</td><td>0</td><td>0</td><td>0</td><td>0</td><td>0</td><td>89649</td></tr><tr><td>Deutsche_Post</td><td>2012</td><td>0</td><td>0</td><td>0</td><td>0</td><td>0</td><td>75721</td></tr><tr><td>Deutsche_Post</td><td>2013</td><td>0</td><td>0</td><td>0</td><td>0</td><td>0</td><td>75356</td></tr><tr><td>Deutsche_Post</td><td>2014</td><td>0</td><td>0</td><td>0</td><td>0</td><td>0</td><td>75402</td></tr><tr><td>Deutsche_Post</td><td>2015</td><td>0</td><td>0</td><td>0</td><td>0</td><td>0</td><td>70381</td></tr><tr><td>Deutsche_Post</td><td>2016</td><td>1</td><td>0</td><td>0</td><td>0</td><td>0</td><td>69663</td></tr><tr><td>Deutsche_Post</td><td>2017</td><td>1</td><td>0</td><td>1</td><td>0</td><td>1</td><td>67724</td></tr><tr><td>Deutsche_Post</td><td>2018</td><td>3</td><td>0</td><td>0</td><td>1</td><td>1</td><td>70129</td></tr><tr><td>Deutsche_Post</td><td>2019</td><td>3</td><td>0</td><td>0</td><td>0</td><td>0</td><td>66140</td></tr><tr><td>Deutsche_Post</td><td>2020</td><td>2</td><td>0</td><td>0</td><td>0</td><td>0</td><td>73622</td></tr><tr><td>Deutsche_Telekom</td><td>2007</td><td>0</td><td>0</td><td>0</td><td>1</td><td>1</td><td>85114</td></tr><tr><td>Deutsche_Telekom</td><td>2008</td><td>0</td><td>0</td><td>0</td><td>1</td><td>1</td><td>85769</td></tr><tr><td>Deutsche_Telekom</td><td>2009</td><td>0</td><td>0</td><td>0</td><td>0</td><td>0</td><td>91060</td></tr><tr><td>Deutsche_Telekom</td><td>2010</td><td>0</td><td>0</td><td>0</td><td>0</td><td>0</td><td>90770</td></tr><tr><td>Deutsche_Telekom</td><td>2011</td><td>0</td><td>0</td><td>0</td><td>0</td><td>0</td><td>108830</td></tr><tr><td>Deutsche_Telekom</td><td>2012</td><td>0</td><td>0</td><td>0</td><td>0</td><td>0</td><td>109439</td></tr><tr><td>Deutsche_Telekom</td><td>2013</td><td>0</td><td>0</td><td>0</td><td>0</td><td>0</td><td>135268</td></tr><tr><td>Deutsche_Telekom</td><td>2014</td><td>0</td><td>0</td><td>0</td><td>0</td><td>0</td><td>141380</td></tr><tr><td>Deutsche_Telekom</td><td>2015</td><td>3</td><td>0</td><td>0</td><td>0</td><td>0</td><td>140375</td></tr><tr><td>Deutsche_Telekom</td><td>2016</td><td>11</td><td>0</td><td>0</td><td>3</td><td>3</td><td>131118</td></tr><tr><td>Deutsche_Telekom</td><td>2017</td><td>5</td><td>0</td><td>1</td><td>3</td><td>4</td><td>143131</td></tr><tr><td>Deutsche_Telekom</td><td>2018</td><td>2</td><td>0</td><td>0</td><td>5</td><td>5</td><td>152381</td></tr><tr><td>Deutsche_Telekom</td><td>2019</td><td>5</td><td>0</td><td>0</td><td>5</td><td>5</td><td>140218</td></tr><tr><td>Deutsche_Telekom</td><td>2020</td><td>4</td><td>0</td><td>0</td><td>6</td><td>6</td><td>151912</td></tr><tr><td>Deutsche_Wohnen</td><td>2007</td><td>0</td><td>0</td><td>0</td><td>0</td><td>0</td><td>44527</td></tr><tr><td>Deutsche_Wohnen</td><td>2008</td><td>0</td><td>0</td><td>0</td><td>0</td><td>0</td><td>39056</td></tr><tr><td>Deutsche_Wohnen</td><td>2009</td><td>0</td><td>0</td><td>0</td><td>0</td><td>0</td><td>30115</td></tr><tr><td>Deutsche_Wohnen</td><td>2010</td><td>0</td><td>0</td><td>0</td><td>0</td><td>0</td><td>33520</td></tr><tr><td>Deutsche_Wohnen</td><td>2011</td><td>0</td><td>0</td><td>0</td><td>0</td><td>0</td><td>32764</td></tr><tr><td>Deutsche_Wohnen</td><td>2012</td><td>0</td><td>0</td><td>0</td><td>0</td><td>0</td><td>33111</td></tr><tr><td>Deutsche_Wohnen</td><td>2013</td><td>0</td><td>0</td><td>1</td><td>0</td><td>1</td><td>39996</td></tr><tr><td>Deutsche_Wohnen</td><td>2014</td><td>0</td><td>0</td><td>0</td><td>0</td><td>0</td><td>45155</td></tr><tr><td>Deutsche_Wohnen</td><td>2015</td><td>0</td><td>0</td><td>0</td><td>0</td><td>0</td><td>50187</td></tr><tr><td>Deutsche_Wohnen</td><td>2016</td><td>0</td><td>0</td><td>0</td><td>0</td><td>0</td><td>52949</td></tr><tr><td>Deutsche_Wohnen</td><td>2017</td><td>0</td><td>0</td><td>0</td><td>0</td><td>0</td><td>59589</td></tr><tr><td>Deutsche_Wohnen</td><td>2018</td><td>1</td><td>0</td><td>0</td><td>0</td><td>0</td><td>66047</td></tr><tr><td>Deutsche_Wohnen</td><td>2019</td><td>0</td><td>0</td><td>0</td><td>1</td><td>1</td><td>69015</td></tr><tr><td>Deutsche_Wohnen</td><td>2020</td><td>0</td><td>0</td><td>0</td><td>0</td><td>0</td><td>73282</td></tr><tr><td>E.ON</td><td>2007</td><td>0</td><td>0</td><td>0</td><td>0</td><td>0</td><td>81510</td></tr><tr><td>E.ON</td><td>2008</td><td>0</td><td>0</td><td>0</td><td>0</td><td>0</td><td>65941</td></tr><tr><td>E.ON</td><td>2009</td><td>0</td><td>0</td><td>0</td><td>0</td><td>0</td><td>68512</td></tr><tr><td>E.ON</td><td>2010</td><td>0</td><td>0</td><td>0</td><td>0</td><td>0</td><td>78295</td></tr><tr><td>E.ON</td><td>2011</td><td>0</td><td>0</td><td>0</td><td>0</td><td>0</td><td>83896</td></tr><tr><td>E.ON</td><td>2012</td><td>0</td><td>0</td><td>0</td><td>0</td><td>0</td><td>86847</td></tr><tr><td>E.ON</td><td>2013</td><td>0</td><td>0</td><td>0</td><td>0</td><td>0</td><td>90872</td></tr><tr><td>E.ON</td><td>2014</td><td>1</td><td>0</td><td>0</td><td>0</td><td>0</td><td>89052</td></tr><tr><td>E.ON</td><td>2015</td><td>2</td><td>0</td><td>0</td><td>0</td><td>0</td><td>89677</td></tr><tr><td>E.ON</td><td>2016</td><td>2</td><td>0</td><td>0</td><td>0</td><td>0</td><td>85866</td></tr><tr><td>E.ON</td><td>2017</td><td>0</td><td>0</td><td>0</td><td>0</td><td>0</td><td>82651</td></tr><tr><td>E.ON</td><td>2018</td><td>1</td><td>0</td><td>0</td><td>2</td><td>2</td><td>93330</td></tr><tr><td>E.ON</td><td>2019</td><td>2</td><td>0</td><td>0</td><td>0</td><td>0</td><td>100344</td></tr><tr><td>E.ON</td><td>2020</td><td>2</td><td>0</td><td>1</td><td>1</td><td>2</td><td>107354</td></tr><tr><td>Fresenius</td><td>2007</td><td>0</td><td>0</td><td>0</td><td>0</td><td>0</td><td>73779</td></tr><tr><td>Fresenius</td><td>2008</td><td>0</td><td>0</td><td>0</td><td>0</td><td>0</td><td>84045</td></tr><tr><td>Fresenius</td><td>2009</td><td>0</td><td>0</td><td>0</td><td>0</td><td>0</td><td>86262</td></tr><tr><td>Fresenius</td><td>2010</td><td>0</td><td>0</td><td>0</td><td>0</td><td>0</td><td>88407</td></tr><tr><td>Fresenius</td><td>2011</td><td>0</td><td>0</td><td>0</td><td>0</td><td>0</td><td>90558</td></tr><tr><td>Fresenius</td><td>2012</td><td>0</td><td>0</td><td>0</td><td>0</td><td>0</td><td>101651</td></tr><tr><td>Fresenius</td><td>2013</td><td>0</td><td>0</td><td>0</td><td>0</td><td>0</td><td>83374</td></tr><tr><td>Fresenius</td><td>2014</td><td>0</td><td>0</td><td>0</td><td>0</td><td>0</td><td>83068</td></tr><tr><td>Fresenius</td><td>2015</td><td>0</td><td>0</td><td>0</td><td>0</td><td>0</td><td>79563</td></tr><tr><td>Fresenius</td><td>2016</td><td>0</td><td>0</td><td>0</td><td>0</td><td>0</td><td>84264</td></tr><tr><td>Fresenius</td><td>2017</td><td>0</td><td>0</td><td>0</td><td>0</td><td>0</td><td>103836</td></tr><tr><td>Fresenius</td><td>2018</td><td>0</td><td>0</td><td>0</td><td>0</td><td>0</td><td>114704</td></tr><tr><td>Fresenius</td><td>2019</td><td>0</td><td>0</td><td>0</td><td>0</td><td>0</td><td>128469</td></tr><tr><td>Fresenius</td><td>2020</td><td>83</td><td>0</td><td>0</td><td>0</td><td>0</td><td>156965</td></tr><tr><td>Fresenius_Medical_Care</td><td>2007</td><td>0</td><td>0</td><td>0</td><td>0</td><td>0</td><td>90354</td></tr><tr><td>Fresenius_Medical_Care</td><td>2008</td><td>0</td><td>0</td><td>0</td><td>0</td><td>0</td><td>90800</td></tr><tr><td>Fresenius_Medical_Care</td><td>2009</td><td>0</td><td>0</td><td>0</td><td>0</td><td>0</td><td>113123</td></tr><tr><td>Fresenius_Medical_Care</td><td>2010</td><td>0</td><td>0</td><td>0</td><td>0</td><td>0</td><td>122143</td></tr><tr><td>Fresenius_Medical_Care</td><td>2011</td><td>0</td><td>0</td><td>0</td><td>0</td><td>0</td><td>108289</td></tr><tr><td>Fresenius_Medical_Care</td><td>2012</td><td>0</td><td>0</td><td>0</td><td>0</td><td>0</td><td>104959</td></tr><tr><td>Fresenius_Medical_Care</td><td>2013</td><td>0</td><td>0</td><td>0</td><td>0</td><td>0</td><td>104305</td></tr><tr><td>Fresenius_Medical_Care</td><td>2014</td><td>0</td><td>0</td><td>1</td><td>0</td><td>1</td><td>103672</td></tr><tr><td>Fresenius_Medical_Care</td><td>2015</td><td>0</td><td>0</td><td>5</td><td>0</td><td>5</td><td>89798</td></tr><tr><td>Fresenius_Medical_Care</td><td>2016</td><td>0</td><td>0</td><td>0</td><td>0</td><td>0</td><td>95261</td></tr><tr><td>Fresenius_Medical_Care</td><td>2017</td><td>0</td><td>0</td><td>1</td><td>0</td><td>1</td><td>117289</td></tr><tr><td>Fresenius_Medical_Care</td><td>2018</td><td>0</td><td>0</td><td>0</td><td>0</td><td>0</td><td>127120</td></tr><tr><td>Fresenius_Medical_Care</td><td>2019</td><td>0</td><td>0</td><td>0</td><td>1</td><td>1</td><td>137585</td></tr><tr><td>Fresenius_Medical_Care</td><td>2020</td><td>0</td><td>0</td><td>0</td><td>0</td><td>0</td><td>132383</td></tr><tr><td>Heidelberg_Cement</td><td>2007</td><td>0</td><td>0</td><td>0</td><td>0</td><td>0</td><td>41202</td></tr><tr><td>Heidelberg_Cement</td><td>2008</td><td>0</td><td>0</td><td>0</td><td>0</td><td>0</td><td>44496</td></tr><tr><td>Heidelberg_Cement</td><td>2009</td><td>0</td><td>0</td><td>0</td><td>0</td><td>0</td><td>49194</td></tr><tr><td>Heidelberg_Cement</td><td>2010</td><td>0</td><td>0</td><td>0</td><td>0</td><td>0</td><td>75926</td></tr><tr><td>Heidelberg_Cement</td><td>2011</td><td>0</td><td>0</td><td>0</td><td>0</td><td>0</td><td>82989</td></tr><tr><td>Heidelberg_Cement</td><td>2012</td><td>0</td><td>0</td><td>0</td><td>0</td><td>0</td><td>85042</td></tr><tr><td>Heidelberg_Cement</td><td>2013</td><td>0</td><td>0</td><td>0</td><td>0</td><td>0</td><td>91765</td></tr><tr><td>Heidelberg_Cement</td><td>2014</td><td>0</td><td>0</td><td>0</td><td>0</td><td>0</td><td>101516</td></tr><tr><td>Heidelberg_Cement</td><td>2015</td><td>0</td><td>0</td><td>0</td><td>0</td><td>0</td><td>94272</td></tr><tr><td>Heidelberg_Cement</td><td>2016</td><td>3</td><td>0</td><td>0</td><td>0</td><td>0</td><td>100312</td></tr><tr><td>Heidelberg_Cement</td><td>2017</td><td>4</td><td>2</td><td>0</td><td>0</td><td>0</td><td>98305</td></tr><tr><td>Heidelberg_Cement</td><td>2018</td><td>6</td><td>3</td><td>0</td><td>0</td><td>0</td><td>100491</td></tr><tr><td>Heidelberg_Cement</td><td>2019</td><td>5</td><td>2</td><td>0</td><td>0</td><td>0</td><td>89328</td></tr><tr><td>Heidelberg_Cement</td><td>2020</td><td>3</td><td>0</td><td>0</td><td>0</td><td>0</td><td>94869</td></tr><tr><td>Henkel_VZ</td><td>2007</td><td>0</td><td>0</td><td>0</td><td>0</td><td>0</td><td>42502</td></tr><tr><td>Henkel_VZ</td><td>2008</td><td>0</td><td>0</td><td>0</td><td>0</td><td>0</td><td>48812</td></tr><tr><td>Henkel_VZ</td><td>2009</td><td>0</td><td>0</td><td>0</td><td>0</td><td>0</td><td>52467</td></tr><tr><td>Henkel_VZ</td><td>2010</td><td>0</td><td>0</td><td>0</td><td>0</td><td>0</td><td>58985</td></tr><tr><td>Henkel_VZ</td><td>2011</td><td>0</td><td>0</td><td>0</td><td>0</td><td>0</td><td>65490</td></tr><tr><td>Henkel_VZ</td><td>2012</td><td>0</td><td>0</td><td>0</td><td>0</td><td>0</td><td>68665</td></tr><tr><td>Henkel_VZ</td><td>2013</td><td>0</td><td>0</td><td>0</td><td>0</td><td>0</td><td>70887</td></tr><tr><td>Henkel_VZ</td><td>2014</td><td>0</td><td>0</td><td>0</td><td>0</td><td>0</td><td>74969</td></tr><tr><td>Henkel_VZ</td><td>2015</td><td>0</td><td>0</td><td>0</td><td>0</td><td>0</td><td>77225</td></tr><tr><td>Henkel_VZ</td><td>2016</td><td>2</td><td>0</td><td>0</td><td>0</td><td>0</td><td>73926</td></tr><tr><td>Henkel_VZ</td><td>2017</td><td>2</td><td>1</td><td>0</td><td>0</td><td>0</td><td>68557</td></tr><tr><td>Henkel_VZ</td><td>2018</td><td>5</td><td>1</td><td>0</td><td>1</td><td>1</td><td>84471</td></tr><tr><td>Henkel_VZ</td><td>2019</td><td>3</td><td>0</td><td>0</td><td>0</td><td>0</td><td>88942</td></tr><tr><td>Henkel_VZ</td><td>2020</td><td>1</td><td>0</td><td>0</td><td>3</td><td>3</td><td>97796</td></tr><tr><td>Infineon</td><td>2007</td><td>0</td><td>0</td><td>0</td><td>0</td><td>0</td><td>77068</td></tr><tr><td>Infineon</td><td>2008</td><td>0</td><td>0</td><td>0</td><td>0</td><td>0</td><td>72081</td></tr><tr><td>Infineon</td><td>2009</td><td>0</td><td>0</td><td>0</td><td>0</td><td>0</td><td>84425</td></tr><tr><td>Infineon</td><td>2010</td><td>0</td><td>0</td><td>0</td><td>0</td><td>0</td><td>99975</td></tr><tr><td>Infineon</td><td>2011</td><td>0</td><td>0</td><td>0</td><td>0</td><td>0</td><td>94063</td></tr><tr><td>Infineon</td><td>2012</td><td>0</td><td>0</td><td>0</td><td>0</td><td>0</td><td>110311</td></tr><tr><td>Infineon</td><td>2013</td><td>0</td><td>0</td><td>0</td><td>0</td><td>0</td><td>105948</td></tr><tr><td>Infineon</td><td>2014</td><td>0</td><td>0</td><td>0</td><td>0</td><td>0</td><td>104759</td></tr><tr><td>Infineon</td><td>2015</td><td>0</td><td>0</td><td>0</td><td>0</td><td>0</td><td>110228</td></tr><tr><td>Infineon</td><td>2016</td><td>0</td><td>0</td><td>0</td><td>0</td><td>0</td><td>74212</td></tr><tr><td>Infineon</td><td>2017</td><td>1</td><td>0</td><td>1</td><td>2</td><td>3</td><td>75849</td></tr><tr><td>Infineon</td><td>2018</td><td>3</td><td>0</td><td>0</td><td>6</td><td>6</td><td>73217</td></tr><tr><td>Infineon</td><td>2019</td><td>6</td><td>0</td><td>0</td><td>3</td><td>3</td><td>85082</td></tr><tr><td>Infineon</td><td>2020</td><td>9</td><td>0</td><td>0</td><td>9</td><td>9</td><td>96211</td></tr><tr><td>Linde_plc</td><td>2007</td><td>0</td><td>0</td><td>0</td><td>0</td><td>0</td><td>65546</td></tr><tr><td>Linde_plc</td><td>2008</td><td>0</td><td>0</td><td>0</td><td>0</td><td>0</td><td>73857</td></tr><tr><td>Linde_plc</td><td>2009</td><td>0</td><td>0</td><td>0</td><td>0</td><td>0</td><td>77979</td></tr><tr><td>Linde_plc</td><td>2010</td><td>0</td><td>0</td><td>0</td><td>0</td><td>0</td><td>18249</td></tr><tr><td>Linde_plc</td><td>2011</td><td>0</td><td>0</td><td>0</td><td>0</td><td>0</td><td>16874</td></tr><tr><td>Linde_plc</td><td>2012</td><td>0</td><td>0</td><td>1</td><td>0</td><td>1</td><td>50874</td></tr><tr><td>Linde_plc</td><td>2013</td><td>0</td><td>0</td><td>1</td><td>0</td><td>1</td><td>96110</td></tr><tr><td>Linde_plc</td><td>2014</td><td>0</td><td>0</td><td>1</td><td>0</td><td>1</td><td>115348</td></tr><tr><td>Linde_plc</td><td>2015</td><td>0</td><td>0</td><td>1</td><td>0</td><td>1</td><td>101082</td></tr><tr><td>Linde_plc</td><td>2016</td><td>0</td><td>0</td><td>0</td><td>2</td><td>2</td><td>91863</td></tr><tr><td>Linde_plc</td><td>2017</td><td>0</td><td>0</td><td>0</td><td>0</td><td>0</td><td>91321</td></tr><tr><td>Linde_plc</td><td>2018</td><td>0</td><td>0</td><td>0</td><td>0</td><td>0</td><td>67270</td></tr><tr><td>Linde_plc</td><td>2019</td><td>0</td><td>0</td><td>0</td><td>0</td><td>0</td><td>4591</td></tr><tr><td>Linde_plc</td><td>2020</td><td>0</td><td>0</td><td>0</td><td>0</td><td>0</td><td>61140</td></tr><tr><td>Merck</td><td>2007</td><td>0</td><td>0</td><td>0</td><td>0</td><td>0</td><td>40230</td></tr><tr><td>Merck</td><td>2008</td><td>0</td><td>0</td><td>0</td><td>0</td><td>0</td><td>59913</td></tr><tr><td>Merck</td><td>2009</td><td>0</td><td>0</td><td>0</td><td>0</td><td>0</td><td>47818</td></tr><tr><td>Merck</td><td>2010</td><td>0</td><td>0</td><td>0</td><td>0</td><td>0</td><td>65244</td></tr><tr><td>Merck</td><td>2011</td><td>0</td><td>0</td><td>0</td><td>0</td><td>0</td><td>61366</td></tr><tr><td>Merck</td><td>2012</td><td>0</td><td>0</td><td>0</td><td>0</td><td>0</td><td>65743</td></tr><tr><td>Merck</td><td>2013</td><td>0</td><td>0</td><td>0</td><td>0</td><td>0</td><td>84930</td></tr><tr><td>Merck</td><td>2014</td><td>0</td><td>0</td><td>5</td><td>1</td><td>6</td><td>92772</td></tr><tr><td>Merck</td><td>2015</td><td>0</td><td>1</td><td>0</td><td>0</td><td>0</td><td>97357</td></tr><tr><td>Merck</td><td>2016</td><td>0</td><td>0</td><td>0</td><td>0</td><td>0</td><td>99543</td></tr><tr><td>Merck</td><td>2017</td><td>0</td><td>0</td><td>1</td><td>4</td><td>5</td><td>112178</td></tr><tr><td>Merck</td><td>2018</td><td>1</td><td>0</td><td>2</td><td>5</td><td>7</td><td>116900</td></tr><tr><td>Merck</td><td>2019</td><td>2</td><td>0</td><td>0</td><td>4</td><td>4</td><td>106048</td></tr><tr><td>Merck</td><td>2020</td><td>2</td><td>0</td><td>0</td><td>6</td><td>6</td><td>114344</td></tr><tr><td>MTU_Aero_Engines</td><td>2007</td><td>0</td><td>0</td><td>0</td><td>0</td><td>0</td><td>57614</td></tr><tr><td>MTU_Aero_Engines</td><td>2008</td><td>0</td><td>0</td><td>0</td><td>0</td><td>0</td><td>76545</td></tr><tr><td>MTU_Aero_Engines</td><td>2009</td><td>0</td><td>0</td><td>0</td><td>0</td><td>0</td><td>83940</td></tr><tr><td>MTU_Aero_Engines</td><td>2010</td><td>0</td><td>0</td><td>3</td><td>0</td><td>3</td><td>70394</td></tr><tr><td>MTU_Aero_Engines</td><td>2011</td><td>0</td><td>0</td><td>0</td><td>0</td><td>0</td><td>65494</td></tr><tr><td>MTU_Aero_Engines</td><td>2012</td><td>0</td><td>0</td><td>0</td><td>0</td><td>0</td><td>61768</td></tr><tr><td>MTU_Aero_Engines</td><td>2013</td><td>0</td><td>0</td><td>0</td><td>0</td><td>0</td><td>61277</td></tr><tr><td>MTU_Aero_Engines</td><td>2014</td><td>0</td><td>0</td><td>0</td><td>0</td><td>0</td><td>62818</td></tr><tr><td>MTU_Aero_Engines</td><td>2015</td><td>0</td><td>0</td><td>0</td><td>0</td><td>0</td><td>65987</td></tr><tr><td>MTU_Aero_Engines</td><td>2016</td><td>0</td><td>0</td><td>0</td><td>0</td><td>0</td><td>61363</td></tr><tr><td>MTU_Aero_Engines</td><td>2017</td><td>0</td><td>0</td><td>0</td><td>0</td><td>0</td><td>73472</td></tr><tr><td>MTU_Aero_Engines</td><td>2018</td><td>0</td><td>0</td><td>0</td><td>0</td><td>0</td><td>76927</td></tr><tr><td>MTU_Aero_Engines</td><td>2019</td><td>1</td><td>0</td><td>0</td><td>0</td><td>0</td><td>73926</td></tr><tr><td>MTU_Aero_Engines</td><td>2020</td><td>1</td><td>0</td><td>0</td><td>0</td><td>0</td><td>80338</td></tr><tr><td>Münchener_Rück</td><td>2007</td><td>0</td><td>0</td><td>0</td><td>0</td><td>0</td><td>89209</td></tr><tr><td>Münchener_Rück</td><td>2008</td><td>0</td><td>0</td><td>0</td><td>0</td><td>0</td><td>94057</td></tr><tr><td>Münchener_Rück</td><td>2009</td><td>0</td><td>0</td><td>0</td><td>0</td><td>0</td><td>99954</td></tr><tr><td>Münchener_Rück</td><td>2010</td><td>0</td><td>0</td><td>0</td><td>0</td><td>0</td><td>94624</td></tr><tr><td>Münchener_Rück</td><td>2011</td><td>0</td><td>0</td><td>0</td><td>0</td><td>0</td><td>87468</td></tr><tr><td>Münchener_Rück</td><td>2012</td><td>0</td><td>0</td><td>0</td><td>0</td><td>0</td><td>90008</td></tr><tr><td>Münchener_Rück</td><td>2013</td><td>0</td><td>0</td><td>0</td><td>0</td><td>0</td><td>90512</td></tr><tr><td>Münchener_Rück</td><td>2014</td><td>0</td><td>0</td><td>0</td><td>0</td><td>0</td><td>96570</td></tr><tr><td>Münchener_Rück</td><td>2015</td><td>0</td><td>0</td><td>0</td><td>0</td><td>0</td><td>91484</td></tr><tr><td>Münchener_Rück</td><td>2016</td><td>1</td><td>0</td><td>0</td><td>0</td><td>0</td><td>65040</td></tr><tr><td>Münchener_Rück</td><td>2017</td><td>3</td><td>0</td><td>0</td><td>0</td><td>0</td><td>71234</td></tr><tr><td>Münchener_Rück</td><td>2018</td><td>3</td><td>0</td><td>0</td><td>0</td><td>0</td><td>70191</td></tr><tr><td>Münchener_Rück</td><td>2019</td><td>6</td><td>0</td><td>0</td><td>4</td><td>4</td><td>74105</td></tr><tr><td>Münchener_Rück</td><td>2020</td><td>3</td><td>0</td><td>0</td><td>5</td><td>5</td><td>86213</td></tr><tr><td>RWE</td><td>2007</td><td>0</td><td>0</td><td>0</td><td>0</td><td>0</td><td>59527</td></tr><tr><td>RWE</td><td>2008</td><td>0</td><td>0</td><td>0</td><td>0</td><td>0</td><td>70545</td></tr><tr><td>RWE</td><td>2009</td><td>0</td><td>0</td><td>0</td><td>0</td><td>0</td><td>68824</td></tr><tr><td>RWE</td><td>2010</td><td>0</td><td>0</td><td>0</td><td>0</td><td>0</td><td>74533</td></tr><tr><td>RWE</td><td>2011</td><td>0</td><td>0</td><td>1</td><td>0</td><td>1</td><td>80421</td></tr><tr><td>RWE</td><td>2012</td><td>0</td><td>0</td><td>0</td><td>0</td><td>0</td><td>78425</td></tr><tr><td>RWE</td><td>2013</td><td>0</td><td>0</td><td>1</td><td>1</td><td>2</td><td>83679</td></tr><tr><td>RWE</td><td>2014</td><td>0</td><td>0</td><td>1</td><td>1</td><td>2</td><td>78078</td></tr><tr><td>RWE</td><td>2015</td><td>0</td><td>0</td><td>1</td><td>1</td><td>2</td><td>68828</td></tr><tr><td>RWE</td><td>2016</td><td>0</td><td>0</td><td>1</td><td>1</td><td>2</td><td>76001</td></tr><tr><td>RWE</td><td>2017</td><td>0</td><td>0</td><td>0</td><td>1</td><td>1</td><td>77729</td></tr><tr><td>RWE</td><td>2018</td><td>0</td><td>0</td><td>0</td><td>1</td><td>1</td><td>78393</td></tr><tr><td>RWE</td><td>2019</td><td>0</td><td>0</td><td>0</td><td>0</td><td>0</td><td>75360</td></tr><tr><td>RWE</td><td>2020</td><td>0</td><td>0</td><td>0</td><td>0</td><td>0</td><td>80049</td></tr><tr><td>SAP</td><td>2007</td><td>0</td><td>0</td><td>0</td><td>1</td><td>1</td><td>93070</td></tr><tr><td>SAP</td><td>2008</td><td>0</td><td>0</td><td>0</td><td>1</td><td>1</td><td>94041</td></tr><tr><td>SAP</td><td>2009</td><td>0</td><td>0</td><td>0</td><td>1</td><td>1</td><td>100857</td></tr><tr><td>SAP</td><td>2010</td><td>0</td><td>0</td><td>0</td><td>1</td><td>1</td><td>106849</td></tr><tr><td>SAP</td><td>2011</td><td>0</td><td>0</td><td>0</td><td>1</td><td>1</td><td>118675</td></tr><tr><td>SAP</td><td>2012</td><td>0</td><td>0</td><td>0</td><td>1</td><td>1</td><td>115204</td></tr><tr><td>SAP</td><td>2013</td><td>0</td><td>0</td><td>0</td><td>0</td><td>0</td><td>118470</td></tr><tr><td>SAP</td><td>2014</td><td>0</td><td>0</td><td>0</td><td>0</td><td>0</td><td>111093</td></tr><tr><td>SAP</td><td>2015</td><td>1</td><td>0</td><td>0</td><td>3</td><td>3</td><td>108750</td></tr><tr><td>SAP</td><td>2016</td><td>3</td><td>0</td><td>0</td><td>20</td><td>20</td><td>128204</td></tr><tr><td>SAP</td><td>2017</td><td>19</td><td>0</td><td>13</td><td>39</td><td>52</td><td>128840</td></tr><tr><td>SAP</td><td>2018</td><td>12</td><td>0</td><td>13</td><td>29</td><td>42</td><td>151031</td></tr><tr><td>SAP</td><td>2019</td><td>3</td><td>0</td><td>8</td><td>22</td><td>30</td><td>145571</td></tr><tr><td>SAP</td><td>2020</td><td>6</td><td>0</td><td>1</td><td>23</td><td>24</td><td>149968</td></tr><tr><td>Siemens</td><td>2007</td><td>0</td><td>0</td><td>0</td><td>1</td><td>1</td><td>109994</td></tr><tr><td>Siemens</td><td>2008</td><td>0</td><td>0</td><td>0</td><td>0</td><td>0</td><td>106365</td></tr><tr><td>Siemens</td><td>2009</td><td>0</td><td>0</td><td>0</td><td>0</td><td>0</td><td>137410</td></tr><tr><td>Siemens</td><td>2010</td><td>0</td><td>0</td><td>1</td><td>0</td><td>1</td><td>152509</td></tr><tr><td>Siemens</td><td>2011</td><td>0</td><td>0</td><td>1</td><td>0</td><td>1</td><td>165123</td></tr><tr><td>Siemens</td><td>2012</td><td>0</td><td>0</td><td>0</td><td>0</td><td>0</td><td>158404</td></tr><tr><td>Siemens</td><td>2013</td><td>0</td><td>0</td><td>0</td><td>0</td><td>0</td><td>174284</td></tr><tr><td>Siemens</td><td>2014</td><td>0</td><td>0</td><td>0</td><td>0</td><td>0</td><td>126818</td></tr><tr><td>Siemens</td><td>2015</td><td>0</td><td>0</td><td>0</td><td>0</td><td>0</td><td>66477</td></tr><tr><td>Siemens</td><td>2016</td><td>0</td><td>0</td><td>0</td><td>1</td><td>1</td><td>68163</td></tr><tr><td>Siemens</td><td>2017</td><td>1</td><td>0</td><td>0</td><td>2</td><td>2</td><td>77971</td></tr><tr><td>Siemens</td><td>2018</td><td>2</td><td>0</td><td>0</td><td>5</td><td>5</td><td>81876</td></tr><tr><td>Siemens</td><td>2019</td><td>0</td><td>0</td><td>0</td><td>5</td><td>5</td><td>79854</td></tr><tr><td>Siemens</td><td>2020</td><td>0</td><td>0</td><td>0</td><td>4</td><td>4</td><td>84266</td></tr><tr><td>Siemens_Energy</td><td>2019</td><td>2</td><td>0</td><td>16</td><td>0</td><td>16</td><td>351650</td></tr><tr><td>Siemens_Energy</td><td>2020</td><td>0</td><td>0</td><td>0</td><td>0</td><td>0</td><td>77271</td></tr><tr><td>Volkswagen_VZ</td><td>2007</td><td>0</td><td>0</td><td>0</td><td>0</td><td>0</td><td>77947</td></tr><tr><td>Volkswagen_VZ</td><td>2008</td><td>0</td><td>0</td><td>0</td><td>0</td><td>0</td><td>85843</td></tr><tr><td>Volkswagen_VZ</td><td>2009</td><td>0</td><td>0</td><td>0</td><td>0</td><td>0</td><td>93517</td></tr><tr><td>Volkswagen_VZ</td><td>2010</td><td>0</td><td>0</td><td>0</td><td>0</td><td>0</td><td>94203</td></tr><tr><td>Volkswagen_VZ</td><td>2011</td><td>0</td><td>0</td><td>0</td><td>0</td><td>0</td><td>127510</td></tr><tr><td>Volkswagen_VZ</td><td>2012</td><td>0</td><td>0</td><td>0</td><td>1</td><td>1</td><td>113261</td></tr><tr><td>Volkswagen_VZ</td><td>2013</td><td>0</td><td>0</td><td>0</td><td>0</td><td>0</td><td>125957</td></tr><tr><td>Volkswagen_VZ</td><td>2014</td><td>0</td><td>0</td><td>0</td><td>2</td><td>2</td><td>141425</td></tr><tr><td>Volkswagen_VZ</td><td>2015</td><td>0</td><td>0</td><td>1</td><td>2</td><td>3</td><td>155831</td></tr><tr><td>Volkswagen_VZ</td><td>2016</td><td>1</td><td>1</td><td>1</td><td>5</td><td>6</td><td>146754</td></tr><tr><td>Volkswagen_VZ</td><td>2017</td><td>2</td><td>0</td><td>0</td><td>4</td><td>4</td><td>121730</td></tr><tr><td>Volkswagen_VZ</td><td>2018</td><td>2</td><td>0</td><td>1</td><td>8</td><td>9</td><td>135993</td></tr><tr><td>Volkswagen_VZ</td><td>2019</td><td>5</td><td>0</td><td>1</td><td>2</td><td>3</td><td>125438</td></tr><tr><td>Volkswagen_VZ</td><td>2020</td><td>4</td><td>0</td><td>1</td><td>1</td><td>2</td><td>135973</td></tr><tr><td>Vonovia</td><td>2007</td><td>0</td><td>0</td><td>0</td><td>0</td><td>0</td><td>34159</td></tr><tr><td>Vonovia</td><td>2008</td><td>0</td><td>0</td><td>0</td><td>0</td><td>0</td><td>34442</td></tr><tr><td>Vonovia</td><td>2009</td><td>0</td><td>0</td><td>0</td><td>0</td><td>0</td><td>36533</td></tr><tr><td>Vonovia</td><td>2010</td><td>0</td><td>0</td><td>0</td><td>0</td><td>0</td><td>32629</td></tr><tr><td>Vonovia</td><td>2011</td><td>0</td><td>0</td><td>0</td><td>0</td><td>0</td><td>41313</td></tr><tr><td>Vonovia</td><td>2012</td><td>0</td><td>0</td><td>0</td><td>0</td><td>0</td><td>36532</td></tr><tr><td>Vonovia</td><td>2013</td><td>0</td><td>0</td><td>0</td><td>0</td><td>0</td><td>54392</td></tr><tr><td>Vonovia</td><td>2014</td><td>0</td><td>0</td><td>0</td><td>0</td><td>0</td><td>63662</td></tr><tr><td>Vonovia</td><td>2015</td><td>0</td><td>0</td><td>0</td><td>0</td><td>0</td><td>75909</td></tr><tr><td>Vonovia</td><td>2016</td><td>0</td><td>0</td><td>0</td><td>0</td><td>0</td><td>78085</td></tr><tr><td>Vonovia</td><td>2017</td><td>0</td><td>0</td><td>0</td><td>0</td><td>0</td><td>88013</td></tr><tr><td>Vonovia</td><td>2018</td><td>0</td><td>0</td><td>0</td><td>0</td><td>0</td><td>93419</td></tr><tr><td>Vonovia</td><td>2019</td><td>0</td><td>0</td><td>0</td><td>0</td><td>0</td><td>93878</td></tr><tr><td>Vonovia</td><td>2020</td><td>1</td><td>0</td><td>0</td><td>1</td><td>1</td><td>99630</td></tr><tr><td>Beiersdorf</td><td>2015</td><td>0</td><td>0</td><td>0</td><td>0</td><td>0</td><td>38688</td></tr><tr><td>Beiersdorf</td><td>2016</td><td>0</td><td>0</td><td>0</td><td>0</td><td>0</td><td>41397</td></tr><tr><td>Beiersdorf</td><td>2017</td><td>0</td><td>0</td><td>0</td><td>0</td><td>0</td><td>47185</td></tr><tr><td>Beiersdorf</td><td>2018</td><td>0</td><td>0</td><td>0</td><td>0</td><td>0</td><td>50261</td></tr><tr><td>Beiersdorf</td><td>2019</td><td>4</td><td>0</td><td>0</td><td>0</td><td>0</td><td>53558</td></tr><tr><td>Beiersdorf</td><td>2020</td><td>10</td><td>0</td><td>0</td><td>0</td><td>0</td><td>84042</td></tr>\n",
       "                </tbody>\n",
       "            </table>    \n",
       "            "
      ],
      "text/plain": [
       "<IPython.core.display.HTML object>"
      ]
     },
     "execution_count": 10,
     "metadata": {},
     "output_type": "execute_result"
    }
   ],
   "source": [
    "occurences = count_occurences(dax_annuals_information, digital_keywords, cdo_keywords, ai_keywords_en, ai_keywords_de, ai_keywords)\n",
    "\n",
    "render_table(\n",
    "    occurences,\n",
    "    'Company',\n",
    "    'Year',\n",
    "    'Occurences Digital',\n",
    "    'Occurences CDO',\n",
    "    'Occurences AI (en)',\n",
    "    'Occurences AI (de)',\n",
    "    'Occurences AI (combined)',\n",
    "    'Words Total'\n",
    ")"
   ]
  },
  {
   "cell_type": "markdown",
   "id": "6b01dc87",
   "metadata": {},
   "source": [
    "### Occurences of keywords related to digitalization, CDOs AI in MDAX Annual Reporting"
   ]
  },
  {
   "cell_type": "code",
   "execution_count": 11,
   "id": "4f06e1d2",
   "metadata": {
    "scrolled": true
   },
   "outputs": [
    {
     "name": "stderr",
     "output_type": "stream",
     "text": [
      "mupdf: invalid page object\n",
      "mupdf: invalid page object\n",
      "mupdf: invalid page object\n",
      "mupdf: invalid page object\n",
      "mupdf: invalid page object\n",
      "mupdf: invalid page object\n",
      "mupdf: invalid page object\n",
      "mupdf: invalid page object\n",
      "mupdf: invalid page object\n",
      "mupdf: invalid page object\n",
      "mupdf: invalid page object\n",
      "mupdf: invalid page object\n",
      "mupdf: invalid page object\n",
      "mupdf: invalid page object\n",
      "mupdf: invalid page object\n",
      "mupdf: invalid page object\n",
      "mupdf: invalid page object\n",
      "mupdf: invalid page object\n",
      "mupdf: invalid page object\n",
      "mupdf: invalid page object\n",
      "mupdf: invalid page object\n",
      "mupdf: invalid page object\n",
      "mupdf: invalid page object\n",
      "mupdf: invalid page object\n",
      "mupdf: invalid page object\n",
      "mupdf: invalid page object\n",
      "mupdf: invalid page object\n",
      "mupdf: invalid page object\n",
      "mupdf: invalid page object\n",
      "mupdf: invalid page object\n",
      "mupdf: invalid page object\n",
      "mupdf: invalid page object\n",
      "mupdf: invalid page object\n",
      "mupdf: invalid page object\n",
      "mupdf: invalid page object\n",
      "mupdf: invalid page object\n",
      "mupdf: invalid page object\n",
      "mupdf: invalid page object\n",
      "mupdf: invalid page object\n",
      "mupdf: invalid page object\n",
      "mupdf: invalid page object\n",
      "mupdf: invalid page object\n",
      "mupdf: invalid page object\n",
      "mupdf: invalid page object\n",
      "mupdf: invalid page object\n",
      "mupdf: invalid page object\n",
      "mupdf: invalid page object\n",
      "mupdf: invalid page object\n",
      "mupdf: invalid page object\n",
      "mupdf: invalid page object\n",
      "mupdf: invalid page object\n",
      "mupdf: invalid page object\n",
      "mupdf: invalid page object\n",
      "mupdf: invalid page object\n",
      "mupdf: invalid page object\n",
      "mupdf: invalid page object\n",
      "mupdf: invalid page object\n",
      "mupdf: invalid page object\n",
      "mupdf: invalid page object\n",
      "mupdf: invalid page object\n",
      "mupdf: invalid page object\n",
      "mupdf: invalid page object\n",
      "mupdf: invalid page object\n",
      "mupdf: invalid page object\n",
      "mupdf: invalid page object\n",
      "mupdf: invalid page object\n",
      "mupdf: invalid page object\n",
      "mupdf: invalid page object\n",
      "mupdf: invalid page object\n",
      "mupdf: invalid page object\n",
      "mupdf: invalid page object\n",
      "mupdf: invalid page object\n",
      "mupdf: invalid page object\n",
      "mupdf: invalid page object\n",
      "mupdf: invalid page object\n"
     ]
    },
    {
     "data": {
      "text/html": [
       "\n",
       "            <table>\n",
       "                <thead>\n",
       "                    <thead><th>Company</th><th>Year</th><th>Occurences Digital</th><th>Occurences CDO</th><th>Occurences AI (en)</th><th>Occurences AI (de)</th><th>Occurences AI (combined)</th><th>Words Total</th></thead>\n",
       "                </thead>\n",
       "                <tbody>\n",
       "                    <tr><td>Aareal Bank</td><td>2012</td><td>0</td><td>0</td><td>0</td><td>0</td><td>0</td><td>78154</td></tr><tr><td>Aareal Bank</td><td>2013</td><td>0</td><td>0</td><td>0</td><td>0</td><td>0</td><td>77171</td></tr><tr><td>Aareal Bank</td><td>2014</td><td>0</td><td>0</td><td>0</td><td>0</td><td>0</td><td>84161</td></tr><tr><td>Aareal Bank</td><td>2015</td><td>0</td><td>0</td><td>0</td><td>0</td><td>0</td><td>84531</td></tr><tr><td>Aareal Bank</td><td>2016</td><td>5</td><td>0</td><td>0</td><td>2</td><td>2</td><td>86715</td></tr><tr><td>Aareal Bank</td><td>2017</td><td>0</td><td>0</td><td>0</td><td>0</td><td>0</td><td>74289</td></tr><tr><td>Aareal Bank</td><td>2018</td><td>0</td><td>0</td><td>0</td><td>0</td><td>0</td><td>85702</td></tr><tr><td>Aareal Bank</td><td>2019</td><td>2</td><td>0</td><td>0</td><td>0</td><td>0</td><td>82420</td></tr><tr><td>Aareal Bank</td><td>2020</td><td>1</td><td>0</td><td>1</td><td>3</td><td>4</td><td>98874</td></tr><tr><td>Airbus SE</td><td>2012</td><td>0</td><td>0</td><td>0</td><td>0</td><td>0</td><td>53232</td></tr><tr><td>Airbus SE</td><td>2013</td><td>0</td><td>0</td><td>0</td><td>0</td><td>0</td><td>56208</td></tr><tr><td>Airbus SE</td><td>2014</td><td>0</td><td>0</td><td>0</td><td>0</td><td>0</td><td>56942</td></tr><tr><td>Airbus SE</td><td>2015</td><td>0</td><td>0</td><td>0</td><td>0</td><td>0</td><td>42191</td></tr><tr><td>Airbus SE</td><td>2016</td><td>0</td><td>0</td><td>0</td><td>0</td><td>0</td><td>42679</td></tr><tr><td>Airbus SE</td><td>2017</td><td>26</td><td>0</td><td>2</td><td>0</td><td>2</td><td>150114</td></tr><tr><td>Airbus SE</td><td>2018</td><td>0</td><td>0</td><td>0</td><td>0</td><td>0</td><td>49941</td></tr><tr><td>Airbus SE</td><td>2019</td><td>0</td><td>0</td><td>0</td><td>0</td><td>0</td><td>48238</td></tr><tr><td>Airbus SE</td><td>2020</td><td>1</td><td>0</td><td>0</td><td>0</td><td>0</td><td>49765</td></tr><tr><td>Aixtron SE</td><td>2012</td><td>0</td><td>0</td><td>0</td><td>0</td><td>0</td><td>39023</td></tr><tr><td>Aixtron SE</td><td>2013</td><td>0</td><td>0</td><td>0</td><td>0</td><td>0</td><td>38338</td></tr><tr><td>Aixtron SE</td><td>2014</td><td>0</td><td>0</td><td>0</td><td>0</td><td>0</td><td>37557</td></tr><tr><td>Aixtron SE</td><td>2015</td><td>0</td><td>0</td><td>0</td><td>0</td><td>0</td><td>39430</td></tr><tr><td>Aixtron SE</td><td>2016</td><td>0</td><td>0</td><td>0</td><td>0</td><td>0</td><td>42292</td></tr><tr><td>Aixtron SE</td><td>2017</td><td>0</td><td>0</td><td>0</td><td>0</td><td>0</td><td>37830</td></tr><tr><td>Aixtron SE</td><td>2018</td><td>0</td><td>0</td><td>0</td><td>0</td><td>0</td><td>40083</td></tr><tr><td>Aixtron SE</td><td>2019</td><td>0</td><td>0</td><td>0</td><td>0</td><td>0</td><td>42632</td></tr><tr><td>Aixtron SE</td><td>2020</td><td>0</td><td>0</td><td>0</td><td>0</td><td>0</td><td>46882</td></tr><tr><td>alstria office REIT-AG</td><td>2018</td><td>0</td><td>0</td><td>0</td><td>0</td><td>0</td><td>48365</td></tr><tr><td>alstria office REIT-AG</td><td>2019</td><td>0</td><td>0</td><td>0</td><td>0</td><td>0</td><td>48782</td></tr><tr><td>alstria office REIT-AG</td><td>2020</td><td>0</td><td>0</td><td>0</td><td>0</td><td>0</td><td>53466</td></tr><tr><td>Aroundtown S.A.</td><td>2018</td><td>0</td><td>0</td><td>0</td><td>0</td><td>0</td><td>53010</td></tr><tr><td>Aroundtown S.A.</td><td>2019</td><td>0</td><td>0</td><td>0</td><td>0</td><td>0</td><td>57509</td></tr><tr><td>Aroundtown S.A.</td><td>2020</td><td>0</td><td>0</td><td>0</td><td>0</td><td>0</td><td>63790</td></tr><tr><td>Aurubis AG</td><td>2012</td><td>0</td><td>0</td><td>0</td><td>0</td><td>0</td><td>57717</td></tr><tr><td>Aurubis AG</td><td>2013</td><td>0</td><td>0</td><td>0</td><td>0</td><td>0</td><td>54540</td></tr><tr><td>Aurubis AG</td><td>2014</td><td>0</td><td>0</td><td>0</td><td>0</td><td>0</td><td>55060</td></tr><tr><td>Aurubis AG</td><td>2015</td><td>0</td><td>0</td><td>0</td><td>0</td><td>0</td><td>59067</td></tr><tr><td>Aurubis AG</td><td>2016</td><td>0</td><td>0</td><td>0</td><td>0</td><td>0</td><td>56434</td></tr><tr><td>Aurubis AG</td><td>2017</td><td>0</td><td>0</td><td>0</td><td>0</td><td>0</td><td>64108</td></tr><tr><td>Aurubis AG</td><td>2018</td><td>0</td><td>0</td><td>0</td><td>3</td><td>3</td><td>76180</td></tr><tr><td>Aurubis AG</td><td>2019</td><td>0</td><td>0</td><td>0</td><td>0</td><td>0</td><td>78946</td></tr><tr><td>Aurubis AG</td><td>2020</td><td>2</td><td>0</td><td>2</td><td>0</td><td>2</td><td>85599</td></tr><tr><td>Axel Springer</td><td>2012</td><td>0</td><td>0</td><td>0</td><td>0</td><td>0</td><td>51215</td></tr><tr><td>Axel Springer</td><td>2013</td><td>0</td><td>0</td><td>0</td><td>0</td><td>0</td><td>54492</td></tr><tr><td>Axel Springer</td><td>2014</td><td>0</td><td>0</td><td>0</td><td>0</td><td>0</td><td>58005</td></tr><tr><td>Axel Springer</td><td>2015</td><td>3</td><td>0</td><td>0</td><td>0</td><td>0</td><td>60947</td></tr><tr><td>Axel Springer</td><td>2016</td><td>1</td><td>0</td><td>0</td><td>0</td><td>0</td><td>62607</td></tr><tr><td>Axel Springer</td><td>2017</td><td>2</td><td>0</td><td>0</td><td>0</td><td>0</td><td>67190</td></tr><tr><td>Axel Springer</td><td>2018</td><td>1</td><td>0</td><td>0</td><td>0</td><td>0</td><td>68066</td></tr><tr><td>Axel Springer</td><td>2019</td><td>2</td><td>0</td><td>0</td><td>0</td><td>0</td><td>67635</td></tr><tr><td>Bechtle AG</td><td>2012</td><td>0</td><td>0</td><td>1</td><td>0</td><td>1</td><td>70357</td></tr><tr><td>Bechtle AG</td><td>2013</td><td>0</td><td>0</td><td>1</td><td>0</td><td>1</td><td>75296</td></tr><tr><td>Bechtle AG</td><td>2014</td><td>0</td><td>0</td><td>1</td><td>0</td><td>1</td><td>80374</td></tr><tr><td>Bechtle AG</td><td>2015</td><td>0</td><td>0</td><td>1</td><td>0</td><td>1</td><td>72457</td></tr><tr><td>Bechtle AG</td><td>2016</td><td>0</td><td>0</td><td>2</td><td>0</td><td>2</td><td>75861</td></tr><tr><td>Bechtle AG</td><td>2017</td><td>1</td><td>1</td><td>0</td><td>0</td><td>0</td><td>72525</td></tr><tr><td>Bechtle AG</td><td>2018</td><td>1</td><td>1</td><td>0</td><td>2</td><td>2</td><td>74627</td></tr><tr><td>Bechtle AG</td><td>2019</td><td>2</td><td>1</td><td>1</td><td>2</td><td>3</td><td>74648</td></tr><tr><td>Bechtle AG</td><td>2020</td><td>3</td><td>1</td><td>1</td><td>4</td><td>5</td><td>74420</td></tr><tr><td>Bilfinger SE</td><td>2012</td><td>0</td><td>0</td><td>0</td><td>0</td><td>0</td><td>61152</td></tr><tr><td>Bilfinger SE</td><td>2013</td><td>0</td><td>0</td><td>0</td><td>0</td><td>0</td><td>63576</td></tr><tr><td>Bilfinger SE</td><td>2014</td><td>0</td><td>0</td><td>0</td><td>0</td><td>0</td><td>63227</td></tr><tr><td>Bilfinger SE</td><td>2015</td><td>0</td><td>0</td><td>0</td><td>0</td><td>0</td><td>66386</td></tr><tr><td>Bilfinger SE</td><td>2016</td><td>0</td><td>0</td><td>0</td><td>0</td><td>0</td><td>59527</td></tr><tr><td>Bilfinger SE</td><td>2017</td><td>0</td><td>0</td><td>0</td><td>0</td><td>0</td><td>65994</td></tr><tr><td>Bilfinger SE</td><td>2018</td><td>0</td><td>0</td><td>0</td><td>0</td><td>0</td><td>70503</td></tr><tr><td>Bilfinger SE</td><td>2019</td><td>0</td><td>0</td><td>0</td><td>0</td><td>0</td><td>75127</td></tr><tr><td>Bilfinger SE</td><td>2020</td><td>0</td><td>2</td><td>0</td><td>0</td><td>0</td><td>86880</td></tr><tr><td>Brenntag AG</td><td>2012</td><td>0</td><td>0</td><td>0</td><td>0</td><td>0</td><td>56859</td></tr><tr><td>Brenntag AG</td><td>2013</td><td>0</td><td>0</td><td>0</td><td>0</td><td>0</td><td>63963</td></tr><tr><td>Brenntag AG</td><td>2014</td><td>0</td><td>0</td><td>0</td><td>0</td><td>0</td><td>63018</td></tr><tr><td>Brenntag AG</td><td>2015</td><td>0</td><td>0</td><td>2</td><td>0</td><td>2</td><td>82512</td></tr><tr><td>Brenntag AG</td><td>2016</td><td>0</td><td>0</td><td>1</td><td>0</td><td>1</td><td>87501</td></tr><tr><td>Brenntag AG</td><td>2017</td><td>0</td><td>0</td><td>0</td><td>0</td><td>0</td><td>86192</td></tr><tr><td>Brenntag AG</td><td>2018</td><td>0</td><td>0</td><td>0</td><td>4</td><td>4</td><td>80707</td></tr><tr><td>Brenntag AG</td><td>2019</td><td>0</td><td>0</td><td>0</td><td>0</td><td>0</td><td>88167</td></tr><tr><td>Brenntag AG</td><td>2020</td><td>0</td><td>0</td><td>3</td><td>0</td><td>3</td><td>94800</td></tr><tr><td>Cancom SE</td><td>2012</td><td>0</td><td>0</td><td>0</td><td>0</td><td>0</td><td>36229</td></tr><tr><td>Cancom SE</td><td>2013</td><td>0</td><td>0</td><td>0</td><td>0</td><td>0</td><td>41116</td></tr><tr><td>Cancom SE</td><td>2014</td><td>0</td><td>0</td><td>0</td><td>0</td><td>0</td><td>45058</td></tr><tr><td>Cancom SE</td><td>2015</td><td>1</td><td>0</td><td>0</td><td>0</td><td>0</td><td>44670</td></tr><tr><td>Cancom SE</td><td>2016</td><td>4</td><td>0</td><td>2</td><td>3</td><td>5</td><td>49642</td></tr><tr><td>Cancom SE</td><td>2017</td><td>9</td><td>0</td><td>1</td><td>5</td><td>6</td><td>56384</td></tr><tr><td>Cancom SE</td><td>2018</td><td>5</td><td>0</td><td>1</td><td>5</td><td>6</td><td>59565</td></tr><tr><td>Cancom SE</td><td>2019</td><td>2</td><td>0</td><td>3</td><td>2</td><td>5</td><td>73798</td></tr><tr><td>Cancom SE</td><td>2020</td><td>5</td><td>0</td><td>0</td><td>1</td><td>1</td><td>68104</td></tr><tr><td>Carl Zeiss Meditec AG</td><td>2013</td><td>0</td><td>0</td><td>0</td><td>0</td><td>0</td><td>46753</td></tr><tr><td>Carl Zeiss Meditec AG</td><td>2014</td><td>0</td><td>0</td><td>0</td><td>0</td><td>0</td><td>46481</td></tr><tr><td>Carl Zeiss Meditec AG</td><td>2015</td><td>0</td><td>0</td><td>0</td><td>0</td><td>0</td><td>41602</td></tr><tr><td>Carl Zeiss Meditec AG</td><td>2016</td><td>0</td><td>0</td><td>0</td><td>0</td><td>0</td><td>44023</td></tr><tr><td>Carl Zeiss Meditec AG</td><td>2017</td><td>0</td><td>0</td><td>0</td><td>0</td><td>0</td><td>47866</td></tr><tr><td>Carl Zeiss Meditec AG</td><td>2018</td><td>2</td><td>0</td><td>1</td><td>3</td><td>4</td><td>46039</td></tr><tr><td>Carl Zeiss Meditec AG</td><td>2019</td><td>3</td><td>0</td><td>0</td><td>4</td><td>4</td><td>47919</td></tr><tr><td>Carl Zeiss Meditec AG</td><td>2020</td><td>1</td><td>0</td><td>0</td><td>0</td><td>0</td><td>48988</td></tr><tr><td>Commerzbank AG</td><td>2012</td><td>0</td><td>0</td><td>0</td><td>0</td><td>0</td><td>107326</td></tr><tr><td>Commerzbank AG</td><td>2013</td><td>0</td><td>0</td><td>0</td><td>0</td><td>0</td><td>126319</td></tr><tr><td>Commerzbank AG</td><td>2014</td><td>0</td><td>0</td><td>0</td><td>0</td><td>0</td><td>132539</td></tr><tr><td>Commerzbank AG</td><td>2015</td><td>3</td><td>0</td><td>1</td><td>0</td><td>1</td><td>136376</td></tr><tr><td>Commerzbank AG</td><td>2016</td><td>2</td><td>0</td><td>1</td><td>0</td><td>1</td><td>129411</td></tr><tr><td>Commerzbank AG</td><td>2017</td><td>2</td><td>0</td><td>0</td><td>0</td><td>0</td><td>125738</td></tr><tr><td>Commerzbank AG</td><td>2018</td><td>4</td><td>0</td><td>0</td><td>0</td><td>0</td><td>140223</td></tr><tr><td>Commerzbank AG</td><td>2019</td><td>2</td><td>0</td><td>2</td><td>0</td><td>2</td><td>128040</td></tr><tr><td>Commerzbank AG</td><td>2020</td><td>0</td><td>0</td><td>0</td><td>0</td><td>0</td><td>144666</td></tr><tr><td>CompuGroup Medical SE</td><td>2012</td><td>0</td><td>0</td><td>0</td><td>0</td><td>0</td><td>46735</td></tr><tr><td>CompuGroup Medical SE</td><td>2013</td><td>0</td><td>0</td><td>0</td><td>0</td><td>0</td><td>73906</td></tr><tr><td>CompuGroup Medical SE</td><td>2014</td><td>0</td><td>0</td><td>0</td><td>0</td><td>0</td><td>74942</td></tr><tr><td>CompuGroup Medical SE</td><td>2015</td><td>0</td><td>0</td><td>0</td><td>0</td><td>0</td><td>78001</td></tr><tr><td>CompuGroup Medical SE</td><td>2016</td><td>0</td><td>0</td><td>0</td><td>0</td><td>0</td><td>81281</td></tr><tr><td>CompuGroup Medical SE</td><td>2017</td><td>0</td><td>0</td><td>0</td><td>0</td><td>0</td><td>78269</td></tr><tr><td>CompuGroup Medical SE</td><td>2018</td><td>0</td><td>0</td><td>0</td><td>0</td><td>0</td><td>84623</td></tr><tr><td>CompuGroup Medical SE</td><td>2019</td><td>2</td><td>0</td><td>0</td><td>0</td><td>0</td><td>80402</td></tr><tr><td>CompuGroup Medical SE</td><td>2020</td><td>2</td><td>0</td><td>0</td><td>0</td><td>0</td><td>68364</td></tr><tr><td>Covestro</td><td>2015</td><td>0</td><td>0</td><td>0</td><td>0</td><td>0</td><td>70183</td></tr><tr><td>Covestro</td><td>2016</td><td>0</td><td>0</td><td>0</td><td>0</td><td>0</td><td>68859</td></tr><tr><td>Covestro</td><td>2017</td><td>0</td><td>0</td><td>0</td><td>0</td><td>0</td><td>86309</td></tr><tr><td>Covestro</td><td>2018</td><td>2</td><td>0</td><td>0</td><td>2</td><td>2</td><td>85637</td></tr><tr><td>Covestro</td><td>2019</td><td>2</td><td>0</td><td>0</td><td>2</td><td>2</td><td>80494</td></tr><tr><td>Covestro</td><td>2020</td><td>0</td><td>0</td><td>0</td><td>1</td><td>1</td><td>101064</td></tr><tr><td>CTS Eventim AG & Co. KGaA</td><td>2012</td><td>0</td><td>0</td><td>0</td><td>0</td><td>0</td><td>40138</td></tr><tr><td>CTS Eventim AG & Co. KGaA</td><td>2013</td><td>0</td><td>0</td><td>0</td><td>0</td><td>0</td><td>45619</td></tr><tr><td>CTS Eventim AG & Co. KGaA</td><td>2014</td><td>0</td><td>0</td><td>0</td><td>0</td><td>0</td><td>49616</td></tr><tr><td>CTS Eventim AG & Co. KGaA</td><td>2015</td><td>0</td><td>0</td><td>0</td><td>0</td><td>0</td><td>49005</td></tr><tr><td>CTS Eventim AG & Co. KGaA</td><td>2016</td><td>0</td><td>0</td><td>0</td><td>0</td><td>0</td><td>55776</td></tr><tr><td>CTS Eventim AG & Co. KGaA</td><td>2017</td><td>0</td><td>0</td><td>0</td><td>0</td><td>0</td><td>54910</td></tr><tr><td>CTS Eventim AG & Co. KGaA</td><td>2018</td><td>0</td><td>0</td><td>0</td><td>1</td><td>1</td><td>56083</td></tr><tr><td>CTS Eventim AG & Co. KGaA</td><td>2019</td><td>0</td><td>0</td><td>0</td><td>1</td><td>1</td><td>59517</td></tr><tr><td>CTS Eventim AG & Co. KGaA</td><td>2020</td><td>0</td><td>0</td><td>0</td><td>1</td><td>1</td><td>71592</td></tr><tr><td>Deutsche EuroShop AG</td><td>2012</td><td>0</td><td>0</td><td>0</td><td>0</td><td>0</td><td>42140</td></tr><tr><td>Deutsche EuroShop AG</td><td>2013</td><td>0</td><td>0</td><td>0</td><td>0</td><td>0</td><td>46960</td></tr><tr><td>Deutsche EuroShop AG</td><td>2014</td><td>0</td><td>0</td><td>0</td><td>0</td><td>0</td><td>50501</td></tr><tr><td>Deutsche EuroShop AG</td><td>2015</td><td>0</td><td>0</td><td>0</td><td>0</td><td>0</td><td>45027</td></tr><tr><td>Deutsche EuroShop AG</td><td>2016</td><td>0</td><td>0</td><td>0</td><td>0</td><td>0</td><td>45474</td></tr><tr><td>Deutsche EuroShop AG</td><td>2017</td><td>0</td><td>0</td><td>1</td><td>1</td><td>2</td><td>49972</td></tr><tr><td>Deutsche EuroShop AG</td><td>2018</td><td>0</td><td>0</td><td>2</td><td>0</td><td>2</td><td>54847</td></tr><tr><td>Deutsche EuroShop AG</td><td>2019</td><td>0</td><td>0</td><td>0</td><td>0</td><td>0</td><td>30987</td></tr><tr><td>Deutsche EuroShop AG</td><td>2020</td><td>0</td><td>0</td><td>0</td><td>0</td><td>0</td><td>36403</td></tr><tr><td>Deutsche Lufthansa AG</td><td>2012</td><td>0</td><td>0</td><td>0</td><td>0</td><td>0</td><td>97581</td></tr><tr><td>Deutsche Lufthansa AG</td><td>2013</td><td>0</td><td>0</td><td>0</td><td>0</td><td>0</td><td>99009</td></tr><tr><td>Deutsche Lufthansa AG</td><td>2014</td><td>0</td><td>0</td><td>0</td><td>0</td><td>0</td><td>107649</td></tr><tr><td>Deutsche Lufthansa AG</td><td>2015</td><td>2</td><td>0</td><td>0</td><td>0</td><td>0</td><td>85947</td></tr><tr><td>Deutsche Lufthansa AG</td><td>2016</td><td>1</td><td>0</td><td>0</td><td>0</td><td>0</td><td>88336</td></tr><tr><td>Deutsche Lufthansa AG</td><td>2017</td><td>0</td><td>0</td><td>0</td><td>0</td><td>0</td><td>95051</td></tr><tr><td>Deutsche Lufthansa AG</td><td>2018</td><td>1</td><td>0</td><td>1</td><td>0</td><td>1</td><td>98915</td></tr><tr><td>Deutsche Lufthansa AG</td><td>2019</td><td>12</td><td>0</td><td>0</td><td>0</td><td>0</td><td>109577</td></tr><tr><td>Deutsche Lufthansa AG</td><td>2020</td><td>6</td><td>0</td><td>0</td><td>0</td><td>0</td><td>131214</td></tr><tr><td>Deutsche Pfandbriefbank</td><td>2012</td><td>0</td><td>0</td><td>0</td><td>0</td><td>0</td><td>56990</td></tr><tr><td>Deutsche Pfandbriefbank</td><td>2013</td><td>0</td><td>0</td><td>0</td><td>0</td><td>0</td><td>55550</td></tr><tr><td>Deutsche Pfandbriefbank</td><td>2014</td><td>0</td><td>0</td><td>0</td><td>0</td><td>0</td><td>62815</td></tr><tr><td>Deutsche Pfandbriefbank</td><td>2015</td><td>0</td><td>0</td><td>0</td><td>0</td><td>0</td><td>88900</td></tr><tr><td>Deutsche Pfandbriefbank</td><td>2016</td><td>0</td><td>0</td><td>0</td><td>0</td><td>0</td><td>120438</td></tr><tr><td>Deutsche Pfandbriefbank</td><td>2017</td><td>2</td><td>0</td><td>0</td><td>0</td><td>0</td><td>89037</td></tr><tr><td>Deutsche Pfandbriefbank</td><td>2018</td><td>5</td><td>0</td><td>0</td><td>1</td><td>1</td><td>118132</td></tr><tr><td>Deutsche Pfandbriefbank</td><td>2019</td><td>2</td><td>0</td><td>0</td><td>0</td><td>0</td><td>86436</td></tr><tr><td>Deutsche Pfandbriefbank</td><td>2020</td><td>1</td><td>0</td><td>0</td><td>0</td><td>0</td><td>89920</td></tr><tr><td>Deutsche Wohnen SE</td><td>2012</td><td>0</td><td>0</td><td>0</td><td>0</td><td>0</td><td>33111</td></tr><tr><td>Deutsche Wohnen SE</td><td>2013</td><td>0</td><td>0</td><td>1</td><td>0</td><td>1</td><td>39996</td></tr><tr><td>Deutsche Wohnen SE</td><td>2014</td><td>0</td><td>0</td><td>0</td><td>0</td><td>0</td><td>45155</td></tr><tr><td>Deutsche Wohnen SE</td><td>2015</td><td>0</td><td>0</td><td>0</td><td>0</td><td>0</td><td>50187</td></tr><tr><td>Deutsche Wohnen SE</td><td>2016</td><td>0</td><td>0</td><td>0</td><td>0</td><td>0</td><td>52949</td></tr><tr><td>Deutsche Wohnen SE</td><td>2017</td><td>0</td><td>0</td><td>0</td><td>0</td><td>0</td><td>59589</td></tr><tr><td>Deutsche Wohnen SE</td><td>2018</td><td>1</td><td>0</td><td>0</td><td>0</td><td>0</td><td>66047</td></tr><tr><td>Deutsche Wohnen SE</td><td>2019</td><td>0</td><td>0</td><td>0</td><td>1</td><td>1</td><td>69015</td></tr><tr><td>Deutsche Wohnen SE</td><td>2020</td><td>0</td><td>0</td><td>0</td><td>0</td><td>0</td><td>73282</td></tr><tr><td>DMG Mori AG</td><td>2012</td><td>0</td><td>0</td><td>0</td><td>0</td><td>0</td><td>62536</td></tr><tr><td>DMG Mori AG</td><td>2013</td><td>0</td><td>0</td><td>0</td><td>0</td><td>0</td><td>64608</td></tr><tr><td>DMG Mori AG</td><td>2014</td><td>0</td><td>0</td><td>0</td><td>0</td><td>0</td><td>67389</td></tr><tr><td>DMG Mori AG</td><td>2015</td><td>0</td><td>0</td><td>0</td><td>0</td><td>0</td><td>64925</td></tr><tr><td>DMG Mori AG</td><td>2016</td><td>0</td><td>0</td><td>0</td><td>0</td><td>0</td><td>59135</td></tr><tr><td>DMG Mori AG</td><td>2017</td><td>1</td><td>0</td><td>0</td><td>0</td><td>0</td><td>65358</td></tr><tr><td>DMG Mori AG</td><td>2018</td><td>0</td><td>0</td><td>0</td><td>0</td><td>0</td><td>63268</td></tr><tr><td>DMG Mori AG</td><td>2019</td><td>3</td><td>0</td><td>0</td><td>0</td><td>0</td><td>62911</td></tr><tr><td>DMG Mori AG</td><td>2020</td><td>1</td><td>0</td><td>0</td><td>2</td><td>2</td><td>65539</td></tr><tr><td>D�rr AG</td><td>2012</td><td>0</td><td>0</td><td>0</td><td>0</td><td>0</td><td>69363</td></tr><tr><td>D�rr AG</td><td>2013</td><td>0</td><td>0</td><td>0</td><td>0</td><td>0</td><td>72667</td></tr><tr><td>D�rr AG</td><td>2014</td><td>0</td><td>0</td><td>0</td><td>0</td><td>0</td><td>77444</td></tr><tr><td>D�rr AG</td><td>2015</td><td>0</td><td>0</td><td>0</td><td>0</td><td>0</td><td>69283</td></tr><tr><td>D�rr AG</td><td>2016</td><td>0</td><td>0</td><td>0</td><td>0</td><td>0</td><td>66186</td></tr><tr><td>D�rr AG</td><td>2017</td><td>2</td><td>0</td><td>0</td><td>0</td><td>0</td><td>72846</td></tr><tr><td>D�rr AG</td><td>2018</td><td>2</td><td>0</td><td>0</td><td>0</td><td>0</td><td>77144</td></tr><tr><td>D�rr AG</td><td>2019</td><td>2</td><td>0</td><td>0</td><td>1</td><td>1</td><td>71713</td></tr><tr><td>D�rr AG</td><td>2020</td><td>4</td><td>0</td><td>0</td><td>2</td><td>2</td><td>86689</td></tr><tr><td>Encavis AG</td><td>2012</td><td>0</td><td>0</td><td>0</td><td>0</td><td>0</td><td>41551</td></tr><tr><td>Encavis AG</td><td>2013</td><td>0</td><td>0</td><td>0</td><td>0</td><td>0</td><td>42958</td></tr><tr><td>Encavis AG</td><td>2014</td><td>0</td><td>0</td><td>0</td><td>0</td><td>0</td><td>50906</td></tr><tr><td>Encavis AG</td><td>2015</td><td>0</td><td>0</td><td>0</td><td>0</td><td>0</td><td>56793</td></tr><tr><td>Encavis AG</td><td>2016</td><td>0</td><td>0</td><td>0</td><td>0</td><td>0</td><td>749</td></tr><tr><td>Encavis AG</td><td>2017</td><td>0</td><td>0</td><td>0</td><td>0</td><td>0</td><td>57970</td></tr><tr><td>Encavis AG</td><td>2018</td><td>0</td><td>0</td><td>0</td><td>0</td><td>0</td><td>64608</td></tr><tr><td>Encavis AG</td><td>2019</td><td>0</td><td>0</td><td>0</td><td>0</td><td>0</td><td>66676</td></tr><tr><td>Encavis AG</td><td>2020</td><td>0</td><td>0</td><td>0</td><td>0</td><td>0</td><td>69116</td></tr><tr><td>Evonik Industries AG</td><td>2012</td><td>0</td><td>0</td><td>0</td><td>0</td><td>0</td><td>71422</td></tr><tr><td>Evonik Industries AG</td><td>2013</td><td>0</td><td>0</td><td>0</td><td>0</td><td>0</td><td>89569</td></tr><tr><td>Evonik Industries AG</td><td>2014</td><td>0</td><td>0</td><td>0</td><td>0</td><td>0</td><td>82918</td></tr><tr><td>Evonik Industries AG</td><td>2015</td><td>0</td><td>0</td><td>0</td><td>0</td><td>0</td><td>80887</td></tr><tr><td>Evonik Industries AG</td><td>2016</td><td>0</td><td>1</td><td>0</td><td>0</td><td>0</td><td>78732</td></tr><tr><td>Evonik Industries AG</td><td>2017</td><td>0</td><td>0</td><td>0</td><td>0</td><td>0</td><td>71521</td></tr><tr><td>Evonik Industries AG</td><td>2018</td><td>1</td><td>0</td><td>0</td><td>1</td><td>1</td><td>74640</td></tr><tr><td>Evonik Industries AG</td><td>2019</td><td>0</td><td>0</td><td>0</td><td>0</td><td>0</td><td>80080</td></tr><tr><td>Evonik Industries AG</td><td>2020</td><td>1</td><td>0</td><td>0</td><td>0</td><td>0</td><td>85966</td></tr><tr><td>Evotec SE</td><td>2012</td><td>0</td><td>0</td><td>0</td><td>0</td><td>0</td><td>63339</td></tr><tr><td>Evotec SE</td><td>2013</td><td>0</td><td>0</td><td>1</td><td>0</td><td>1</td><td>66642</td></tr><tr><td>Evotec SE</td><td>2014</td><td>0</td><td>0</td><td>0</td><td>0</td><td>0</td><td>61465</td></tr><tr><td>Evotec SE</td><td>2015</td><td>0</td><td>0</td><td>0</td><td>0</td><td>0</td><td>55430</td></tr><tr><td>Evotec SE</td><td>2016</td><td>0</td><td>0</td><td>0</td><td>0</td><td>0</td><td>54563</td></tr><tr><td>Evotec SE</td><td>2017</td><td>0</td><td>0</td><td>4</td><td>6</td><td>10</td><td>59056</td></tr><tr><td>Evotec SE</td><td>2018</td><td>0</td><td>0</td><td>3</td><td>30</td><td>33</td><td>66514</td></tr><tr><td>Evotec SE</td><td>2019</td><td>0</td><td>0</td><td>3</td><td>5</td><td>8</td><td>61165</td></tr><tr><td>Evotec SE</td><td>2020</td><td>0</td><td>0</td><td>6</td><td>17</td><td>23</td><td>64693</td></tr><tr><td>Fielmann</td><td>2012</td><td>0</td><td>0</td><td>0</td><td>0</td><td>0</td><td>30171</td></tr><tr><td>Fielmann</td><td>2013</td><td>0</td><td>0</td><td>0</td><td>0</td><td>0</td><td>32754</td></tr><tr><td>Fielmann</td><td>2014</td><td>0</td><td>0</td><td>0</td><td>0</td><td>0</td><td>33863</td></tr><tr><td>Fielmann</td><td>2015</td><td>0</td><td>0</td><td>0</td><td>0</td><td>0</td><td>34611</td></tr><tr><td>Fielmann</td><td>2016</td><td>0</td><td>0</td><td>0</td><td>0</td><td>0</td><td>35029</td></tr><tr><td>Fielmann</td><td>2017</td><td>0</td><td>0</td><td>0</td><td>0</td><td>0</td><td>38220</td></tr><tr><td>Fielmann</td><td>2018</td><td>0</td><td>0</td><td>0</td><td>0</td><td>0</td><td>42757</td></tr><tr><td>Fielmann</td><td>2019</td><td>0</td><td>0</td><td>0</td><td>0</td><td>0</td><td>48212</td></tr><tr><td>Fielmann</td><td>2020</td><td>0</td><td>0</td><td>0</td><td>0</td><td>0</td><td>50984</td></tr><tr><td>Fraport AG</td><td>2012</td><td>0</td><td>0</td><td>0</td><td>0</td><td>0</td><td>62212</td></tr><tr><td>Fraport AG</td><td>2013</td><td>0</td><td>0</td><td>0</td><td>0</td><td>0</td><td>75549</td></tr><tr><td>Fraport AG</td><td>2014</td><td>0</td><td>0</td><td>0</td><td>0</td><td>0</td><td>73875</td></tr><tr><td>Fraport AG</td><td>2015</td><td>0</td><td>0</td><td>0</td><td>0</td><td>0</td><td>78323</td></tr><tr><td>Fraport AG</td><td>2016</td><td>0</td><td>0</td><td>0</td><td>0</td><td>0</td><td>78919</td></tr><tr><td>Fraport AG</td><td>2017</td><td>0</td><td>0</td><td>0</td><td>0</td><td>0</td><td>94213</td></tr><tr><td>Fraport AG</td><td>2018</td><td>1</td><td>0</td><td>0</td><td>0</td><td>0</td><td>101499</td></tr><tr><td>Fraport AG</td><td>2019</td><td>1</td><td>0</td><td>0</td><td>0</td><td>0</td><td>116035</td></tr><tr><td>Fraport AG</td><td>2020</td><td>0</td><td>0</td><td>0</td><td>0</td><td>0</td><td>148111</td></tr><tr><td>Freenet AG</td><td>2012</td><td>0</td><td>0</td><td>0</td><td>0</td><td>0</td><td>55833</td></tr><tr><td>Freenet AG</td><td>2013</td><td>0</td><td>0</td><td>0</td><td>0</td><td>0</td><td>61149</td></tr><tr><td>Freenet AG</td><td>2014</td><td>0</td><td>0</td><td>0</td><td>0</td><td>0</td><td>64477</td></tr><tr><td>Freenet AG</td><td>2015</td><td>0</td><td>0</td><td>0</td><td>0</td><td>0</td><td>65681</td></tr><tr><td>Freenet AG</td><td>2016</td><td>0</td><td>0</td><td>0</td><td>0</td><td>0</td><td>73402</td></tr><tr><td>Freenet AG</td><td>2017</td><td>1</td><td>0</td><td>0</td><td>2</td><td>2</td><td>81105</td></tr><tr><td>Freenet AG</td><td>2018</td><td>0</td><td>0</td><td>0</td><td>2</td><td>2</td><td>83046</td></tr><tr><td>Freenet AG</td><td>2019</td><td>0</td><td>0</td><td>2</td><td>3</td><td>5</td><td>80062</td></tr><tr><td>Freenet AG</td><td>2020</td><td>1</td><td>0</td><td>2</td><td>1</td><td>3</td><td>82736</td></tr><tr><td>Fuchs Petrolub SE</td><td>2012</td><td>0</td><td>0</td><td>0</td><td>0</td><td>0</td><td>45623</td></tr><tr><td>Fuchs Petrolub SE</td><td>2013</td><td>0</td><td>0</td><td>0</td><td>0</td><td>0</td><td>51383</td></tr><tr><td>Fuchs Petrolub SE</td><td>2014</td><td>0</td><td>0</td><td>0</td><td>0</td><td>0</td><td>53151</td></tr><tr><td>Fuchs Petrolub SE</td><td>2015</td><td>0</td><td>0</td><td>0</td><td>0</td><td>0</td><td>51965</td></tr><tr><td>Fuchs Petrolub SE</td><td>2016</td><td>0</td><td>0</td><td>0</td><td>0</td><td>0</td><td>50588</td></tr><tr><td>Fuchs Petrolub SE</td><td>2017</td><td>0</td><td>0</td><td>0</td><td>0</td><td>0</td><td>56532</td></tr><tr><td>Fuchs Petrolub SE</td><td>2018</td><td>1</td><td>0</td><td>0</td><td>5</td><td>5</td><td>55374</td></tr><tr><td>Fuchs Petrolub SE</td><td>2019</td><td>0</td><td>0</td><td>0</td><td>0</td><td>0</td><td>52935</td></tr><tr><td>Fuchs Petrolub SE</td><td>2020</td><td>0</td><td>0</td><td>0</td><td>0</td><td>0</td><td>61769</td></tr><tr><td>GEA Group AG</td><td>2012</td><td>0</td><td>0</td><td>0</td><td>0</td><td>0</td><td>67476</td></tr><tr><td>GEA Group AG</td><td>2013</td><td>0</td><td>0</td><td>0</td><td>0</td><td>0</td><td>73890</td></tr><tr><td>GEA Group AG</td><td>2014</td><td>0</td><td>0</td><td>0</td><td>0</td><td>0</td><td>73495</td></tr><tr><td>GEA Group AG</td><td>2015</td><td>0</td><td>0</td><td>0</td><td>0</td><td>0</td><td>72514</td></tr><tr><td>GEA Group AG</td><td>2016</td><td>0</td><td>0</td><td>0</td><td>0</td><td>0</td><td>70840</td></tr><tr><td>GEA Group AG</td><td>2017</td><td>0</td><td>0</td><td>0</td><td>1</td><td>1</td><td>76504</td></tr><tr><td>GEA Group AG</td><td>2018</td><td>2</td><td>0</td><td>1</td><td>0</td><td>1</td><td>93726</td></tr><tr><td>GEA Group AG</td><td>2019</td><td>0</td><td>0</td><td>1</td><td>1</td><td>2</td><td>102854</td></tr><tr><td>GEA Group AG</td><td>2020</td><td>0</td><td>0</td><td>1</td><td>0</td><td>1</td><td>82820</td></tr><tr><td>Gerresheimer AG</td><td>2012</td><td>0</td><td>0</td><td>0</td><td>0</td><td>0</td><td>52296</td></tr><tr><td>Gerresheimer AG</td><td>2013</td><td>0</td><td>0</td><td>0</td><td>0</td><td>0</td><td>55670</td></tr><tr><td>Gerresheimer AG</td><td>2014</td><td>0</td><td>0</td><td>0</td><td>0</td><td>0</td><td>58633</td></tr><tr><td>Gerresheimer AG</td><td>2015</td><td>0</td><td>0</td><td>0</td><td>0</td><td>0</td><td>61133</td></tr><tr><td>Gerresheimer AG</td><td>2016</td><td>0</td><td>0</td><td>0</td><td>0</td><td>0</td><td>66262</td></tr><tr><td>Gerresheimer AG</td><td>2017</td><td>0</td><td>0</td><td>0</td><td>0</td><td>0</td><td>74597</td></tr><tr><td>Gerresheimer AG</td><td>2018</td><td>0</td><td>0</td><td>0</td><td>0</td><td>0</td><td>81229</td></tr><tr><td>Gerresheimer AG</td><td>2019</td><td>1</td><td>0</td><td>0</td><td>0</td><td>0</td><td>80150</td></tr><tr><td>Gerresheimer AG</td><td>2020</td><td>0</td><td>0</td><td>0</td><td>0</td><td>0</td><td>70856</td></tr><tr><td>Grand City Properties S.A.</td><td>2014</td><td>0</td><td>0</td><td>0</td><td>0</td><td>0</td><td>29976</td></tr><tr><td>Grand City Properties S.A.</td><td>2015</td><td>0</td><td>0</td><td>0</td><td>0</td><td>0</td><td>29166</td></tr><tr><td>Grand City Properties S.A.</td><td>2016</td><td>0</td><td>0</td><td>0</td><td>0</td><td>0</td><td>29486</td></tr><tr><td>Grand City Properties S.A.</td><td>2017</td><td>0</td><td>0</td><td>37</td><td>2</td><td>39</td><td>42610</td></tr><tr><td>Grand City Properties S.A.</td><td>2018</td><td>0</td><td>0</td><td>1</td><td>1</td><td>2</td><td>48301</td></tr><tr><td>Grand City Properties S.A.</td><td>2019</td><td>0</td><td>0</td><td>1</td><td>0</td><td>1</td><td>50533</td></tr><tr><td>Grand City Properties S.A.</td><td>2020</td><td>0</td><td>0</td><td>1</td><td>0</td><td>1</td><td>53807</td></tr><tr><td>Hannover R�ckversicherung AG</td><td>2012</td><td>0</td><td>0</td><td>0</td><td>0</td><td>0</td><td>80501</td></tr><tr><td>Hannover R�ckversicherung AG</td><td>2013</td><td>0</td><td>0</td><td>0</td><td>0</td><td>0</td><td>85838</td></tr><tr><td>Hannover R�ckversicherung AG</td><td>2014</td><td>0</td><td>0</td><td>0</td><td>0</td><td>0</td><td>89239</td></tr><tr><td>Hannover R�ckversicherung AG</td><td>2015</td><td>0</td><td>0</td><td>0</td><td>0</td><td>0</td><td>88366</td></tr><tr><td>Hannover R�ckversicherung AG</td><td>2016</td><td>0</td><td>0</td><td>0</td><td>0</td><td>0</td><td>90369</td></tr><tr><td>Hannover R�ckversicherung AG</td><td>2017</td><td>1</td><td>0</td><td>0</td><td>0</td><td>0</td><td>99963</td></tr><tr><td>Hannover R�ckversicherung AG</td><td>2018</td><td>1</td><td>0</td><td>0</td><td>0</td><td>0</td><td>109416</td></tr><tr><td>Hannover R�ckversicherung AG</td><td>2019</td><td>2</td><td>0</td><td>0</td><td>0</td><td>0</td><td>107438</td></tr><tr><td>Hannover R�ckversicherung AG</td><td>2020</td><td>2</td><td>0</td><td>0</td><td>0</td><td>0</td><td>109522</td></tr><tr><td>HELLA GmbH & Co. KGaA</td><td>2012</td><td>0</td><td>0</td><td>0</td><td>0</td><td>0</td><td>25721</td></tr><tr><td>HELLA GmbH & Co. KGaA</td><td>2013</td><td>0</td><td>0</td><td>0</td><td>0</td><td>0</td><td>34773</td></tr><tr><td>HELLA GmbH & Co. KGaA</td><td>2014</td><td>0</td><td>0</td><td>0</td><td>0</td><td>0</td><td>69056</td></tr><tr><td>HELLA GmbH & Co. KGaA</td><td>2015</td><td>1</td><td>0</td><td>0</td><td>0</td><td>0</td><td>66811</td></tr><tr><td>HELLA GmbH & Co. KGaA</td><td>2016</td><td>0</td><td>0</td><td>30</td><td>17</td><td>47</td><td>141829</td></tr><tr><td>HELLA GmbH & Co. KGaA</td><td>2017</td><td>0</td><td>0</td><td>10</td><td>4</td><td>14</td><td>94901</td></tr><tr><td>HELLA GmbH & Co. KGaA</td><td>2018</td><td>0</td><td>0</td><td>0</td><td>0</td><td>0</td><td>90865</td></tr><tr><td>HELLA GmbH & Co. KGaA</td><td>2019</td><td>0</td><td>2</td><td>1</td><td>2</td><td>3</td><td>96920</td></tr><tr><td>HelloFresh SE</td><td>2018</td><td>0</td><td>0</td><td>0</td><td>0</td><td>0</td><td>38908</td></tr><tr><td>HelloFresh SE</td><td>2019</td><td>0</td><td>0</td><td>0</td><td>0</td><td>0</td><td>38658</td></tr><tr><td>HelloFresh SE</td><td>2020</td><td>0</td><td>0</td><td>0</td><td>0</td><td>0</td><td>42557</td></tr><tr><td>Hochtief AG</td><td>2012</td><td>0</td><td>0</td><td>0</td><td>0</td><td>0</td><td>82824</td></tr><tr><td>Hochtief AG</td><td>2013</td><td>0</td><td>0</td><td>0</td><td>0</td><td>0</td><td>81072</td></tr><tr><td>Hochtief AG</td><td>2014</td><td>0</td><td>0</td><td>0</td><td>0</td><td>0</td><td>94861</td></tr><tr><td>Hochtief AG</td><td>2015</td><td>0</td><td>0</td><td>0</td><td>0</td><td>0</td><td>95564</td></tr><tr><td>Hochtief AG</td><td>2016</td><td>0</td><td>0</td><td>0</td><td>0</td><td>0</td><td>92015</td></tr><tr><td>Hochtief AG</td><td>2017</td><td>0</td><td>0</td><td>0</td><td>0</td><td>0</td><td>91973</td></tr><tr><td>Hochtief AG</td><td>2018</td><td>1</td><td>0</td><td>2</td><td>3</td><td>5</td><td>88886</td></tr><tr><td>Hochtief AG</td><td>2019</td><td>1</td><td>0</td><td>1</td><td>2</td><td>3</td><td>91634</td></tr><tr><td>Hochtief AG</td><td>2020</td><td>2</td><td>0</td><td>3</td><td>4</td><td>7</td><td>100732</td></tr><tr><td>Hugo Boss AG</td><td>2012</td><td>0</td><td>0</td><td>0</td><td>1</td><td>1</td><td>77578</td></tr><tr><td>Hugo Boss AG</td><td>2013</td><td>0</td><td>0</td><td>0</td><td>0</td><td>0</td><td>80000</td></tr><tr><td>Hugo Boss AG</td><td>2014</td><td>0</td><td>0</td><td>0</td><td>0</td><td>0</td><td>70580</td></tr><tr><td>Hugo Boss AG</td><td>2015</td><td>0</td><td>0</td><td>0</td><td>0</td><td>0</td><td>75228</td></tr><tr><td>Hugo Boss AG</td><td>2016</td><td>3</td><td>0</td><td>0</td><td>0</td><td>0</td><td>59688</td></tr><tr><td>Hugo Boss AG</td><td>2017</td><td>0</td><td>0</td><td>0</td><td>0</td><td>0</td><td>20669</td></tr><tr><td>Hugo Boss AG</td><td>2018</td><td>9</td><td>0</td><td>0</td><td>0</td><td>0</td><td>67081</td></tr><tr><td>Hugo Boss AG</td><td>2019</td><td>1</td><td>0</td><td>0</td><td>2</td><td>2</td><td>65809</td></tr><tr><td>Hugo Boss AG</td><td>2020</td><td>0</td><td>0</td><td>0</td><td>0</td><td>0</td><td>79208</td></tr><tr><td>Jungheinrich AG</td><td>2012</td><td>0</td><td>0</td><td>0</td><td>0</td><td>0</td><td>41006</td></tr><tr><td>Jungheinrich AG</td><td>2013</td><td>0</td><td>0</td><td>0</td><td>0</td><td>0</td><td>47849</td></tr><tr><td>Jungheinrich AG</td><td>2014</td><td>0</td><td>0</td><td>0</td><td>0</td><td>0</td><td>40415</td></tr><tr><td>Jungheinrich AG</td><td>2015</td><td>0</td><td>0</td><td>0</td><td>0</td><td>0</td><td>40609</td></tr><tr><td>Jungheinrich AG</td><td>2016</td><td>0</td><td>0</td><td>0</td><td>0</td><td>0</td><td>43306</td></tr><tr><td>Jungheinrich AG</td><td>2017</td><td>0</td><td>0</td><td>0</td><td>0</td><td>0</td><td>41868</td></tr><tr><td>Jungheinrich AG</td><td>2018</td><td>0</td><td>0</td><td>0</td><td>0</td><td>0</td><td>53210</td></tr><tr><td>Jungheinrich AG</td><td>2019</td><td>1</td><td>0</td><td>0</td><td>0</td><td>0</td><td>56289</td></tr><tr><td>Jungheinrich AG</td><td>2020</td><td>1</td><td>0</td><td>0</td><td>0</td><td>0</td><td>57704</td></tr><tr><td>K+S AG</td><td>2012</td><td>0</td><td>0</td><td>0</td><td>0</td><td>0</td><td>79732</td></tr><tr><td>K+S AG</td><td>2013</td><td>0</td><td>0</td><td>0</td><td>0</td><td>0</td><td>63837</td></tr><tr><td>K+S AG</td><td>2014</td><td>0</td><td>0</td><td>0</td><td>0</td><td>0</td><td>57358</td></tr><tr><td>K+S AG</td><td>2015</td><td>0</td><td>0</td><td>0</td><td>0</td><td>0</td><td>73384</td></tr><tr><td>K+S AG</td><td>2016</td><td>1</td><td>0</td><td>0</td><td>0</td><td>0</td><td>73832</td></tr><tr><td>K+S AG</td><td>2017</td><td>2</td><td>0</td><td>0</td><td>0</td><td>0</td><td>77250</td></tr><tr><td>K+S AG</td><td>2018</td><td>0</td><td>0</td><td>0</td><td>0</td><td>0</td><td>82503</td></tr><tr><td>K+S AG</td><td>2019</td><td>0</td><td>0</td><td>0</td><td>1</td><td>1</td><td>86482</td></tr><tr><td>K+S AG</td><td>2020</td><td>0</td><td>0</td><td>0</td><td>0</td><td>0</td><td>91565</td></tr><tr><td>Kion Group AG</td><td>2012</td><td>0</td><td>0</td><td>0</td><td>0</td><td>0</td><td>46665</td></tr><tr><td>Kion Group AG</td><td>2013</td><td>0</td><td>0</td><td>0</td><td>0</td><td>0</td><td>78865</td></tr><tr><td>Kion Group AG</td><td>2014</td><td>0</td><td>0</td><td>0</td><td>0</td><td>0</td><td>78808</td></tr><tr><td>Kion Group AG</td><td>2015</td><td>0</td><td>0</td><td>0</td><td>0</td><td>0</td><td>74221</td></tr><tr><td>Kion Group AG</td><td>2016</td><td>0</td><td>0</td><td>2</td><td>3</td><td>5</td><td>76298</td></tr><tr><td>Kion Group AG</td><td>2017</td><td>0</td><td>0</td><td>2</td><td>3</td><td>5</td><td>74832</td></tr><tr><td>Kion Group AG</td><td>2018</td><td>0</td><td>6</td><td>2</td><td>4</td><td>6</td><td>78670</td></tr><tr><td>Kion Group AG</td><td>2019</td><td>4</td><td>0</td><td>2</td><td>3</td><td>5</td><td>73030</td></tr><tr><td>Kion Group AG</td><td>2020</td><td>2</td><td>1</td><td>0</td><td>0</td><td>0</td><td>83267</td></tr><tr><td>Knorr-Bremse AG</td><td>2013</td><td>0</td><td>0</td><td>0</td><td>0</td><td>0</td><td>60344</td></tr><tr><td>Knorr-Bremse AG</td><td>2014</td><td>0</td><td>0</td><td>0</td><td>0</td><td>0</td><td>36741</td></tr><tr><td>Knorr-Bremse AG</td><td>2015</td><td>0</td><td>0</td><td>0</td><td>0</td><td>0</td><td>28802</td></tr><tr><td>Knorr-Bremse AG</td><td>2016</td><td>0</td><td>0</td><td>0</td><td>0</td><td>0</td><td>27010</td></tr><tr><td>Knorr-Bremse AG</td><td>2017</td><td>0</td><td>0</td><td>1</td><td>1</td><td>2</td><td>27154</td></tr><tr><td>Knorr-Bremse AG</td><td>2018</td><td>0</td><td>0</td><td>6</td><td>0</td><td>6</td><td>88077</td></tr><tr><td>Knorr-Bremse AG</td><td>2019</td><td>0</td><td>0</td><td>5</td><td>1</td><td>6</td><td>95754</td></tr><tr><td>Knorr-Bremse AG</td><td>2020</td><td>0</td><td>1</td><td>4</td><td>2</td><td>6</td><td>94656</td></tr><tr><td>Krones AG</td><td>2012</td><td>0</td><td>0</td><td>0</td><td>0</td><td>0</td><td>23521</td></tr><tr><td>Krones AG</td><td>2013</td><td>0</td><td>0</td><td>0</td><td>0</td><td>0</td><td>26356</td></tr><tr><td>Krones AG</td><td>2014</td><td>0</td><td>0</td><td>0</td><td>0</td><td>0</td><td>28768</td></tr><tr><td>Krones AG</td><td>2015</td><td>0</td><td>0</td><td>0</td><td>0</td><td>0</td><td>30687</td></tr><tr><td>Krones AG</td><td>2016</td><td>0</td><td>0</td><td>0</td><td>0</td><td>0</td><td>31482</td></tr><tr><td>Krones AG</td><td>2017</td><td>0</td><td>0</td><td>0</td><td>0</td><td>0</td><td>33025</td></tr><tr><td>Krones AG</td><td>2018</td><td>0</td><td>0</td><td>0</td><td>1</td><td>1</td><td>36573</td></tr><tr><td>Krones AG</td><td>2019</td><td>0</td><td>0</td><td>0</td><td>1</td><td>1</td><td>35133</td></tr><tr><td>Krones AG</td><td>2020</td><td>0</td><td>0</td><td>1</td><td>5</td><td>6</td><td>40399</td></tr><tr><td>Lanxess AG</td><td>2012</td><td>0</td><td>0</td><td>0</td><td>0</td><td>0</td><td>7562</td></tr><tr><td>Lanxess AG</td><td>2013</td><td>0</td><td>0</td><td>0</td><td>0</td><td>0</td><td>6961</td></tr><tr><td>Lanxess AG</td><td>2014</td><td>0</td><td>0</td><td>0</td><td>0</td><td>0</td><td>7710</td></tr><tr><td>Lanxess AG</td><td>2015</td><td>0</td><td>0</td><td>0</td><td>0</td><td>0</td><td>7970</td></tr><tr><td>Lanxess AG</td><td>2016</td><td>0</td><td>0</td><td>0</td><td>0</td><td>0</td><td>6927</td></tr><tr><td>Lanxess AG</td><td>2017</td><td>0</td><td>0</td><td>0</td><td>0</td><td>0</td><td>9386</td></tr><tr><td>Lanxess AG</td><td>2018</td><td>0</td><td>0</td><td>0</td><td>0</td><td>0</td><td>92633</td></tr><tr><td>Lanxess AG</td><td>2019</td><td>1</td><td>0</td><td>0</td><td>2</td><td>2</td><td>100050</td></tr><tr><td>Lanxess AG</td><td>2020</td><td>0</td><td>0</td><td>0</td><td>3</td><td>3</td><td>108619</td></tr><tr><td>LEG Immobilien AG</td><td>2014</td><td>0</td><td>0</td><td>1</td><td>1</td><td>2</td><td>66412</td></tr><tr><td>LEG Immobilien AG</td><td>2015</td><td>0</td><td>0</td><td>0</td><td>0</td><td>0</td><td>67466</td></tr><tr><td>LEG Immobilien AG</td><td>2016</td><td>0</td><td>0</td><td>0</td><td>0</td><td>0</td><td>64141</td></tr><tr><td>LEG Immobilien AG</td><td>2017</td><td>0</td><td>0</td><td>0</td><td>0</td><td>0</td><td>67566</td></tr><tr><td>LEG Immobilien AG</td><td>2018</td><td>1</td><td>6</td><td>0</td><td>2</td><td>2</td><td>66234</td></tr><tr><td>LEG Immobilien AG</td><td>2019</td><td>1</td><td>2</td><td>0</td><td>0</td><td>0</td><td>63719</td></tr><tr><td>LEG Immobilien AG</td><td>2020</td><td>0</td><td>0</td><td>0</td><td>0</td><td>0</td><td>86737</td></tr><tr><td>LEONI AG</td><td>2012</td><td>0</td><td>0</td><td>0</td><td>0</td><td>0</td><td>61137</td></tr><tr><td>LEONI AG</td><td>2013</td><td>0</td><td>0</td><td>0</td><td>0</td><td>0</td><td>62331</td></tr><tr><td>LEONI AG</td><td>2014</td><td>0</td><td>0</td><td>0</td><td>0</td><td>0</td><td>59065</td></tr><tr><td>LEONI AG</td><td>2015</td><td>0</td><td>0</td><td>0</td><td>0</td><td>0</td><td>72719</td></tr><tr><td>LEONI AG</td><td>2016</td><td>4</td><td>0</td><td>0</td><td>0</td><td>0</td><td>67388</td></tr><tr><td>LEONI AG</td><td>2017</td><td>4</td><td>0</td><td>0</td><td>0</td><td>0</td><td>69434</td></tr><tr><td>LEONI AG</td><td>2018</td><td>3</td><td>0</td><td>0</td><td>2</td><td>2</td><td>69046</td></tr><tr><td>LEONI AG</td><td>2019</td><td>1</td><td>0</td><td>0</td><td>0</td><td>0</td><td>75015</td></tr><tr><td>LEONI AG</td><td>2020</td><td>0</td><td>0</td><td>0</td><td>1</td><td>1</td><td>85953</td></tr><tr><td>Morphosys AG</td><td>2012</td><td>0</td><td>0</td><td>0</td><td>0</td><td>0</td><td>58577</td></tr><tr><td>Morphosys AG</td><td>2013</td><td>0</td><td>0</td><td>0</td><td>0</td><td>0</td><td>65403</td></tr><tr><td>Morphosys AG</td><td>2014</td><td>0</td><td>0</td><td>0</td><td>0</td><td>0</td><td>58252</td></tr><tr><td>Morphosys AG</td><td>2015</td><td>0</td><td>0</td><td>0</td><td>0</td><td>0</td><td>70406</td></tr><tr><td>Morphosys AG</td><td>2016</td><td>0</td><td>0</td><td>0</td><td>0</td><td>0</td><td>57943</td></tr><tr><td>Morphosys AG</td><td>2017</td><td>0</td><td>0</td><td>0</td><td>2</td><td>2</td><td>71390</td></tr><tr><td>Morphosys AG</td><td>2018</td><td>0</td><td>0</td><td>1</td><td>0</td><td>1</td><td>86642</td></tr><tr><td>Morphosys AG</td><td>2019</td><td>0</td><td>0</td><td>0</td><td>0</td><td>0</td><td>85548</td></tr><tr><td>Morphosys AG</td><td>2020</td><td>0</td><td>0</td><td>0</td><td>0</td><td>0</td><td>98329</td></tr><tr><td>MTU Aero Engines AG</td><td>2012</td><td>0</td><td>0</td><td>0</td><td>0</td><td>0</td><td>61768</td></tr><tr><td>MTU Aero Engines AG</td><td>2013</td><td>0</td><td>0</td><td>0</td><td>0</td><td>0</td><td>61277</td></tr><tr><td>MTU Aero Engines AG</td><td>2014</td><td>0</td><td>0</td><td>0</td><td>0</td><td>0</td><td>62818</td></tr><tr><td>MTU Aero Engines AG</td><td>2015</td><td>0</td><td>0</td><td>0</td><td>0</td><td>0</td><td>65987</td></tr><tr><td>MTU Aero Engines AG</td><td>2016</td><td>0</td><td>0</td><td>0</td><td>0</td><td>0</td><td>61363</td></tr><tr><td>MTU Aero Engines AG</td><td>2017</td><td>0</td><td>0</td><td>0</td><td>0</td><td>0</td><td>73472</td></tr><tr><td>MTU Aero Engines AG</td><td>2018</td><td>0</td><td>0</td><td>0</td><td>0</td><td>0</td><td>76927</td></tr><tr><td>MTU Aero Engines AG</td><td>2019</td><td>1</td><td>0</td><td>0</td><td>0</td><td>0</td><td>73926</td></tr><tr><td>MTU Aero Engines AG</td><td>2020</td><td>1</td><td>0</td><td>0</td><td>0</td><td>0</td><td>80338</td></tr><tr><td>Nemetschek SE</td><td>2012</td><td>0</td><td>0</td><td>0</td><td>0</td><td>0</td><td>37223</td></tr><tr><td>Nemetschek SE</td><td>2013</td><td>0</td><td>0</td><td>0</td><td>0</td><td>0</td><td>45038</td></tr><tr><td>Nemetschek SE</td><td>2014</td><td>0</td><td>0</td><td>0</td><td>0</td><td>0</td><td>52228</td></tr><tr><td>Nemetschek SE</td><td>2015</td><td>0</td><td>0</td><td>0</td><td>0</td><td>0</td><td>39628</td></tr><tr><td>Nemetschek SE</td><td>2016</td><td>4</td><td>0</td><td>0</td><td>0</td><td>0</td><td>39302</td></tr><tr><td>Nemetschek SE</td><td>2017</td><td>2</td><td>0</td><td>0</td><td>0</td><td>0</td><td>62090</td></tr><tr><td>Nemetschek SE</td><td>2018</td><td>1</td><td>0</td><td>0</td><td>1</td><td>1</td><td>64242</td></tr><tr><td>Nemetschek SE</td><td>2019</td><td>5</td><td>0</td><td>0</td><td>0</td><td>0</td><td>52041</td></tr><tr><td>Nemetschek SE</td><td>2020</td><td>6</td><td>0</td><td>0</td><td>8</td><td>8</td><td>56888</td></tr><tr><td>Nordex SE</td><td>2012</td><td>0</td><td>0</td><td>0</td><td>0</td><td>0</td><td>47420</td></tr><tr><td>Nordex SE</td><td>2013</td><td>0</td><td>0</td><td>0</td><td>0</td><td>0</td><td>50479</td></tr><tr><td>Nordex SE</td><td>2014</td><td>0</td><td>0</td><td>0</td><td>0</td><td>0</td><td>50462</td></tr><tr><td>Nordex SE</td><td>2015</td><td>0</td><td>0</td><td>0</td><td>0</td><td>0</td><td>58206</td></tr><tr><td>Nordex SE</td><td>2016</td><td>0</td><td>0</td><td>0</td><td>0</td><td>0</td><td>50984</td></tr><tr><td>Nordex SE</td><td>2017</td><td>0</td><td>0</td><td>0</td><td>0</td><td>0</td><td>51047</td></tr><tr><td>Nordex SE</td><td>2018</td><td>0</td><td>0</td><td>0</td><td>0</td><td>0</td><td>55279</td></tr><tr><td>Nordex SE</td><td>2019</td><td>0</td><td>0</td><td>0</td><td>0</td><td>0</td><td>53318</td></tr><tr><td>Nordex SE</td><td>2020</td><td>0</td><td>0</td><td>0</td><td>0</td><td>0</td><td>56878</td></tr><tr><td>Norma Group SE</td><td>2012</td><td>0</td><td>0</td><td>0</td><td>0</td><td>0</td><td>65065</td></tr><tr><td>Norma Group SE</td><td>2013</td><td>0</td><td>0</td><td>0</td><td>0</td><td>0</td><td>71784</td></tr><tr><td>Norma Group SE</td><td>2014</td><td>0</td><td>0</td><td>0</td><td>0</td><td>0</td><td>70811</td></tr><tr><td>Norma Group SE</td><td>2015</td><td>0</td><td>0</td><td>1</td><td>0</td><td>1</td><td>77725</td></tr><tr><td>Norma Group SE</td><td>2016</td><td>0</td><td>0</td><td>0</td><td>1</td><td>1</td><td>81716</td></tr><tr><td>Norma Group SE</td><td>2017</td><td>0</td><td>0</td><td>0</td><td>0</td><td>0</td><td>88997</td></tr><tr><td>Norma Group SE</td><td>2018</td><td>0</td><td>0</td><td>0</td><td>0</td><td>0</td><td>92077</td></tr><tr><td>Norma Group SE</td><td>2019</td><td>0</td><td>0</td><td>0</td><td>0</td><td>0</td><td>86708</td></tr><tr><td>Norma Group SE</td><td>2020</td><td>0</td><td>0</td><td>0</td><td>0</td><td>0</td><td>102937</td></tr><tr><td>Osram Licht AG</td><td>2013</td><td>0</td><td>0</td><td>0</td><td>0</td><td>0</td><td>95004</td></tr><tr><td>Osram Licht AG</td><td>2014</td><td>0</td><td>0</td><td>0</td><td>0</td><td>0</td><td>98533</td></tr><tr><td>Osram Licht AG</td><td>2015</td><td>0</td><td>0</td><td>0</td><td>0</td><td>0</td><td>87822</td></tr><tr><td>Osram Licht AG</td><td>2016</td><td>0</td><td>0</td><td>0</td><td>0</td><td>0</td><td>63447</td></tr><tr><td>Osram Licht AG</td><td>2017</td><td>0</td><td>0</td><td>0</td><td>0</td><td>0</td><td>61552</td></tr><tr><td>Osram Licht AG</td><td>2018</td><td>0</td><td>0</td><td>0</td><td>0</td><td>0</td><td>73500</td></tr><tr><td>Osram Licht AG</td><td>2019</td><td>0</td><td>0</td><td>0</td><td>0</td><td>0</td><td>82514</td></tr><tr><td>Osram Licht AG</td><td>2020</td><td>0</td><td>0</td><td>0</td><td>0</td><td>0</td><td>88909</td></tr><tr><td>Porsche Automobil Holding SE</td><td>2012</td><td>0</td><td>0</td><td>0</td><td>0</td><td>0</td><td>79305</td></tr><tr><td>Porsche Automobil Holding SE</td><td>2013</td><td>0</td><td>0</td><td>0</td><td>0</td><td>0</td><td>59630</td></tr><tr><td>Porsche Automobil Holding SE</td><td>2014</td><td>0</td><td>0</td><td>0</td><td>0</td><td>0</td><td>57913</td></tr><tr><td>Porsche Automobil Holding SE</td><td>2015</td><td>0</td><td>0</td><td>0</td><td>0</td><td>0</td><td>72864</td></tr><tr><td>Porsche Automobil Holding SE</td><td>2016</td><td>0</td><td>0</td><td>1</td><td>1</td><td>2</td><td>70730</td></tr><tr><td>Porsche Automobil Holding SE</td><td>2017</td><td>0</td><td>0</td><td>0</td><td>1</td><td>1</td><td>71755</td></tr><tr><td>Porsche Automobil Holding SE</td><td>2018</td><td>0</td><td>0</td><td>0</td><td>0</td><td>0</td><td>54139</td></tr><tr><td>Porsche Automobil Holding SE</td><td>2019</td><td>0</td><td>0</td><td>0</td><td>0</td><td>0</td><td>47654</td></tr><tr><td>Porsche Automobil Holding SE</td><td>2020</td><td>0</td><td>0</td><td>0</td><td>1</td><td>1</td><td>54485</td></tr><tr><td>ProSiebenSat.1 Media SE</td><td>2012</td><td>0</td><td>0</td><td>1</td><td>0</td><td>1</td><td>95300</td></tr><tr><td>ProSiebenSat.1 Media SE</td><td>2013</td><td>0</td><td>0</td><td>1</td><td>0</td><td>1</td><td>102840</td></tr><tr><td>ProSiebenSat.1 Media SE</td><td>2014</td><td>2</td><td>0</td><td>1</td><td>0</td><td>1</td><td>107817</td></tr><tr><td>ProSiebenSat.1 Media SE</td><td>2015</td><td>1</td><td>0</td><td>1</td><td>0</td><td>1</td><td>117459</td></tr><tr><td>ProSiebenSat.1 Media SE</td><td>2016</td><td>2</td><td>0</td><td>1</td><td>0</td><td>1</td><td>102763</td></tr><tr><td>ProSiebenSat.1 Media SE</td><td>2017</td><td>11</td><td>0</td><td>15</td><td>0</td><td>15</td><td>104742</td></tr><tr><td>ProSiebenSat.1 Media SE</td><td>2018</td><td>2</td><td>1</td><td>23</td><td>0</td><td>23</td><td>117374</td></tr><tr><td>ProSiebenSat.1 Media SE</td><td>2019</td><td>4</td><td>0</td><td>0</td><td>0</td><td>0</td><td>97927</td></tr><tr><td>ProSiebenSat.1 Media SE</td><td>2020</td><td>3</td><td>0</td><td>3</td><td>0</td><td>3</td><td>96687</td></tr><tr><td>Puma SE</td><td>2012</td><td>0</td><td>0</td><td>0</td><td>0</td><td>0</td><td>60495</td></tr><tr><td>Puma SE</td><td>2013</td><td>0</td><td>0</td><td>0</td><td>0</td><td>0</td><td>54668</td></tr><tr><td>Puma SE</td><td>2014</td><td>0</td><td>0</td><td>0</td><td>0</td><td>0</td><td>60545</td></tr><tr><td>Puma SE</td><td>2015</td><td>0</td><td>0</td><td>0</td><td>0</td><td>0</td><td>55787</td></tr><tr><td>Puma SE</td><td>2016</td><td>0</td><td>0</td><td>0</td><td>0</td><td>0</td><td>60010</td></tr><tr><td>Puma SE</td><td>2017</td><td>0</td><td>0</td><td>0</td><td>0</td><td>0</td><td>66036</td></tr><tr><td>Puma SE</td><td>2018</td><td>0</td><td>0</td><td>0</td><td>0</td><td>0</td><td>65719</td></tr><tr><td>Puma SE</td><td>2019</td><td>0</td><td>0</td><td>0</td><td>0</td><td>0</td><td>49464</td></tr><tr><td>Puma SE</td><td>2020</td><td>0</td><td>0</td><td>0</td><td>0</td><td>0</td><td>51900</td></tr><tr><td>Qiagen N.V.</td><td>2012</td><td>0</td><td>0</td><td>5</td><td>0</td><td>5</td><td>109548</td></tr><tr><td>Qiagen N.V.</td><td>2013</td><td>0</td><td>0</td><td>0</td><td>0</td><td>0</td><td>80032</td></tr><tr><td>Qiagen N.V.</td><td>2014</td><td>0</td><td>0</td><td>4</td><td>0</td><td>4</td><td>246267</td></tr><tr><td>Qiagen N.V.</td><td>2015</td><td>0</td><td>0</td><td>0</td><td>0</td><td>0</td><td>86445</td></tr><tr><td>Qiagen N.V.</td><td>2016</td><td>0</td><td>0</td><td>0</td><td>0</td><td>0</td><td>103251</td></tr><tr><td>Qiagen N.V.</td><td>2017</td><td>0</td><td>0</td><td>2</td><td>0</td><td>2</td><td>196074</td></tr><tr><td>Qiagen N.V.</td><td>2018</td><td>0</td><td>0</td><td>2</td><td>0</td><td>2</td><td>183091</td></tr><tr><td>Qiagen N.V.</td><td>2019</td><td>0</td><td>0</td><td>0</td><td>0</td><td>0</td><td>109304</td></tr><tr><td>Qiagen N.V.</td><td>2020</td><td>0</td><td>0</td><td>0</td><td>0</td><td>0</td><td>4452</td></tr><tr><td>Rational AG</td><td>2012</td><td>0</td><td>0</td><td>0</td><td>0</td><td>0</td><td>36289</td></tr><tr><td>Rational AG</td><td>2013</td><td>0</td><td>0</td><td>0</td><td>0</td><td>0</td><td>43101</td></tr><tr><td>Rational AG</td><td>2014</td><td>0</td><td>0</td><td>0</td><td>0</td><td>0</td><td>37468</td></tr><tr><td>Rational AG</td><td>2015</td><td>0</td><td>0</td><td>0</td><td>0</td><td>0</td><td>38807</td></tr><tr><td>Rational AG</td><td>2016</td><td>0</td><td>0</td><td>0</td><td>0</td><td>0</td><td>39115</td></tr><tr><td>Rational AG</td><td>2017</td><td>0</td><td>0</td><td>0</td><td>0</td><td>0</td><td>37455</td></tr><tr><td>Rational AG</td><td>2018</td><td>0</td><td>0</td><td>0</td><td>0</td><td>0</td><td>37437</td></tr><tr><td>Rational AG</td><td>2019</td><td>0</td><td>0</td><td>0</td><td>0</td><td>0</td><td>37892</td></tr><tr><td>Rational AG</td><td>2020</td><td>0</td><td>0</td><td>0</td><td>0</td><td>0</td><td>42026</td></tr><tr><td>Rheinmetall AG</td><td>2012</td><td>0</td><td>0</td><td>0</td><td>0</td><td>0</td><td>52426</td></tr><tr><td>Rheinmetall AG</td><td>2013</td><td>0</td><td>0</td><td>0</td><td>0</td><td>0</td><td>56194</td></tr><tr><td>Rheinmetall AG</td><td>2014</td><td>0</td><td>0</td><td>0</td><td>0</td><td>0</td><td>63148</td></tr><tr><td>Rheinmetall AG</td><td>2015</td><td>0</td><td>0</td><td>0</td><td>0</td><td>0</td><td>55533</td></tr><tr><td>Rheinmetall AG</td><td>2016</td><td>0</td><td>0</td><td>0</td><td>0</td><td>0</td><td>60006</td></tr><tr><td>Rheinmetall AG</td><td>2017</td><td>0</td><td>0</td><td>0</td><td>1</td><td>1</td><td>70632</td></tr><tr><td>Rheinmetall AG</td><td>2018</td><td>0</td><td>0</td><td>2</td><td>1</td><td>3</td><td>70618</td></tr><tr><td>Rheinmetall AG</td><td>2019</td><td>0</td><td>0</td><td>0</td><td>5</td><td>5</td><td>80052</td></tr><tr><td>Rheinmetall AG</td><td>2020</td><td>0</td><td>0</td><td>0</td><td>3</td><td>3</td><td>89360</td></tr><tr><td>Rh�n-Klinikum AG</td><td>2012</td><td>0</td><td>0</td><td>0</td><td>0</td><td>0</td><td>70410</td></tr><tr><td>Rh�n-Klinikum AG</td><td>2013</td><td>0</td><td>0</td><td>0</td><td>0</td><td>0</td><td>65537</td></tr><tr><td>Rh�n-Klinikum AG</td><td>2014</td><td>0</td><td>0</td><td>0</td><td>0</td><td>0</td><td>63673</td></tr><tr><td>Rh�n-Klinikum AG</td><td>2015</td><td>0</td><td>0</td><td>0</td><td>0</td><td>0</td><td>59669</td></tr><tr><td>Rh�n-Klinikum AG</td><td>2016</td><td>1</td><td>0</td><td>0</td><td>0</td><td>0</td><td>66692</td></tr><tr><td>Rh�n-Klinikum AG</td><td>2017</td><td>5</td><td>0</td><td>0</td><td>3</td><td>3</td><td>61891</td></tr><tr><td>Rh�n-Klinikum AG</td><td>2018</td><td>1</td><td>0</td><td>0</td><td>2</td><td>2</td><td>71920</td></tr><tr><td>Rh�n-Klinikum AG</td><td>2019</td><td>1</td><td>0</td><td>0</td><td>2</td><td>2</td><td>61844</td></tr><tr><td>Rh�n-Klinikum AG</td><td>2020</td><td>0</td><td>0</td><td>0</td><td>2</td><td>2</td><td>62150</td></tr><tr><td>RTL Group</td><td>2012</td><td>4</td><td>0</td><td>0</td><td>0</td><td>0</td><td>62780</td></tr><tr><td>RTL Group</td><td>2013</td><td>2</td><td>0</td><td>6</td><td>2</td><td>8</td><td>129212</td></tr><tr><td>RTL Group</td><td>2014</td><td>2</td><td>1</td><td>1</td><td>2</td><td>3</td><td>66947</td></tr><tr><td>RTL Group</td><td>2015</td><td>4</td><td>0</td><td>1</td><td>0</td><td>1</td><td>74340</td></tr><tr><td>RTL Group</td><td>2016</td><td>1</td><td>0</td><td>0</td><td>0</td><td>0</td><td>87094</td></tr><tr><td>RTL Group</td><td>2017</td><td>1</td><td>0</td><td>0</td><td>0</td><td>0</td><td>87090</td></tr><tr><td>RTL Group</td><td>2018</td><td>2</td><td>0</td><td>4</td><td>0</td><td>4</td><td>173346</td></tr><tr><td>RTL Group</td><td>2019</td><td>2</td><td>0</td><td>4</td><td>0</td><td>4</td><td>82261</td></tr><tr><td>RTL Group</td><td>2020</td><td>0</td><td>0</td><td>3</td><td>0</td><td>3</td><td>79432</td></tr><tr><td>Salzgitter AG</td><td>2012</td><td>0</td><td>0</td><td>0</td><td>0</td><td>0</td><td>55049</td></tr><tr><td>Salzgitter AG</td><td>2013</td><td>0</td><td>0</td><td>0</td><td>0</td><td>0</td><td>55628</td></tr><tr><td>Salzgitter AG</td><td>2014</td><td>0</td><td>0</td><td>0</td><td>0</td><td>0</td><td>58556</td></tr><tr><td>Salzgitter AG</td><td>2015</td><td>0</td><td>0</td><td>0</td><td>0</td><td>0</td><td>55965</td></tr><tr><td>Salzgitter AG</td><td>2016</td><td>0</td><td>0</td><td>0</td><td>0</td><td>0</td><td>39279</td></tr><tr><td>Salzgitter AG</td><td>2017</td><td>0</td><td>0</td><td>0</td><td>0</td><td>0</td><td>45125</td></tr><tr><td>Salzgitter AG</td><td>2018</td><td>0</td><td>0</td><td>0</td><td>0</td><td>0</td><td>49015</td></tr><tr><td>Salzgitter AG</td><td>2019</td><td>0</td><td>0</td><td>0</td><td>0</td><td>0</td><td>51858</td></tr><tr><td>Salzgitter AG</td><td>2020</td><td>0</td><td>0</td><td>0</td><td>0</td><td>0</td><td>55211</td></tr><tr><td>Sartorius AG</td><td>2014</td><td>0</td><td>0</td><td>2</td><td>0</td><td>2</td><td>62361</td></tr><tr><td>Sartorius AG</td><td>2015</td><td>0</td><td>0</td><td>2</td><td>0</td><td>2</td><td>62914</td></tr><tr><td>Sartorius AG</td><td>2016</td><td>0</td><td>0</td><td>2</td><td>0</td><td>2</td><td>65054</td></tr><tr><td>Sartorius AG</td><td>2017</td><td>0</td><td>0</td><td>0</td><td>0</td><td>0</td><td>78153</td></tr><tr><td>Sartorius AG</td><td>2018</td><td>0</td><td>0</td><td>0</td><td>0</td><td>0</td><td>55803</td></tr><tr><td>Sartorius AG</td><td>2019</td><td>0</td><td>0</td><td>0</td><td>0</td><td>0</td><td>56711</td></tr><tr><td>Sartorius AG</td><td>2020</td><td>0</td><td>0</td><td>1</td><td>2</td><td>3</td><td>67930</td></tr><tr><td>Schaeffler AG</td><td>2012</td><td>0</td><td>0</td><td>0</td><td>0</td><td>0</td><td>50012</td></tr><tr><td>Schaeffler AG</td><td>2013</td><td>0</td><td>0</td><td>0</td><td>0</td><td>0</td><td>61532</td></tr><tr><td>Schaeffler AG</td><td>2014</td><td>0</td><td>0</td><td>0</td><td>0</td><td>0</td><td>59504</td></tr><tr><td>Schaeffler AG</td><td>2015</td><td>1</td><td>1</td><td>0</td><td>0</td><td>0</td><td>76950</td></tr><tr><td>Schaeffler AG</td><td>2016</td><td>2</td><td>0</td><td>0</td><td>0</td><td>0</td><td>82559</td></tr><tr><td>Schaeffler AG</td><td>2017</td><td>1</td><td>0</td><td>0</td><td>1</td><td>1</td><td>96684</td></tr><tr><td>Schaeffler AG</td><td>2018</td><td>0</td><td>0</td><td>3</td><td>1</td><td>4</td><td>101843</td></tr><tr><td>Schaeffler AG</td><td>2019</td><td>0</td><td>0</td><td>1</td><td>0</td><td>1</td><td>78572</td></tr><tr><td>Schaeffler AG</td><td>2020</td><td>1</td><td>0</td><td>0</td><td>3</td><td>3</td><td>85549</td></tr><tr><td>Scout24 AG</td><td>2014</td><td>0</td><td>0</td><td>0</td><td>0</td><td>0</td><td>18770</td></tr><tr><td>Scout24 AG</td><td>2015</td><td>0</td><td>0</td><td>0</td><td>0</td><td>0</td><td>51672</td></tr><tr><td>Scout24 AG</td><td>2016</td><td>0</td><td>0</td><td>0</td><td>0</td><td>0</td><td>50682</td></tr><tr><td>Scout24 AG</td><td>2017</td><td>0</td><td>0</td><td>1</td><td>0</td><td>1</td><td>58754</td></tr><tr><td>Scout24 AG</td><td>2018</td><td>0</td><td>0</td><td>1</td><td>2</td><td>3</td><td>67999</td></tr><tr><td>Scout24 AG</td><td>2019</td><td>0</td><td>0</td><td>0</td><td>0</td><td>0</td><td>67771</td></tr><tr><td>Scout24 AG</td><td>2020</td><td>0</td><td>0</td><td>1</td><td>0</td><td>1</td><td>62842</td></tr><tr><td>Shop Apotheke Europe N.V.</td><td>2016</td><td>0</td><td>0</td><td>0</td><td>0</td><td>0</td><td>44997</td></tr><tr><td>Shop Apotheke Europe N.V.</td><td>2017</td><td>0</td><td>0</td><td>0</td><td>0</td><td>0</td><td>50032</td></tr><tr><td>Shop Apotheke Europe N.V.</td><td>2018</td><td>1</td><td>0</td><td>0</td><td>0</td><td>0</td><td>55588</td></tr><tr><td>Shop Apotheke Europe N.V.</td><td>2019</td><td>1</td><td>0</td><td>0</td><td>0</td><td>0</td><td>50683</td></tr><tr><td>Shop Apotheke Europe N.V.</td><td>2020</td><td>0</td><td>0</td><td>0</td><td>0</td><td>0</td><td>55709</td></tr><tr><td>Siemens Energy AG</td><td>2020</td><td>0</td><td>0</td><td>0</td><td>0</td><td>0</td><td>77271</td></tr><tr><td>Siemens Healthineers AG</td><td>2017</td><td>0</td><td>0</td><td>0</td><td>0</td><td>0</td><td>20550</td></tr><tr><td>Siemens Healthineers AG</td><td>2018</td><td>0</td><td>0</td><td>1</td><td>3</td><td>4</td><td>54963</td></tr><tr><td>Siemens Healthineers AG</td><td>2019</td><td>0</td><td>0</td><td>1</td><td>5</td><td>6</td><td>54885</td></tr><tr><td>Siemens Healthineers AG</td><td>2020</td><td>1</td><td>0</td><td>2</td><td>2</td><td>4</td><td>60426</td></tr><tr><td>Siltronic AG</td><td>2015</td><td>0</td><td>0</td><td>0</td><td>0</td><td>0</td><td>49946</td></tr><tr><td>Siltronic AG</td><td>2016</td><td>0</td><td>0</td><td>0</td><td>0</td><td>0</td><td>48794</td></tr><tr><td>Siltronic AG</td><td>2017</td><td>0</td><td>0</td><td>1</td><td>2</td><td>3</td><td>57493</td></tr><tr><td>Siltronic AG</td><td>2018</td><td>0</td><td>0</td><td>0</td><td>2</td><td>2</td><td>59192</td></tr><tr><td>Siltronic AG</td><td>2019</td><td>0</td><td>0</td><td>0</td><td>0</td><td>0</td><td>58966</td></tr><tr><td>Siltronic AG</td><td>2020</td><td>0</td><td>0</td><td>0</td><td>3</td><td>3</td><td>67368</td></tr><tr><td>Software AG</td><td>2012</td><td>0</td><td>0</td><td>0</td><td>1</td><td>1</td><td>62840</td></tr><tr><td>Software AG</td><td>2013</td><td>0</td><td>0</td><td>0</td><td>0</td><td>0</td><td>8455</td></tr><tr><td>Software AG</td><td>2014</td><td>0</td><td>0</td><td>0</td><td>0</td><td>0</td><td>60489</td></tr><tr><td>Software AG</td><td>2015</td><td>4</td><td>0</td><td>1</td><td>0</td><td>1</td><td>62148</td></tr><tr><td>Software AG</td><td>2016</td><td>8</td><td>0</td><td>6</td><td>7</td><td>13</td><td>62540</td></tr><tr><td>Software AG</td><td>2017</td><td>12</td><td>0</td><td>3</td><td>8</td><td>11</td><td>82097</td></tr><tr><td>Software AG</td><td>2018</td><td>10</td><td>0</td><td>1</td><td>10</td><td>11</td><td>79616</td></tr><tr><td>Software AG</td><td>2019</td><td>6</td><td>0</td><td>1</td><td>6</td><td>7</td><td>84893</td></tr><tr><td>Software AG</td><td>2020</td><td>6</td><td>0</td><td>2</td><td>4</td><td>6</td><td>89624</td></tr><tr><td>STADA Arzneimittel AG</td><td>2012</td><td>0</td><td>0</td><td>0</td><td>0</td><td>0</td><td>69751</td></tr><tr><td>STADA Arzneimittel AG</td><td>2013</td><td>0</td><td>0</td><td>0</td><td>0</td><td>0</td><td>71095</td></tr><tr><td>STADA Arzneimittel AG</td><td>2014</td><td>0</td><td>0</td><td>0</td><td>0</td><td>0</td><td>71813</td></tr><tr><td>STADA Arzneimittel AG</td><td>2015</td><td>0</td><td>0</td><td>0</td><td>0</td><td>0</td><td>74719</td></tr><tr><td>STADA Arzneimittel AG</td><td>2016</td><td>0</td><td>0</td><td>0</td><td>0</td><td>0</td><td>67371</td></tr><tr><td>STADA Arzneimittel AG</td><td>2017</td><td>0</td><td>0</td><td>0</td><td>0</td><td>0</td><td>79831</td></tr><tr><td>STADA Arzneimittel AG</td><td>2018</td><td>0</td><td>0</td><td>0</td><td>0</td><td>0</td><td>69648</td></tr><tr><td>STADA Arzneimittel AG</td><td>2019</td><td>0</td><td>0</td><td>0</td><td>0</td><td>0</td><td>52333</td></tr><tr><td>STADA Arzneimittel AG</td><td>2020</td><td>0</td><td>0</td><td>0</td><td>0</td><td>0</td><td>59756</td></tr><tr><td>Steinhoff International Holdings N.V. </td><td>2016</td><td>0</td><td>0</td><td>0</td><td>0</td><td>0</td><td>66233</td></tr><tr><td>Steinhoff International Holdings N.V. </td><td>2017</td><td>0</td><td>0</td><td>0</td><td>0</td><td>0</td><td>136668</td></tr><tr><td>Steinhoff International Holdings N.V. </td><td>2018</td><td>1</td><td>0</td><td>0</td><td>0</td><td>0</td><td>131313</td></tr><tr><td>Steinhoff International Holdings N.V. </td><td>2019</td><td>0</td><td>0</td><td>0</td><td>0</td><td>0</td><td>128040</td></tr><tr><td>Steinhoff International Holdings N.V. </td><td>2020</td><td>0</td><td>0</td><td>0</td><td>0</td><td>0</td><td>133250</td></tr><tr><td>Str�er SE & Co. KGaA</td><td>2012</td><td>0</td><td>0</td><td>0</td><td>0</td><td>0</td><td>51788</td></tr><tr><td>Str�er SE & Co. KGaA</td><td>2013</td><td>0</td><td>0</td><td>0</td><td>0</td><td>0</td><td>49275</td></tr><tr><td>Str�er SE & Co. KGaA</td><td>2014</td><td>0</td><td>0</td><td>0</td><td>0</td><td>0</td><td>48941</td></tr><tr><td>Str�er SE & Co. KGaA</td><td>2015</td><td>0</td><td>0</td><td>0</td><td>0</td><td>0</td><td>50646</td></tr><tr><td>Str�er SE & Co. KGaA</td><td>2016</td><td>0</td><td>0</td><td>0</td><td>0</td><td>0</td><td>47466</td></tr><tr><td>Str�er SE & Co. KGaA</td><td>2017</td><td>0</td><td>0</td><td>0</td><td>0</td><td>0</td><td>52622</td></tr><tr><td>Str�er SE & Co. KGaA</td><td>2018</td><td>0</td><td>0</td><td>0</td><td>1</td><td>1</td><td>57445</td></tr><tr><td>Str�er SE & Co. KGaA</td><td>2019</td><td>0</td><td>0</td><td>0</td><td>0</td><td>0</td><td>52959</td></tr><tr><td>Str�er SE & Co. KGaA</td><td>2020</td><td>0</td><td>0</td><td>0</td><td>0</td><td>0</td><td>58675</td></tr><tr><td>Symrise AG</td><td>2012</td><td>0</td><td>0</td><td>0</td><td>0</td><td>0</td><td>51830</td></tr><tr><td>Symrise AG</td><td>2013</td><td>0</td><td>0</td><td>0</td><td>0</td><td>0</td><td>50662</td></tr><tr><td>Symrise AG</td><td>2014</td><td>0</td><td>0</td><td>0</td><td>0</td><td>0</td><td>52619</td></tr><tr><td>Symrise AG</td><td>2015</td><td>0</td><td>0</td><td>0</td><td>0</td><td>0</td><td>54831</td></tr><tr><td>Symrise AG</td><td>2016</td><td>0</td><td>0</td><td>0</td><td>0</td><td>0</td><td>59540</td></tr><tr><td>Symrise AG</td><td>2017</td><td>0</td><td>0</td><td>0</td><td>0</td><td>0</td><td>59825</td></tr><tr><td>Symrise AG</td><td>2018</td><td>0</td><td>0</td><td>1</td><td>2</td><td>3</td><td>65408</td></tr><tr><td>Symrise AG</td><td>2019</td><td>0</td><td>0</td><td>0</td><td>0</td><td>0</td><td>59703</td></tr><tr><td>Symrise AG</td><td>2020</td><td>0</td><td>0</td><td>0</td><td>1</td><td>1</td><td>65723</td></tr><tr><td>TAG Immobilien AG</td><td>2012</td><td>0</td><td>0</td><td>0</td><td>0</td><td>0</td><td>42200</td></tr><tr><td>TAG Immobilien AG</td><td>2013</td><td>0</td><td>0</td><td>0</td><td>0</td><td>0</td><td>42260</td></tr><tr><td>TAG Immobilien AG</td><td>2014</td><td>0</td><td>0</td><td>0</td><td>0</td><td>0</td><td>40964</td></tr><tr><td>TAG Immobilien AG</td><td>2015</td><td>0</td><td>0</td><td>0</td><td>0</td><td>0</td><td>40662</td></tr><tr><td>TAG Immobilien AG</td><td>2016</td><td>0</td><td>0</td><td>0</td><td>0</td><td>0</td><td>37543</td></tr><tr><td>TAG Immobilien AG</td><td>2017</td><td>0</td><td>0</td><td>0</td><td>0</td><td>0</td><td>38696</td></tr><tr><td>TAG Immobilien AG</td><td>2018</td><td>0</td><td>0</td><td>0</td><td>0</td><td>0</td><td>42563</td></tr><tr><td>TAG Immobilien AG</td><td>2019</td><td>0</td><td>0</td><td>0</td><td>0</td><td>0</td><td>43186</td></tr><tr><td>TAG Immobilien AG</td><td>2020</td><td>0</td><td>0</td><td>0</td><td>0</td><td>0</td><td>49334</td></tr><tr><td>Talanx AG</td><td>2012</td><td>0</td><td>0</td><td>0</td><td>0</td><td>0</td><td>46133</td></tr><tr><td>Talanx AG</td><td>2013</td><td>0</td><td>0</td><td>0</td><td>0</td><td>0</td><td>12824</td></tr><tr><td>Talanx AG</td><td>2014</td><td>0</td><td>0</td><td>0</td><td>0</td><td>0</td><td>12085</td></tr><tr><td>Talanx AG</td><td>2015</td><td>0</td><td>0</td><td>0</td><td>0</td><td>0</td><td>11166</td></tr><tr><td>Talanx AG</td><td>2016</td><td>0</td><td>0</td><td>0</td><td>0</td><td>0</td><td>11048</td></tr><tr><td>Talanx AG</td><td>2017</td><td>0</td><td>0</td><td>0</td><td>0</td><td>0</td><td>13968</td></tr><tr><td>Talanx AG</td><td>2018</td><td>0</td><td>0</td><td>0</td><td>0</td><td>0</td><td>14487</td></tr><tr><td>Talanx AG</td><td>2019</td><td>0</td><td>0</td><td>0</td><td>0</td><td>0</td><td>14937</td></tr><tr><td>Talanx AG</td><td>2020</td><td>0</td><td>0</td><td>0</td><td>0</td><td>0</td><td>16641</td></tr><tr><td>TeamViewer AG</td><td>2018</td><td>10</td><td>0</td><td>2</td><td>0</td><td>2</td><td>169758</td></tr><tr><td>TeamViewer AG</td><td>2019</td><td>11</td><td>0</td><td>0</td><td>0</td><td>0</td><td>52153</td></tr><tr><td>TeamViewer AG</td><td>2020</td><td>8</td><td>0</td><td>1</td><td>5</td><td>6</td><td>71671</td></tr><tr><td>Telef�nica Deutschland Holding AG</td><td>2012</td><td>1</td><td>0</td><td>0</td><td>1</td><td>1</td><td>69425</td></tr><tr><td>Telef�nica Deutschland Holding AG</td><td>2013</td><td>1</td><td>0</td><td>0</td><td>0</td><td>0</td><td>76281</td></tr><tr><td>Telef�nica Deutschland Holding AG</td><td>2014</td><td>1</td><td>0</td><td>3</td><td>1</td><td>4</td><td>93709</td></tr><tr><td>Telef�nica Deutschland Holding AG</td><td>2015</td><td>7</td><td>0</td><td>0</td><td>2</td><td>2</td><td>87261</td></tr><tr><td>Telef�nica Deutschland Holding AG</td><td>2016</td><td>8</td><td>0</td><td>17</td><td>10</td><td>27</td><td>89734</td></tr><tr><td>Telef�nica Deutschland Holding AG</td><td>2017</td><td>7</td><td>0</td><td>0</td><td>1</td><td>1</td><td>65203</td></tr><tr><td>Telef�nica Deutschland Holding AG</td><td>2018</td><td>10</td><td>0</td><td>0</td><td>5</td><td>5</td><td>68209</td></tr><tr><td>Telef�nica Deutschland Holding AG</td><td>2019</td><td>5</td><td>0</td><td>0</td><td>3</td><td>3</td><td>62509</td></tr><tr><td>Telef�nica Deutschland Holding AG</td><td>2020</td><td>4</td><td>0</td><td>0</td><td>2</td><td>2</td><td>69956</td></tr><tr><td>Thyssenkrupp AG</td><td>2012</td><td>0</td><td>0</td><td>0</td><td>1</td><td>1</td><td>84021</td></tr><tr><td>Thyssenkrupp AG</td><td>2013</td><td>0</td><td>0</td><td>0</td><td>0</td><td>0</td><td>2594</td></tr><tr><td>Thyssenkrupp AG</td><td>2014</td><td>0</td><td>0</td><td>1</td><td>0</td><td>1</td><td>88893</td></tr><tr><td>Thyssenkrupp AG</td><td>2015</td><td>1</td><td>0</td><td>0</td><td>0</td><td>0</td><td>86080</td></tr><tr><td>Thyssenkrupp AG</td><td>2016</td><td>0</td><td>0</td><td>0</td><td>0</td><td>0</td><td>80215</td></tr><tr><td>Thyssenkrupp AG</td><td>2017</td><td>1</td><td>0</td><td>0</td><td>0</td><td>0</td><td>79157</td></tr><tr><td>Thyssenkrupp AG</td><td>2018</td><td>3</td><td>0</td><td>0</td><td>1</td><td>1</td><td>82046</td></tr><tr><td>Thyssenkrupp AG</td><td>2019</td><td>4</td><td>0</td><td>0</td><td>2</td><td>2</td><td>80009</td></tr><tr><td>Thyssenkrupp AG</td><td>2020</td><td>3</td><td>0</td><td>0</td><td>1</td><td>1</td><td>85607</td></tr><tr><td>Uniper SE</td><td>2016</td><td>0</td><td>0</td><td>0</td><td>0</td><td>0</td><td>70295</td></tr><tr><td>Uniper SE</td><td>2017</td><td>0</td><td>0</td><td>0</td><td>0</td><td>0</td><td>80444</td></tr><tr><td>Uniper SE</td><td>2018</td><td>0</td><td>0</td><td>0</td><td>0</td><td>0</td><td>86739</td></tr><tr><td>Uniper SE</td><td>2019</td><td>0</td><td>0</td><td>0</td><td>0</td><td>0</td><td>90050</td></tr><tr><td>Uniper SE</td><td>2020</td><td>1</td><td>0</td><td>0</td><td>0</td><td>0</td><td>90112</td></tr><tr><td>United Internet AG</td><td>2012</td><td>0</td><td>0</td><td>0</td><td>0</td><td>0</td><td>59683</td></tr><tr><td>United Internet AG</td><td>2013</td><td>0</td><td>0</td><td>0</td><td>0</td><td>0</td><td>63143</td></tr><tr><td>United Internet AG</td><td>2014</td><td>0</td><td>0</td><td>0</td><td>0</td><td>0</td><td>65789</td></tr><tr><td>United Internet AG</td><td>2015</td><td>0</td><td>0</td><td>0</td><td>0</td><td>0</td><td>67662</td></tr><tr><td>United Internet AG</td><td>2016</td><td>0</td><td>0</td><td>0</td><td>0</td><td>0</td><td>68435</td></tr><tr><td>United Internet AG</td><td>2017</td><td>0</td><td>0</td><td>1</td><td>0</td><td>1</td><td>80085</td></tr><tr><td>United Internet AG</td><td>2018</td><td>0</td><td>0</td><td>0</td><td>0</td><td>0</td><td>69797</td></tr><tr><td>United Internet AG</td><td>2019</td><td>0</td><td>0</td><td>0</td><td>0</td><td>0</td><td>72775</td></tr><tr><td>United Internet AG</td><td>2020</td><td>0</td><td>0</td><td>0</td><td>0</td><td>0</td><td>75432</td></tr><tr><td>Varta AG</td><td>2017</td><td>0</td><td>0</td><td>0</td><td>0</td><td>0</td><td>12561</td></tr><tr><td>Varta AG</td><td>2018</td><td>0</td><td>0</td><td>0</td><td>0</td><td>0</td><td>39452</td></tr><tr><td>Varta AG</td><td>2019</td><td>0</td><td>0</td><td>0</td><td>0</td><td>0</td><td>41757</td></tr><tr><td>Varta AG</td><td>2020</td><td>0</td><td>0</td><td>0</td><td>0</td><td>0</td><td>48556</td></tr><tr><td>Wacker Chemie AG</td><td>2012</td><td>0</td><td>0</td><td>1</td><td>0</td><td>1</td><td>82331</td></tr><tr><td>Wacker Chemie AG</td><td>2013</td><td>0</td><td>0</td><td>1</td><td>0</td><td>1</td><td>90798</td></tr><tr><td>Wacker Chemie AG</td><td>2014</td><td>0</td><td>0</td><td>1</td><td>0</td><td>1</td><td>92002</td></tr><tr><td>Wacker Chemie AG</td><td>2015</td><td>0</td><td>0</td><td>1</td><td>0</td><td>1</td><td>90330</td></tr><tr><td>Wacker Chemie AG</td><td>2016</td><td>0</td><td>0</td><td>1</td><td>0</td><td>1</td><td>76908</td></tr><tr><td>Wacker Chemie AG</td><td>2017</td><td>1</td><td>0</td><td>1</td><td>0</td><td>1</td><td>85206</td></tr><tr><td>Wacker Chemie AG</td><td>2018</td><td>2</td><td>0</td><td>1</td><td>0</td><td>1</td><td>90357</td></tr><tr><td>Wacker Chemie AG</td><td>2019</td><td>0</td><td>0</td><td>1</td><td>0</td><td>1</td><td>82268</td></tr><tr><td>Wacker Chemie AG</td><td>2020</td><td>0</td><td>0</td><td>1</td><td>0</td><td>1</td><td>91195</td></tr><tr><td>Zalando SE</td><td>2014</td><td>0</td><td>0</td><td>0</td><td>1</td><td>1</td><td>58678</td></tr><tr><td>Zalando SE</td><td>2015</td><td>0</td><td>0</td><td>4</td><td>2</td><td>6</td><td>69204</td></tr><tr><td>Zalando SE</td><td>2016</td><td>0</td><td>0</td><td>0</td><td>0</td><td>0</td><td>60881</td></tr><tr><td>Zalando SE</td><td>2017</td><td>0</td><td>0</td><td>0</td><td>3</td><td>3</td><td>71594</td></tr><tr><td>Zalando SE</td><td>2018</td><td>0</td><td>0</td><td>0</td><td>1</td><td>1</td><td>66035</td></tr><tr><td>Zalando SE</td><td>2019</td><td>0</td><td>0</td><td>0</td><td>4</td><td>4</td><td>65960</td></tr><tr><td>Zalando SE</td><td>2020</td><td>0</td><td>0</td><td>0</td><td>1</td><td>1</td><td>62419</td></tr>\n",
       "                </tbody>\n",
       "            </table>    \n",
       "            "
      ],
      "text/plain": [
       "<IPython.core.display.HTML object>"
      ]
     },
     "execution_count": 11,
     "metadata": {},
     "output_type": "execute_result"
    }
   ],
   "source": [
    "occurences = count_occurences(mdax_annuals_information, digital_keywords, cdo_keywords, ai_keywords_en, ai_keywords_de, ai_keywords)\n",
    "\n",
    "render_table(\n",
    "    occurences,\n",
    "    'Company',\n",
    "    'Year',\n",
    "    'Occurences Digital',\n",
    "    'Occurences CDO',\n",
    "    'Occurences AI (en)',\n",
    "    'Occurences AI (de)',\n",
    "    'Occurences AI (combined)',\n",
    "    'Words Total'\n",
    ")"
   ]
  },
  {
   "cell_type": "markdown",
   "id": "d97bf461",
   "metadata": {},
   "source": [
    "### Occurences of keywords related to AI in DAX-Sustainability Reporting"
   ]
  },
  {
   "cell_type": "code",
   "execution_count": 12,
   "id": "7464ac3c",
   "metadata": {
    "scrolled": true
   },
   "outputs": [
    {
     "name": "stderr",
     "output_type": "stream",
     "text": [
      "mupdf: invalid page object\n",
      "mupdf: invalid page object\n",
      "mupdf: invalid page object\n",
      "mupdf: invalid page object\n",
      "mupdf: invalid page object\n",
      "mupdf: invalid page object\n",
      "mupdf: invalid page object\n",
      "mupdf: invalid page object\n",
      "mupdf: invalid page object\n",
      "mupdf: invalid page object\n",
      "mupdf: invalid page object\n",
      "mupdf: invalid page object\n",
      "mupdf: invalid page object\n",
      "mupdf: invalid page object\n",
      "mupdf: invalid page object\n",
      "mupdf: invalid page object\n",
      "mupdf: invalid page object\n",
      "mupdf: invalid page object\n",
      "mupdf: invalid page object\n",
      "mupdf: invalid page object\n",
      "mupdf: invalid page object\n",
      "mupdf: invalid page object\n",
      "mupdf: invalid page object\n",
      "mupdf: invalid page object\n",
      "mupdf: invalid page object\n",
      "mupdf: invalid page object\n",
      "mupdf: invalid page object\n",
      "mupdf: invalid page object\n",
      "mupdf: invalid page object\n"
     ]
    },
    {
     "data": {
      "text/html": [
       "\n",
       "            <table>\n",
       "                <thead>\n",
       "                    <thead><th>Company</th><th>Year</th><th>Occurences AI (en)</th><th>Occurences AI (de)</th><th>Occurences AI (combined)</th><th>Words Total</th></thead>\n",
       "                </thead>\n",
       "                <tbody>\n",
       "                    <tr><td>Adidas</td><td>2017</td><td>0</td><td>2</td><td>2</td><td>116549</td></tr><tr><td>Adidas</td><td>2018</td><td>0</td><td>1</td><td>1</td><td>118445</td></tr><tr><td>Adidas</td><td>2019</td><td>0</td><td>0</td><td>0</td><td>111680</td></tr><tr><td>Adidas</td><td>2020</td><td>0</td><td>0</td><td>0</td><td>106409</td></tr><tr><td>Allianz</td><td>2017</td><td>2</td><td>0</td><td>2</td><td>35405</td></tr><tr><td>Allianz</td><td>2018</td><td>0</td><td>0</td><td>0</td><td>47148</td></tr><tr><td>Allianz</td><td>2019</td><td>1</td><td>0</td><td>1</td><td>50474</td></tr><tr><td>BASF</td><td>2017</td><td>0</td><td>0</td><td>0</td><td>104535</td></tr><tr><td>BASF</td><td>2018</td><td>0</td><td>1</td><td>1</td><td>126505</td></tr><tr><td>BASF</td><td>2019</td><td>0</td><td>0</td><td>0</td><td>129261</td></tr><tr><td>BASF</td><td>2020</td><td>0</td><td>2</td><td>2</td><td>145269</td></tr><tr><td>Bayer</td><td>2017</td><td>0</td><td>1</td><td>1</td><td>118300</td></tr><tr><td>Bayer</td><td>2018</td><td>1</td><td>2</td><td>3</td><td>103275</td></tr><tr><td>Bayer</td><td>2019</td><td>0</td><td>1</td><td>1</td><td>35298</td></tr><tr><td>Bayer</td><td>2020</td><td>0</td><td>2</td><td>2</td><td>49650</td></tr><tr><td>Beiersdorf</td><td>2017</td><td>0</td><td>0</td><td>0</td><td>38988</td></tr><tr><td>Beiersdorf</td><td>2018</td><td>0</td><td>0</td><td>0</td><td>43986</td></tr><tr><td>Beiersdorf</td><td>2019</td><td>0</td><td>0</td><td>0</td><td>49693</td></tr><tr><td>BMW</td><td>2017</td><td>0</td><td>3</td><td>3</td><td>58447</td></tr><tr><td>BMW</td><td>2018</td><td>0</td><td>1</td><td>1</td><td>34265</td></tr><tr><td>BMW</td><td>2019</td><td>0</td><td>2</td><td>2</td><td>42588</td></tr><tr><td>Continental</td><td>2017</td><td>0</td><td>0</td><td>0</td><td>17396</td></tr><tr><td>Continental</td><td>2018</td><td>0</td><td>3</td><td>3</td><td>24497</td></tr><tr><td>Continental</td><td>2019</td><td>0</td><td>1</td><td>1</td><td>34375</td></tr><tr><td>Covestro</td><td>2017</td><td>0</td><td>0</td><td>0</td><td>20673</td></tr><tr><td>Covestro</td><td>2018</td><td>0</td><td>0</td><td>0</td><td>18201</td></tr><tr><td>Daimler</td><td>2017</td><td>3</td><td>8</td><td>11</td><td>34159</td></tr><tr><td>Daimler</td><td>2018</td><td>0</td><td>2</td><td>2</td><td>44369</td></tr><tr><td>Daimler</td><td>2019</td><td>5</td><td>7</td><td>12</td><td>82025</td></tr><tr><td>Delivery Hero</td><td>2017</td><td>0</td><td>0</td><td>0</td><td>5520</td></tr><tr><td>Delivery Hero</td><td>2018</td><td>0</td><td>0</td><td>0</td><td>3847</td></tr><tr><td>Delivery Hero</td><td>2019</td><td>0</td><td>0</td><td>0</td><td>5437</td></tr><tr><td>Deutsche Bank</td><td>2017</td><td>0</td><td>1</td><td>1</td><td>41233</td></tr><tr><td>Deutsche Bank</td><td>2018</td><td>0</td><td>1</td><td>1</td><td>37284</td></tr><tr><td>Deutsche Bank</td><td>2019</td><td>0</td><td>2</td><td>2</td><td>46655</td></tr><tr><td>Deutsche Post</td><td>2017</td><td>1</td><td>0</td><td>1</td><td>67724</td></tr><tr><td>Deutsche Post</td><td>2018</td><td>1</td><td>2</td><td>3</td><td>34346</td></tr><tr><td>Deutsche Post</td><td>2019</td><td>0</td><td>0</td><td>0</td><td>4445</td></tr><tr><td>Deutsche Telekom</td><td>2017</td><td>0</td><td>5</td><td>5</td><td>92217</td></tr><tr><td>Deutsche Telekom</td><td>2018</td><td>0</td><td>14</td><td>14</td><td>102098</td></tr><tr><td>Deutsche Wohnen</td><td>2017</td><td>0</td><td>0</td><td>0</td><td>26866</td></tr><tr><td>Deutsche Wohnen</td><td>2018</td><td>0</td><td>0</td><td>0</td><td>36247</td></tr><tr><td>Deutsche Wohnen</td><td>2019</td><td>0</td><td>1</td><td>1</td><td>44791</td></tr><tr><td>E.ON</td><td>2017</td><td>0</td><td>0</td><td>0</td><td>42454</td></tr><tr><td>E.ON</td><td>2018</td><td>7</td><td>0</td><td>7</td><td>44368</td></tr><tr><td>E.ON</td><td>2019</td><td>3</td><td>0</td><td>3</td><td>48023</td></tr><tr><td>Heidelberg Cement</td><td>2017</td><td>0</td><td>0</td><td>0</td><td>19814</td></tr><tr><td>Heidelberg Cement</td><td>2018</td><td>0</td><td>0</td><td>0</td><td>23906</td></tr><tr><td>Heidelberg Cement</td><td>2019</td><td>0</td><td>0</td><td>0</td><td>25872</td></tr><tr><td>Henkel vz</td><td>2017</td><td>0</td><td>0</td><td>0</td><td>48981</td></tr><tr><td>Henkel vz</td><td>2018</td><td>0</td><td>0</td><td>0</td><td>49435</td></tr><tr><td>Henkel vz</td><td>2019</td><td>0</td><td>0</td><td>0</td><td>62291</td></tr><tr><td>Henkel vz</td><td>2020</td><td>0</td><td>1</td><td>1</td><td>75445</td></tr><tr><td>Infineon</td><td>2017</td><td>0</td><td>0</td><td>0</td><td>16192</td></tr><tr><td>Infineon</td><td>2018</td><td>0</td><td>0</td><td>0</td><td>17893</td></tr><tr><td>Infineon</td><td>2019</td><td>0</td><td>0</td><td>0</td><td>18408</td></tr><tr><td>Infineon</td><td>2020</td><td>0</td><td>0</td><td>0</td><td>22377</td></tr><tr><td>Linde</td><td>2017</td><td>0</td><td>0</td><td>0</td><td>17716</td></tr><tr><td>Linde</td><td>2018</td><td>0</td><td>0</td><td>0</td><td>44627</td></tr><tr><td>Linde</td><td>2019</td><td>0</td><td>0</td><td>0</td><td>46837</td></tr><tr><td>Merck </td><td>2018</td><td>0</td><td>5</td><td>5</td><td>88721</td></tr><tr><td>Merck </td><td>2019</td><td>1</td><td>2</td><td>3</td><td>90571</td></tr><tr><td>MTU Aero Engines</td><td>2017</td><td>0</td><td>0</td><td>0</td><td>27912</td></tr><tr><td>MTU Aero Engines</td><td>2018</td><td>0</td><td>0</td><td>0</td><td>25853</td></tr><tr><td>MTU Aero Engines</td><td>2019</td><td>0</td><td>0</td><td>0</td><td>3500</td></tr><tr><td>Muenchener Rueck</td><td>2017,2018</td><td>0</td><td>0</td><td>0</td><td>50980</td></tr><tr><td>Muenchener Rueck</td><td>2018</td><td>2</td><td>4</td><td>6</td><td>27661</td></tr><tr><td>Muenchener Rueck</td><td>2019</td><td>12</td><td>0</td><td>12</td><td>37042</td></tr><tr><td>RWE</td><td>2017</td><td>0</td><td>0</td><td>0</td><td>33572</td></tr><tr><td>RWE</td><td>2018</td><td>0</td><td>0</td><td>0</td><td>40225</td></tr><tr><td>RWE</td><td>2019</td><td>0</td><td>0</td><td>0</td><td>30242</td></tr><tr><td>SAP</td><td>2017</td><td>13</td><td>39</td><td>52</td><td>128840</td></tr><tr><td>SAP</td><td>2018</td><td>13</td><td>29</td><td>42</td><td>151031</td></tr><tr><td>SAP</td><td>2019</td><td>8</td><td>22</td><td>30</td><td>145559</td></tr><tr><td>Siemens</td><td>2017</td><td>0</td><td>2</td><td>2</td><td>27540</td></tr><tr><td>Siemens</td><td>2018</td><td>0</td><td>0</td><td>0</td><td>27981</td></tr><tr><td>Siemens</td><td>2019</td><td>0</td><td>0</td><td>0</td><td>30978</td></tr><tr><td>Siemens</td><td>2020</td><td>0</td><td>1</td><td>1</td><td>31337</td></tr><tr><td>Volkswagen Vz</td><td>2017</td><td>0</td><td>2</td><td>2</td><td>39227</td></tr><tr><td>Volkswagen Vz</td><td>2018</td><td>0</td><td>1</td><td>1</td><td>39790</td></tr><tr><td>Volkswagen Vz</td><td>2019</td><td>1</td><td>4</td><td>5</td><td>45069</td></tr><tr><td>Volkswagen Vz</td><td>2020</td><td>1</td><td>5</td><td>6</td><td>49475</td></tr><tr><td>Vonovia</td><td>2017</td><td>0</td><td>0</td><td>0</td><td>35380</td></tr><tr><td>Vonovia</td><td>2018</td><td>0</td><td>0</td><td>0</td><td>40081</td></tr><tr><td>Vonovia</td><td>2019</td><td>0</td><td>0</td><td>0</td><td>41818</td></tr>\n",
       "                </tbody>\n",
       "            </table>    \n",
       "            "
      ],
      "text/plain": [
       "<IPython.core.display.HTML object>"
      ]
     },
     "execution_count": 12,
     "metadata": {},
     "output_type": "execute_result"
    }
   ],
   "source": [
    "occurences = count_occurences(dax_sustainability_information, ai_keywords_en, ai_keywords_de, ai_keywords)\n",
    "\n",
    "render_table(\n",
    "    occurences,\n",
    "    'Company',\n",
    "    'Year',\n",
    "    'Occurences AI (en)',\n",
    "    'Occurences AI (de)',\n",
    "    'Occurences AI (combined)',\n",
    "    'Words Total'\n",
    ")"
   ]
  },
  {
   "cell_type": "markdown",
   "id": "34e2d0dd",
   "metadata": {},
   "source": [
    "### Occurences of keywords related to AI in MDAX-Sustainability Reporting"
   ]
  },
  {
   "cell_type": "code",
   "execution_count": 13,
   "id": "ff6a0ae6",
   "metadata": {},
   "outputs": [
    {
     "name": "stderr",
     "output_type": "stream",
     "text": [
      "mupdf: invalid page object\n",
      "mupdf: invalid page object\n",
      "mupdf: invalid page object\n",
      "mupdf: invalid page object\n",
      "mupdf: invalid page object\n",
      "mupdf: invalid page object\n",
      "mupdf: invalid page object\n",
      "mupdf: invalid page object\n",
      "mupdf: invalid page object\n",
      "mupdf: invalid page object\n",
      "mupdf: invalid page object\n",
      "mupdf: invalid page object\n",
      "mupdf: invalid page object\n",
      "mupdf: invalid page object\n",
      "mupdf: invalid page object\n",
      "mupdf: invalid page object\n",
      "mupdf: invalid page object\n",
      "mupdf: invalid page object\n",
      "mupdf: invalid page object\n",
      "mupdf: invalid page object\n",
      "mupdf: invalid page object\n",
      "mupdf: invalid page object\n",
      "mupdf: invalid page object\n",
      "mupdf: invalid page object\n",
      "mupdf: invalid page object\n",
      "mupdf: invalid page object\n",
      "mupdf: invalid page object\n",
      "mupdf: invalid page object\n",
      "mupdf: invalid page object\n",
      "mupdf: invalid page object\n",
      "mupdf: invalid page object\n",
      "mupdf: invalid page object\n",
      "mupdf: invalid page object\n",
      "mupdf: invalid page object\n",
      "mupdf: invalid page object\n",
      "mupdf: invalid page object\n",
      "mupdf: invalid page object\n",
      "mupdf: invalid page object\n",
      "mupdf: invalid page object\n",
      "mupdf: invalid page object\n",
      "mupdf: invalid page object\n",
      "mupdf: invalid page object\n",
      "mupdf: invalid page object\n",
      "mupdf: invalid page object\n",
      "mupdf: invalid page object\n",
      "mupdf: invalid page object\n",
      "mupdf: invalid page object\n",
      "mupdf: invalid page object\n",
      "mupdf: invalid page object\n",
      "mupdf: invalid page object\n",
      "mupdf: invalid page object\n",
      "mupdf: invalid page object\n",
      "mupdf: invalid page object\n",
      "mupdf: invalid page object\n",
      "mupdf: invalid page object\n",
      "mupdf: invalid page object\n",
      "mupdf: invalid page object\n"
     ]
    },
    {
     "data": {
      "text/html": [
       "\n",
       "            <table>\n",
       "                <thead>\n",
       "                    <thead><th>Company</th><th>Year</th><th>Occurences AI (en)</th><th>Occurences AI (de)</th><th>Occurences AI (combined)</th><th>Words Total</th></thead>\n",
       "                </thead>\n",
       "                <tbody>\n",
       "                    <tr><td>AarealBank</td><td>2017</td><td>0</td><td>0</td><td>0</td><td>5829</td></tr><tr><td>AarealBank</td><td>2018</td><td>0</td><td>0</td><td>0</td><td>6653</td></tr><tr><td>AarealBank</td><td>2019</td><td>0</td><td>0</td><td>0</td><td>8227</td></tr><tr><td>Aixtron</td><td>2018</td><td>0</td><td>0</td><td>0</td><td>12487</td></tr><tr><td>Aixtron</td><td>2019</td><td>0</td><td>0</td><td>0</td><td>14743</td></tr><tr><td>Aixtron</td><td>2020</td><td>0</td><td>0</td><td>0</td><td>22102</td></tr><tr><td>Alstria</td><td>2017-2018</td><td>0</td><td>0</td><td>0</td><td>22584</td></tr><tr><td>Alstria</td><td>2018-2019</td><td>4</td><td>0</td><td>4</td><td>23249</td></tr><tr><td>Alstria</td><td>2019-2020</td><td>0</td><td>0</td><td>0</td><td>26972</td></tr><tr><td>AroundTown</td><td>2019</td><td>0</td><td>0</td><td>0</td><td>23129</td></tr><tr><td>Aurubis</td><td>2017-2018</td><td>0</td><td>0</td><td>0</td><td>24341</td></tr><tr><td>Aurubis</td><td>2018-2019</td><td>0</td><td>0</td><td>0</td><td>9027</td></tr><tr><td>Aurubis</td><td>2019-2020</td><td>0</td><td>0</td><td>0</td><td>11235</td></tr><tr><td>AxelSpringer</td><td>2017</td><td>0</td><td>1</td><td>1</td><td>75926</td></tr><tr><td>Bechtle AG</td><td>2017</td><td>0</td><td>2</td><td>2</td><td>20390</td></tr><tr><td>Bechtle AG</td><td>2018</td><td>1</td><td>0</td><td>1</td><td>17126</td></tr><tr><td>Bechtle AG</td><td>2019</td><td>0</td><td>0</td><td>0</td><td>22278</td></tr><tr><td>Bechtle AG</td><td>2020</td><td>0</td><td>2</td><td>2</td><td>27898</td></tr><tr><td>Bilfinger</td><td>2018</td><td>0</td><td>0</td><td>0</td><td>13654</td></tr><tr><td>Bilfinger</td><td>2019</td><td>0</td><td>0</td><td>0</td><td>6285</td></tr><tr><td>Bilfinger</td><td>2020</td><td>0</td><td>0</td><td>0</td><td>11519</td></tr><tr><td>Brenntag</td><td>2019</td><td>0</td><td>0</td><td>0</td><td>22360</td></tr><tr><td>Cancom SE</td><td>2018</td><td>0</td><td>0</td><td>0</td><td>4398</td></tr><tr><td>Cancom SE</td><td>2019</td><td>0</td><td>0</td><td>0</td><td>4484</td></tr><tr><td>Carl Zeiss Meditec AG</td><td>2017,2018</td><td>0</td><td>1</td><td>1</td><td>18476</td></tr><tr><td>Carl Zeiss Meditec AG</td><td>2018,2019</td><td>0</td><td>2</td><td>2</td><td>22033</td></tr><tr><td>Carl Zeiss Meditec AG</td><td>2019,2020</td><td>3</td><td>2</td><td>5</td><td>24744</td></tr><tr><td>Commerzbank</td><td>2017</td><td>0</td><td>0</td><td>0</td><td>6678</td></tr><tr><td>Commerzbank</td><td>2018</td><td>0</td><td>0</td><td>0</td><td>9579</td></tr><tr><td>Commerzbank</td><td>2019</td><td>0</td><td>0</td><td>0</td><td>11486</td></tr><tr><td>DeutschePfandbriefbank</td><td>2017</td><td>0</td><td>0</td><td>0</td><td>10852</td></tr><tr><td>DeutschePfandbriefbank</td><td>2018</td><td>0</td><td>0</td><td>0</td><td>12531</td></tr><tr><td>DeutschePfandbriefbank</td><td>2019</td><td>0</td><td>0</td><td>0</td><td>12946</td></tr><tr><td>DeutscheWohnen</td><td>2017</td><td>0</td><td>0</td><td>0</td><td>26866</td></tr><tr><td>DeutscheWohnen</td><td>2018</td><td>0</td><td>0</td><td>0</td><td>36247</td></tr><tr><td>DeutscheWohnen</td><td>2019</td><td>0</td><td>1</td><td>1</td><td>44791</td></tr><tr><td>DMGMori</td><td>2018</td><td>0</td><td>0</td><td>0</td><td>12014</td></tr><tr><td>DMGMori</td><td>2019</td><td>0</td><td>0</td><td>0</td><td>11983</td></tr><tr><td>DMGMori</td><td>2020</td><td>0</td><td>0</td><td>0</td><td>15710</td></tr><tr><td>DürrV</td><td>2018</td><td>0</td><td>0</td><td>0</td><td>6575</td></tr><tr><td>Dürr</td><td>2017</td><td>0</td><td>0</td><td>0</td><td>4726</td></tr><tr><td>Dürr</td><td>2019</td><td>0</td><td>1</td><td>1</td><td>5915</td></tr><tr><td>Eventim</td><td>2017</td><td>0</td><td>0</td><td>0</td><td>7770</td></tr><tr><td>Eventim</td><td>2018</td><td>0</td><td>0</td><td>0</td><td>10344</td></tr><tr><td>Eventim</td><td>2019</td><td>0</td><td>0</td><td>0</td><td>11134</td></tr><tr><td>Evonik</td><td>2018</td><td>0</td><td>0</td><td>0</td><td>42963</td></tr><tr><td>Evonik</td><td>2019</td><td>0</td><td>0</td><td>0</td><td>42246</td></tr><tr><td>Evonik</td><td>2020</td><td>0</td><td>0</td><td>0</td><td>54137</td></tr><tr><td>Evotec</td><td>2017</td><td>0</td><td>0</td><td>0</td><td>3937</td></tr><tr><td>Evotec</td><td>2018</td><td>1</td><td>0</td><td>1</td><td>5270</td></tr><tr><td>Evotec</td><td>2019</td><td>1</td><td>0</td><td>1</td><td>8137</td></tr><tr><td>Fielmann</td><td>2017</td><td>0</td><td>0</td><td>0</td><td>12431</td></tr><tr><td>Fielmann</td><td>2018</td><td>0</td><td>0</td><td>0</td><td>14417</td></tr><tr><td>Fielmann</td><td>2019</td><td>0</td><td>0</td><td>0</td><td>15032</td></tr><tr><td>Fraport</td><td>2018</td><td>0</td><td>0</td><td>0</td><td>30989</td></tr><tr><td>Fraport</td><td>2019</td><td>0</td><td>0</td><td>0</td><td>27870</td></tr><tr><td>FuchsPetrolub</td><td>2017,</td><td>0</td><td>0</td><td>0</td><td>3110</td></tr><tr><td>FuchsPetrolub</td><td>2018</td><td>0</td><td>0</td><td>0</td><td>4873</td></tr><tr><td>FuchsPetrolub</td><td>2019</td><td>0</td><td>0</td><td>0</td><td>5466</td></tr><tr><td>GEA</td><td>2018</td><td>0</td><td>0</td><td>0</td><td>11540</td></tr><tr><td>GEA</td><td>2019</td><td>0</td><td>0</td><td>0</td><td>17902</td></tr><tr><td>GEA</td><td>2020</td><td>0</td><td>0</td><td>0</td><td>30762</td></tr><tr><td>GrandCityProperties</td><td>2017</td><td>0</td><td>0</td><td>0</td><td>21065</td></tr><tr><td>GrandCityProperties</td><td>2018</td><td>0</td><td>0</td><td>0</td><td>23944</td></tr><tr><td>GrandCityProperties</td><td>2019</td><td>0</td><td>0</td><td>0</td><td>23405</td></tr><tr><td>HannoverRück</td><td>2019</td><td>0</td><td>0</td><td>0</td><td>32665</td></tr><tr><td>HelloFresh</td><td>2019</td><td>0</td><td>0</td><td>0</td><td>9753</td></tr><tr><td>HelloFresh</td><td>2020</td><td>0</td><td>0</td><td>0</td><td>14888</td></tr><tr><td>HOCHTIEF</td><td>2017</td><td>0</td><td>0</td><td>0</td><td>91973</td></tr><tr><td>HOCHTIEF</td><td>2018</td><td>2</td><td>3</td><td>5</td><td>88895</td></tr><tr><td>HOCHTIEF</td><td>2019</td><td>1</td><td>2</td><td>3</td><td>91469</td></tr><tr><td>HugoBoss</td><td>2017</td><td>0</td><td>0</td><td>0</td><td>28284</td></tr><tr><td>HugoBoss</td><td>2018</td><td>0</td><td>0</td><td>0</td><td>18893</td></tr><tr><td>HugoBoss</td><td>2019</td><td>0</td><td>0</td><td>0</td><td>28418</td></tr><tr><td>Jungheinrich</td><td>2017</td><td>0</td><td>0</td><td>0</td><td>691</td></tr><tr><td>Jungheinrich</td><td>2018</td><td>0</td><td>0</td><td>0</td><td>10053</td></tr><tr><td>Jungheinrich</td><td>2019</td><td>0</td><td>0</td><td>0</td><td>6710</td></tr><tr><td>K+S</td><td>2017</td><td>0</td><td>0</td><td>0</td><td>77250</td></tr><tr><td>K+S</td><td>2018</td><td>0</td><td>0</td><td>0</td><td>82507</td></tr><tr><td>K+S</td><td>2019</td><td>0</td><td>1</td><td>1</td><td>86496</td></tr><tr><td>Kion</td><td>2017</td><td>0</td><td>0</td><td>0</td><td>30291</td></tr><tr><td>Kion</td><td>2018</td><td>0</td><td>1</td><td>1</td><td>26799</td></tr><tr><td>Kion</td><td>2019</td><td>0</td><td>0</td><td>0</td><td>17304</td></tr><tr><td>Knorr-Bremse</td><td>2019</td><td>3</td><td>0</td><td>3</td><td>32769</td></tr><tr><td>KRONES</td><td>2017</td><td>0</td><td>0</td><td>0</td><td>21002</td></tr><tr><td>LANXESS.pdf</td><td></td><td>0</td><td>2</td><td>2</td><td>18674</td></tr><tr><td>LEG Immobilien</td><td>2017</td><td>0</td><td>0</td><td>0</td><td>20429</td></tr><tr><td>LEG Immobilien</td><td>2018</td><td>0</td><td>0</td><td>0</td><td>22532</td></tr><tr><td>LEG Immobilien</td><td>2019</td><td>0</td><td>0</td><td>0</td><td>31977</td></tr><tr><td>LEG Immobilien</td><td>2020</td><td>0</td><td>0</td><td>0</td><td>10977</td></tr><tr><td>LEONI</td><td>2017</td><td>0</td><td>0</td><td>0</td><td>7596</td></tr><tr><td>LEONI</td><td>2018</td><td>0</td><td>1</td><td>1</td><td>6980</td></tr><tr><td>LEONI</td><td>2019</td><td>0</td><td>0</td><td>0</td><td>7372</td></tr><tr><td>Lufthansa</td><td>2017</td><td>6</td><td>0</td><td>6</td><td>41354</td></tr><tr><td>Lufthansa</td><td>2018</td><td>0</td><td>0</td><td>0</td><td>37348</td></tr><tr><td>Lufthansa</td><td>2019</td><td>0</td><td>0</td><td>0</td><td>44222</td></tr><tr><td>METRO</td><td>2017-2018</td><td>0</td><td>0</td><td>0</td><td>41294</td></tr><tr><td>METRO</td><td>2018-2019</td><td>2</td><td>0</td><td>2</td><td>14044</td></tr><tr><td>MTU Aero Engines</td><td>2017</td><td>0</td><td>0</td><td>0</td><td>27912</td></tr><tr><td>MTU Aero Engines</td><td>2018</td><td>0</td><td>0</td><td>0</td><td>25853</td></tr><tr><td>MTU Aero Engines</td><td>2019</td><td>0</td><td>0</td><td>0</td><td>30677</td></tr><tr><td>Nemetschek</td><td>2018</td><td>0</td><td>0</td><td>0</td><td>3720</td></tr><tr><td>Nemetschek</td><td>2019</td><td>0</td><td>1</td><td>1</td><td>8545</td></tr><tr><td>NORMA Group</td><td>2017</td><td>0</td><td>0</td><td>0</td><td>24316</td></tr><tr><td>NORMA Group</td><td>2018</td><td>0</td><td>0</td><td>0</td><td>27449</td></tr><tr><td>NORMA Group</td><td>2019</td><td>0</td><td>0</td><td>0</td><td>25842</td></tr><tr><td>OSRAM</td><td>2017</td><td>0</td><td>0</td><td>0</td><td>17264</td></tr><tr><td>OSRAM</td><td>2018</td><td>0</td><td>1</td><td>1</td><td>23944</td></tr><tr><td>OSRAM</td><td>2019</td><td>0</td><td>0</td><td>0</td><td>25501</td></tr><tr><td>OSRAM</td><td>2020</td><td>0</td><td>0</td><td>0</td><td>33479</td></tr><tr><td>ProSieben SatEins Media</td><td>2017</td><td>1</td><td>0</td><td>1</td><td>20955</td></tr><tr><td>ProSieben SatEins Media</td><td>2018</td><td>2</td><td>0</td><td>2</td><td>17550</td></tr><tr><td>ProSieben SatEins Media</td><td>2019</td><td>1</td><td>0</td><td>1</td><td>22053</td></tr><tr><td>RATIONAL</td><td>2017</td><td>0</td><td>0</td><td>0</td><td>14865</td></tr><tr><td>RATIONAL</td><td>2018</td><td>0</td><td>0</td><td>0</td><td>13857</td></tr><tr><td>RATIONAL</td><td>2019</td><td>0</td><td>0</td><td>0</td><td>15679</td></tr><tr><td>Rheinmetall</td><td>2017</td><td>0</td><td>0</td><td>0</td><td>46776</td></tr><tr><td>Sartorius vz</td><td>2017</td><td>0</td><td>0</td><td>0</td><td>64302</td></tr><tr><td>Sartorius vz</td><td>2018</td><td>0</td><td>0</td><td>0</td><td>56121</td></tr><tr><td>Sartorius vz</td><td>2019</td><td>0</td><td>0</td><td>0</td><td>56710</td></tr><tr><td>Sartorius vz</td><td>2020</td><td>1</td><td>2</td><td>3</td><td>67930</td></tr><tr><td>Schäffler</td><td>2017</td><td>0</td><td>0</td><td>0</td><td>25676</td></tr><tr><td>Schäffler</td><td>2018</td><td>0</td><td>0</td><td>0</td><td>24187</td></tr><tr><td>Schäffler</td><td>2019</td><td>0</td><td>0</td><td>0</td><td>20650</td></tr><tr><td>Schäffler</td><td>2020</td><td>0</td><td>1</td><td>1</td><td>22557</td></tr><tr><td>Scout24</td><td>2017</td><td>0</td><td>0</td><td>0</td><td>13791</td></tr><tr><td>Scout24</td><td>2018</td><td>1</td><td>0</td><td>1</td><td>16526</td></tr><tr><td>Scout24</td><td>2019</td><td>0</td><td>0</td><td>0</td><td>15735</td></tr><tr><td>Siemens Energy</td><td>2020</td><td>0</td><td>1</td><td>1</td><td>31337</td></tr><tr><td>Siltronic</td><td>2018</td><td>0</td><td>0</td><td>0</td><td>8560</td></tr><tr><td>Siltronic</td><td>2019</td><td>0</td><td>0</td><td>0</td><td>9823</td></tr><tr><td>Siltronic</td><td>2020</td><td>0</td><td>0</td><td>0</td><td>11126</td></tr><tr><td>Ströer SE</td><td>2030</td><td>0</td><td>0</td><td>0</td><td>13017</td></tr><tr><td>TAG Immobilien</td><td>2017</td><td>0</td><td>0</td><td>0</td><td>17827</td></tr><tr><td>TAG Immobilien</td><td>2018</td><td>0</td><td>0</td><td>0</td><td>20441</td></tr><tr><td>TAG Immobilien</td><td>2019</td><td>0</td><td>0</td><td>0</td><td>26269</td></tr><tr><td>Talanx</td><td>2017</td><td>0</td><td>0</td><td>0</td><td>36043</td></tr><tr><td>Talanx</td><td>2018</td><td>0</td><td>0</td><td>0</td><td>34441</td></tr><tr><td>Talanx</td><td>2019</td><td>0</td><td>0</td><td>0</td><td>35995</td></tr><tr><td>Telefonica Deutschland</td><td>2017</td><td>0</td><td>4</td><td>4</td><td>34276</td></tr><tr><td>Telefonica Deutschland</td><td>2018</td><td>1</td><td>10</td><td>11</td><td>42963</td></tr><tr><td>Telefonica Deutschland</td><td>2019</td><td>0</td><td>9</td><td>9</td><td>48875</td></tr><tr><td>Uniper</td><td>2017</td><td>0</td><td>0</td><td>0</td><td>7919</td></tr><tr><td>Uniper</td><td>2018</td><td>0</td><td>0</td><td>0</td><td>21369</td></tr><tr><td>Uniper</td><td>2019</td><td>0</td><td>0</td><td>0</td><td>25379</td></tr><tr><td>United Internet</td><td>2017</td><td>0</td><td>0</td><td>0</td><td>19412</td></tr><tr><td>United Internet</td><td>2018</td><td>0</td><td>0</td><td>0</td><td>28063</td></tr><tr><td>United Internet</td><td>2019</td><td>8</td><td>4</td><td>12</td><td>40255</td></tr><tr><td>Varta.pdf</td><td></td><td>0</td><td>0</td><td>0</td><td>2388</td></tr><tr><td>WACKER CHEMIE</td><td>2015,2016</td><td>0</td><td>0</td><td>0</td><td>44741</td></tr><tr><td>WACKER CHEMIE</td><td>2017,2018</td><td>0</td><td>0</td><td>0</td><td>51645</td></tr><tr><td>ZALANDO</td><td>2017</td><td>0</td><td>0</td><td>0</td><td>12048</td></tr><tr><td>ZALANDO</td><td>2018</td><td>0</td><td>0</td><td>0</td><td>13900</td></tr><tr><td>ZALANDO</td><td>2019</td><td>0</td><td>4</td><td>4</td><td>65960</td></tr>\n",
       "                </tbody>\n",
       "            </table>    \n",
       "            "
      ],
      "text/plain": [
       "<IPython.core.display.HTML object>"
      ]
     },
     "execution_count": 13,
     "metadata": {},
     "output_type": "execute_result"
    }
   ],
   "source": [
    "occurences = count_occurences(mdax_sustainability_information, ai_keywords_en, ai_keywords_de, ai_keywords)\n",
    "\n",
    "render_table(\n",
    "    occurences,\n",
    "    'Company',\n",
    "    'Year',\n",
    "    'Occurences AI (en)',\n",
    "    'Occurences AI (de)',\n",
    "    'Occurences AI (combined)',\n",
    "    'Words Total'\n",
    ")"
   ]
  }
 ],
 "metadata": {
  "kernelspec": {
   "display_name": "Python 3",
   "language": "python",
   "name": "python3"
  },
  "language_info": {
   "codemirror_mode": {
    "name": "ipython",
    "version": 3
   },
   "file_extension": ".py",
   "mimetype": "text/x-python",
   "name": "python",
   "nbconvert_exporter": "python",
   "pygments_lexer": "ipython3",
   "version": "3.7.9"
  }
 },
 "nbformat": 4,
 "nbformat_minor": 5
}
